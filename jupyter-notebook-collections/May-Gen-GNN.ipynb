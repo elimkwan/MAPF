{
 "cells": [
  {
   "cell_type": "markdown",
   "metadata": {},
   "source": [
    "## Control Variables\n",
    "- Resolution = 0.25\n",
    "- ROBOT_RADIUS = 0.25\n",
    "- NUM_OF_AGENT = 10\n",
    "- ANN Samples = 199\n",
    "- https://github.com/facebookresearch/SEAL_OGB\n",
    "- https://docs.dgl.ai/guide/training-node.html\n",
    "- https://docs.dgl.ai/guide/training-edge.html#guide-training-edge-classification\n",
    "\n",
    "- https://arxiv.org/pdf/1802.09691.pdf\n",
    "- https://arxiv.org/pdf/2010.16103.pdf\n",
    "- https://arxiv.org/abs/1706.02216"
   ]
  },
  {
   "cell_type": "code",
   "execution_count": 117,
   "metadata": {},
   "outputs": [],
   "source": [
    "import BayesianOptimisation.boVoronoiDirected as boVoronoiDirected\n",
    "import BayesianOptimisation.expGrid as expGrid\n",
    "import BayesianOptimisation.expVoronoi as expVoronoi\n",
    "import BayesianOptimisation.bo2VoronoiDirected as bo2VoronoiDirected\n",
    "import BayesianOptimisation.experiment_setup as experiment\n",
    "from core.DataStructure import *\n",
    "\n",
    "from importlib import reload\n",
    "import numpy as np\n",
    "import pandas as pd\n",
    "import seaborn as sb\n",
    "import matplotlib.pyplot as plt\n",
    "import matplotlib.patches as patches\n",
    "from matplotlib.patches import Rectangle\n",
    "import copy"
   ]
  },
  {
   "cell_type": "code",
   "execution_count": 1,
   "metadata": {},
   "outputs": [],
   "source": [
    "import BayesianOptimisation.boVoronoiDirected as boVoronoiDirected\n",
    "import BayesianOptimisation.expGrid as expGrid\n",
    "import BayesianOptimisation.expVoronoi as expVoronoi\n",
    "import BayesianOptimisation.genVoronoiDirected as genVoronoiDirected\n",
    "import BayesianOptimisation.experiment_setup as experiment\n",
    "from core.DataStructure import *\n",
    "\n",
    "\n",
    "import copy\n",
    "import pandas as pd\n",
    "from scipy.optimize import minimize, Bounds\n",
    "import tensorflow as tf\n",
    "from tensorflow import keras\n",
    "from tensorflow.keras.layers import Conv2D, MaxPooling2D, Dense, Flatten, Dropout, Reshape\n",
    "from tensorflow.keras.utils import plot_model\n",
    "from sklearn.model_selection import train_test_split\n",
    "\n",
    "from torch_geometric.utils.convert import from_networkx, to_networkx\n",
    "import networkx as nx\n",
    "from torch_geometric.data import Data, DataLoader\n",
    "\n",
    "from typing import Optional\n",
    "import torch\n",
    "from torch import Tensor\n",
    "import torch.nn.functional as F\n",
    "from torch.nn import ModuleList, Sequential, Linear, BatchNorm1d, ReLU, Dropout, Sigmoid\n",
    "from pytorch_lightning.metrics import Accuracy\n",
    "from pytorch_lightning.callbacks import ModelCheckpoint\n",
    "from pytorch_lightning import (LightningDataModule, LightningModule, Trainer,\n",
    "                               seed_everything)\n",
    "\n",
    "from torch_sparse import SparseTensor\n",
    "from torch_scatter import segment_csr\n",
    "import torch_geometric.transforms as T\n",
    "from torch_geometric.nn import GINConv\n",
    "from torch_geometric.datasets import TUDataset\n",
    "from torch_geometric.data import Batch, DataLoader\n",
    "\n",
    "from torch_geometric.utils import train_test_split_edges"
   ]
  },
  {
   "cell_type": "code",
   "execution_count": 44,
   "metadata": {},
   "outputs": [],
   "source": [
    "X_read = pd.read_csv(\"./data/gen-starts-ends/X.csv\")\n",
    "X = X_read.to_numpy()\n",
    "locations = X.reshape((-1,10,4))\n",
    "\n",
    "X_read = pd.read_csv(\"./data/gen-starts-ends/Y.csv\")\n",
    "X = X_read.to_numpy()\n",
    "probabilities = X.reshape((199,-1))\n",
    "\n",
    "X_read = pd.read_csv(\"./data/gen-starts-ends/trainable_edges.csv\")\n",
    "X = X_read.to_numpy()\n",
    "edges = X.reshape((-1,4))"
   ]
  },
  {
   "cell_type": "code",
   "execution_count": 3,
   "metadata": {
    "code_folding": [
     0
    ]
   },
   "outputs": [],
   "source": [
    "# Node as node\n",
    "# assigned = []\n",
    "# nodes = []\n",
    "# n_to_loc = {}\n",
    "# loc_to_n = {}\n",
    "# for e in edges:\n",
    "#     for i in range (0,4,2):\n",
    "#         if frozenset(e[i:i+2]) not in assigned:\n",
    "#             assigned.append(frozenset(e[i:i+2]))\n",
    "#             nodes.append(e[i:i+2])\n",
    "#             n_to_loc[len(nodes)-1] = e[i:i+2]\n",
    "#             loc_to_n[frozenset(e[i:i+2])] = len(nodes)-1\n",
    "            \n",
    "# temp_G = nx.Graph()\n",
    "# for e in edges:\n",
    "#     n1 = loc_to_n[frozenset(e[0:2])]\n",
    "#     n2 = loc_to_n[frozenset(e[2:4])]\n",
    "#     temp_G.add_nodes_from([\n",
    "#         (n1, {\"position\": e[0:2]}),\n",
    "#         (n2, {\"position\": e[2:4]}),\n",
    "#     ])\n",
    "#     temp_G.add_edge(n1,n2)"
   ]
  },
  {
   "cell_type": "code",
   "execution_count": 38,
   "metadata": {
    "scrolled": true
   },
   "outputs": [
    {
     "data": {
      "text/plain": [
       "447"
      ]
     },
     "execution_count": 38,
     "metadata": {},
     "output_type": "execute_result"
    }
   ],
   "source": [
    "# starts = edges[:,:2]\n",
    "# ends = edges[:,:2]\n",
    "# starts_loc_to_n = {frozenset(k): v for v, k in enumerate(starts)}\n",
    "# starts_n_to_loc = {v: k for v, k in enumerate(starts)}\n",
    "# ends_loc_to_n = {frozenset(k): v for v, k in enumerate(ends)}\n",
    "# ends_n_to_loc = {v: k for v, k in enumerate(ends)}"
   ]
  },
  {
   "cell_type": "code",
   "execution_count": 46,
   "metadata": {},
   "outputs": [
    {
     "data": {
      "text/plain": [
       "(199, 10, 4)"
      ]
     },
     "execution_count": 46,
     "metadata": {},
     "output_type": "execute_result"
    }
   ],
   "source": [
    "# locations.shape"
   ]
  },
  {
   "cell_type": "code",
   "execution_count": 48,
   "metadata": {},
   "outputs": [],
   "source": [
    "# starts = locations[:,:,:2]\n",
    "# ends = locations[:,:,2:]\n",
    "# starts_loc_to_n = {frozenset(k): v for v, k in enumerate(starts)}\n",
    "# starts_n_to_loc = {v: k for v, k in enumerate(starts)}\n",
    "# ends_loc_to_n = {frozenset(k): v for v, k in enumerate(ends)}\n",
    "# ends_n_to_loc = {v: k for v, k in enumerate(ends)}"
   ]
  },
  {
   "cell_type": "code",
   "execution_count": 51,
   "metadata": {},
   "outputs": [],
   "source": [
    "device = 'cuda' if torch.cuda.is_available() else 'cpu'\n",
    "num_nodes = 447\n",
    "\n",
    "# Edge as Node\n",
    "data_list =[]\n",
    "for sam in range(199):\n",
    "    sample = sam\n",
    "    \n",
    "    starts = locations[sample,:,:2]\n",
    "    ends = locations[sample,:,2:]\n",
    "    starts_loc_to_n = {frozenset(k): v for v, k in enumerate(starts)}\n",
    "    starts_n_to_loc = {v: k for v, k in enumerate(starts)}\n",
    "    ends_loc_to_n = {frozenset(k): v for v, k in enumerate(ends)}\n",
    "    ends_n_to_loc = {v: k for v, k in enumerate(ends)}\n",
    "    \n",
    "    G = nx.Graph()\n",
    "    connecting_edges = []\n",
    "\n",
    "    for idx, e in enumerate(edges):\n",
    "        # Add info about start end locations\n",
    "        # [1,0,0,0] => e[0:2] is start\n",
    "        case = np.zeros(4)\n",
    "        if frozenset(e[0:2]) in starts_loc_to_n.keys():\n",
    "            np.add(case, np.array([1,0,0,0]))\n",
    "        if frozenset(e[0:2]) in ends_loc_to_n.keys():\n",
    "            np.add(case, np.array([0,1,0,0]))\n",
    "        if frozenset(e[2:4]) in starts_loc_to_n.keys():\n",
    "            np.add(case, np.array([0,0,1,0]))\n",
    "#         if frozenset(e[2:4]) in ends_loc_to_n.keys():\n",
    "            np.add(case, np.array([0,0,0,1]))\n",
    "        \n",
    "        G.add_nodes_from([\n",
    "#             (idx, {\"position\": e,\"probability\": probabilities[sample,idx]}),\n",
    "            (idx, {\"position\": e, \"x\": case}),\n",
    "        ])\n",
    "\n",
    "    for cur, e in enumerate(edges):\n",
    "        for ite in range(0,4,2):\n",
    "            #find connecting edges\n",
    "            if frozenset(e[ite:ite+2]) in starts_loc_to_n.keys():\n",
    "                neigh = starts_loc_to_n[frozenset(e[ite:ite+2])]\n",
    "                if neigh != cur:\n",
    "                    G.add_edge(cur, neigh)\n",
    "            if frozenset(e[ite:ite+2]) in ends_loc_to_n.keys():\n",
    "                neigh = ends_loc_to_n[frozenset(e[ite:ite+2])]\n",
    "                if neigh != cur:\n",
    "                    G.add_edge(cur, neigh)\n",
    "\n",
    "    data_g = from_networkx(G)\n",
    "    data_g.y = torch.from_numpy(probabilities[sample][:-3]).float()\n",
    "    adj = SparseTensor(row=data_g.edge_index[0], col=data_g.edge_index[1], sparse_sizes=(num_nodes, num_nodes))\n",
    "    data_g.adj_t = adj\n",
    "#     train_data = np.zeros(len(data_g.y))\n",
    "#     train_data[:300] = True\n",
    "#     arr1 = train_data.astype(np.bool)\n",
    "#     arr2 = np.logical_not(train_data).astype(np.bool)\n",
    "#     data_g.train_mask = torch.from_numpy(arr1).type(torch.bool)\n",
    "#     data_g.test_mask = torch.from_numpy(arr2).type(torch.bool)\n",
    "    data_list.append(data_g)"
   ]
  },
  {
   "cell_type": "code",
   "execution_count": 6,
   "metadata": {},
   "outputs": [],
   "source": [
    "# loader = DataLoader(data_list, batch_size=32)"
   ]
  },
  {
   "cell_type": "markdown",
   "metadata": {},
   "source": [
    "### Model"
   ]
  },
  {
   "cell_type": "code",
   "execution_count": 7,
   "metadata": {
    "code_folding": []
   },
   "outputs": [],
   "source": [
    "# k = T.Compose([\n",
    "#     T.OneHotDegree(4 - 1),\n",
    "#     T.ToSparseTensor(),\n",
    "# ])\n",
    "\n",
    "# loader = DataLoader(data_list, batch_size=32)\n",
    "# k(data_list[0])\n"
   ]
  },
  {
   "cell_type": "code",
   "execution_count": 52,
   "metadata": {
    "code_folding": []
   },
   "outputs": [],
   "source": [
    "class MyOwnDataset(LightningDataModule):\n",
    "    def __init__(self, raw_data_list):\n",
    "        super().__init__()\n",
    "        self.raw_data_list = raw_data_list\n",
    "        self.transform = T.Compose([\n",
    "            T.ToSparseTensor(),\n",
    "        ])\n",
    "\n",
    "    @property\n",
    "    def num_features(self) -> int:\n",
    "        return 4\n",
    "\n",
    "    @property\n",
    "    def num_classes(self) -> int:\n",
    "        return 447\n",
    "\n",
    "    def setup(self, stage: Optional[str] = None):\n",
    "        dataset = self.raw_data_list\n",
    "        \n",
    "        for d in dataset:\n",
    "            self.transform(d)\n",
    "        \n",
    "        self.test_dataset = dataset[:len(dataset) // 10]\n",
    "        self.val_dataset = dataset[len(dataset) // 10:len(dataset) // 5]\n",
    "        self.train_dataset = dataset[len(dataset) // 5:]\n",
    "\n",
    "    def train_dataloader(self):\n",
    "        return DataLoader(self.train_dataset, batch_size=32, shuffle=True)\n",
    "\n",
    "    def val_dataloader(self):\n",
    "        return DataLoader(self.val_dataset, batch_size=32)\n",
    "\n",
    "    def test_dataloader(self):\n",
    "        return DataLoader(self.test_dataset, batch_size=32)\n",
    "        "
   ]
  },
  {
   "cell_type": "code",
   "execution_count": 53,
   "metadata": {
    "code_folding": []
   },
   "outputs": [],
   "source": [
    "class GIN(LightningModule):\n",
    "    def __init__(self, in_channels: int, out_channels: int,\n",
    "                 hidden_channels: int = 64, num_layers: int = 3, \n",
    "                 dropout: float = 0.5):\n",
    "        super().__init__()\n",
    "        self.save_hyperparameters()\n",
    "\n",
    "        self.convs = ModuleList()\n",
    "        for _ in range(num_layers):\n",
    "            mlp = Sequential(\n",
    "                Linear(in_channels, 2 * hidden_channels),\n",
    "                BatchNorm1d(2 * hidden_channels),\n",
    "                ReLU(inplace=True),\n",
    "                Linear(2 * hidden_channels, hidden_channels),\n",
    "                BatchNorm1d(hidden_channels),\n",
    "                ReLU(inplace=True),\n",
    "            )\n",
    "            conv = GINConv(mlp, train_eps=True)\n",
    "            self.convs.append(conv)\n",
    "            in_channels = hidden_channels\n",
    "\n",
    "        self.regressor = Sequential(\n",
    "            Linear(hidden_channels, hidden_channels),\n",
    "            BatchNorm1d(hidden_channels),\n",
    "            ReLU(inplace=True),\n",
    "#             Dropout(p=dropout),\n",
    "            Linear(hidden_channels, out_channels),\n",
    "            Sigmoid(),\n",
    "        )\n",
    "        \n",
    "\n",
    "#         self.train_acc = Accuracy()\n",
    "#         self.val_acc = Accuracy()\n",
    "#         self.test_acc = Accuracy()\n",
    "#         self.train_loss = Loss()\n",
    "#         self.val_loss = Loss()\n",
    "#         self.test_loss = Loss()\n",
    "        \n",
    "\n",
    "    def forward(self, x: Tensor, adj_t: SparseTensor, ptr: Tensor) -> Tensor:\n",
    "        for conv in self.convs:\n",
    "            x = conv(x.float(), adj_t)\n",
    "        x = segment_csr(x, ptr, reduce='sum')  # Global add pooling.\n",
    "        return self.regressor(x)\n",
    "\n",
    "    def training_step(self, batch: Batch, batch_idx: int):\n",
    "        y_hat = self(batch.x, batch.adj_t, batch.ptr)\n",
    "        a = y_hat\n",
    "        b = torch.reshape(batch.y, (-1, 447))\n",
    "        train_loss = F.mse_loss(a,b)\n",
    "        self.log('train_loss', train_loss, prog_bar=True, on_step=False,\n",
    "                 on_epoch=True)\n",
    "        return train_loss\n",
    "\n",
    "    def validation_step(self, batch: Batch, batch_idx: int):\n",
    "        y_hat = self(batch.x, batch.adj_t, batch.ptr)\n",
    "        a = y_hat\n",
    "        b = torch.reshape(batch.y, (-1, 447))\n",
    "        val_loss = F.mse_loss(a,b)\n",
    "        self.log('val_loss', val_loss, prog_bar=True, on_step=False,\n",
    "                 on_epoch=True)\n",
    "        return val_loss\n",
    "\n",
    "    def test_step(self, batch: Batch, batch_idx: int):\n",
    "        y_hat = self(batch.x, batch.adj_t, batch.ptr)\n",
    "        a = y_hat\n",
    "        b = torch.reshape(batch.y, (-1, 447))\n",
    "        test_loss = F.mse_loss(a,b)\n",
    "        self.log('test_loss', test_loss, prog_bar=True, on_step=False,\n",
    "                 on_epoch=True)\n",
    "        return test_loss\n",
    "\n",
    "    def configure_optimizers(self):\n",
    "        return torch.optim.Adam(self.parameters(), lr=0.0001)\n",
    "    "
   ]
  },
  {
   "cell_type": "code",
   "execution_count": 54,
   "metadata": {},
   "outputs": [
    {
     "name": "stderr",
     "output_type": "stream",
     "text": [
      "Global seed set to 42\n"
     ]
    }
   ],
   "source": [
    "seed_everything(42)\n",
    "data_l = copy.deepcopy(data_list)\n",
    "datamodule = MyOwnDataset(data_l)\n",
    "datamodule.setup()"
   ]
  },
  {
   "cell_type": "markdown",
   "metadata": {},
   "source": [
    "### Training"
   ]
  },
  {
   "cell_type": "code",
   "execution_count": 56,
   "metadata": {
    "scrolled": false
   },
   "outputs": [
    {
     "name": "stderr",
     "output_type": "stream",
     "text": [
      "GPU available: True, used: True\n",
      "TPU available: False, using: 0 TPU cores\n",
      "LOCAL_RANK: 0 - CUDA_VISIBLE_DEVICES: [0]\n",
      "\n",
      "  | Name      | Type       | Params\n",
      "-----------------------------------------\n",
      "0 | convs     | ModuleList | 43.2 K\n",
      "1 | regressor | Sequential | 33.3 K\n",
      "-----------------------------------------\n",
      "76.5 K    Trainable params\n",
      "0         Non-trainable params\n",
      "76.5 K    Total params\n",
      "0.306     Total estimated model params size (MB)\n"
     ]
    },
    {
     "data": {
      "application/vnd.jupyter.widget-view+json": {
       "model_id": "",
       "version_major": 2,
       "version_minor": 0
      },
      "text/plain": [
       "Validation sanity check: 0it [00:00, ?it/s]"
      ]
     },
     "metadata": {},
     "output_type": "display_data"
    },
    {
     "data": {
      "application/vnd.jupyter.widget-view+json": {
       "model_id": "271f8454e4274849882a713eff7ccb41",
       "version_major": 2,
       "version_minor": 0
      },
      "text/plain": [
       "Training: 0it [00:00, ?it/s]"
      ]
     },
     "metadata": {},
     "output_type": "display_data"
    },
    {
     "data": {
      "application/vnd.jupyter.widget-view+json": {
       "model_id": "",
       "version_major": 2,
       "version_minor": 0
      },
      "text/plain": [
       "Validating: 0it [00:00, ?it/s]"
      ]
     },
     "metadata": {},
     "output_type": "display_data"
    },
    {
     "data": {
      "application/vnd.jupyter.widget-view+json": {
       "model_id": "",
       "version_major": 2,
       "version_minor": 0
      },
      "text/plain": [
       "Validating: 0it [00:00, ?it/s]"
      ]
     },
     "metadata": {},
     "output_type": "display_data"
    },
    {
     "data": {
      "application/vnd.jupyter.widget-view+json": {
       "model_id": "",
       "version_major": 2,
       "version_minor": 0
      },
      "text/plain": [
       "Validating: 0it [00:00, ?it/s]"
      ]
     },
     "metadata": {},
     "output_type": "display_data"
    },
    {
     "data": {
      "application/vnd.jupyter.widget-view+json": {
       "model_id": "",
       "version_major": 2,
       "version_minor": 0
      },
      "text/plain": [
       "Validating: 0it [00:00, ?it/s]"
      ]
     },
     "metadata": {},
     "output_type": "display_data"
    },
    {
     "data": {
      "application/vnd.jupyter.widget-view+json": {
       "model_id": "",
       "version_major": 2,
       "version_minor": 0
      },
      "text/plain": [
       "Validating: 0it [00:00, ?it/s]"
      ]
     },
     "metadata": {},
     "output_type": "display_data"
    },
    {
     "data": {
      "application/vnd.jupyter.widget-view+json": {
       "model_id": "",
       "version_major": 2,
       "version_minor": 0
      },
      "text/plain": [
       "Validating: 0it [00:00, ?it/s]"
      ]
     },
     "metadata": {},
     "output_type": "display_data"
    },
    {
     "data": {
      "application/vnd.jupyter.widget-view+json": {
       "model_id": "",
       "version_major": 2,
       "version_minor": 0
      },
      "text/plain": [
       "Validating: 0it [00:00, ?it/s]"
      ]
     },
     "metadata": {},
     "output_type": "display_data"
    },
    {
     "data": {
      "application/vnd.jupyter.widget-view+json": {
       "model_id": "",
       "version_major": 2,
       "version_minor": 0
      },
      "text/plain": [
       "Validating: 0it [00:00, ?it/s]"
      ]
     },
     "metadata": {},
     "output_type": "display_data"
    },
    {
     "data": {
      "application/vnd.jupyter.widget-view+json": {
       "model_id": "",
       "version_major": 2,
       "version_minor": 0
      },
      "text/plain": [
       "Validating: 0it [00:00, ?it/s]"
      ]
     },
     "metadata": {},
     "output_type": "display_data"
    },
    {
     "data": {
      "application/vnd.jupyter.widget-view+json": {
       "model_id": "",
       "version_major": 2,
       "version_minor": 0
      },
      "text/plain": [
       "Validating: 0it [00:00, ?it/s]"
      ]
     },
     "metadata": {},
     "output_type": "display_data"
    },
    {
     "name": "stderr",
     "output_type": "stream",
     "text": [
      "LOCAL_RANK: 0 - CUDA_VISIBLE_DEVICES: [0]\n"
     ]
    },
    {
     "data": {
      "application/vnd.jupyter.widget-view+json": {
       "model_id": "555024ff2488412eac9936d7d7e17bb5",
       "version_major": 2,
       "version_minor": 0
      },
      "text/plain": [
       "Testing: 0it [00:00, ?it/s]"
      ]
     },
     "metadata": {},
     "output_type": "display_data"
    },
    {
     "name": "stdout",
     "output_type": "stream",
     "text": [
      "ptr tensor([   0,  447,  894, 1341, 1788, 2235, 2682, 3129, 3576, 4023, 4470, 4917,\n",
      "        5364, 5811, 6258, 6705, 7152, 7599, 8046, 8493], device='cuda:0')\n",
      "--------------------------------------------------------------------------------\n",
      "DATALOADER:0 TEST RESULTS\n",
      "{'test_loss': 0.08904783427715302}\n",
      "--------------------------------------------------------------------------------\n"
     ]
    },
    {
     "data": {
      "text/plain": [
       "[{'test_loss': 0.08904783427715302}]"
      ]
     },
     "execution_count": 56,
     "metadata": {},
     "output_type": "execute_result"
    }
   ],
   "source": [
    "model = GIN(datamodule.num_features, datamodule.num_classes)\n",
    "checkpoint_callback = ModelCheckpoint(dirpath='./data/gnn', monitor='val_loss', mode='min', save_top_k=1)\n",
    "trainer = Trainer(gpus=1, max_epochs=10, callbacks=[checkpoint_callback])\n",
    "\n",
    "# Uncomment to train on multiple GPUs:\n",
    "# trainer = Trainer(gpus=2, accelerator='ddp', max_epochs=20,\n",
    "#                   callbacks=[checkpoint_callback])\n",
    "\n",
    "trainer.fit(model, datamodule=datamodule)\n",
    "trainer.test()"
   ]
  },
  {
   "cell_type": "markdown",
   "metadata": {},
   "source": [
    "### Testing on singel sample"
   ]
  },
  {
   "cell_type": "code",
   "execution_count": 103,
   "metadata": {},
   "outputs": [],
   "source": [
    "sample = 198\n",
    "\n",
    "starts = locations[sample,:,:2]\n",
    "ends = locations[sample,:,2:]\n",
    "starts_loc_to_n = {frozenset(k): v for v, k in enumerate(starts)}\n",
    "starts_n_to_loc = {v: k for v, k in enumerate(starts)}\n",
    "ends_loc_to_n = {frozenset(k): v for v, k in enumerate(ends)}\n",
    "ends_n_to_loc = {v: k for v, k in enumerate(ends)}\n",
    "\n",
    "G = nx.Graph()\n",
    "connecting_edges = []\n",
    "\n",
    "for idx, e in enumerate(edges):\n",
    "    # Add info about start end locations\n",
    "    # [1,0,0,0] => e[0:2] is start\n",
    "    case = np.zeros(4)\n",
    "    if frozenset(e[0:2]) in starts_loc_to_n.keys():\n",
    "        np.add(case, np.array([1,0,0,0]))\n",
    "    if frozenset(e[0:2]) in ends_loc_to_n.keys():\n",
    "        np.add(case, np.array([0,1,0,0]))\n",
    "    if frozenset(e[2:4]) in starts_loc_to_n.keys():\n",
    "        np.add(case, np.array([0,0,1,0]))\n",
    "#         if frozenset(e[2:4]) in ends_loc_to_n.keys():\n",
    "        np.add(case, np.array([0,0,0,1]))\n",
    "\n",
    "    G.add_nodes_from([\n",
    "#             (idx, {\"position\": e,\"probability\": probabilities[sample,idx]}),\n",
    "        (idx, {\"position\": e, \"x\": case}),\n",
    "    ])\n",
    "\n",
    "for cur, e in enumerate(edges):\n",
    "    for ite in range(0,4,2):\n",
    "        #find connecting edges\n",
    "        if frozenset(e[ite:ite+2]) in starts_loc_to_n.keys():\n",
    "            neigh = starts_loc_to_n[frozenset(e[ite:ite+2])]\n",
    "            if neigh != cur:\n",
    "                G.add_edge(cur, neigh)\n",
    "        if frozenset(e[ite:ite+2]) in ends_loc_to_n.keys():\n",
    "            neigh = ends_loc_to_n[frozenset(e[ite:ite+2])]\n",
    "            if neigh != cur:\n",
    "                G.add_edge(cur, neigh)\n",
    "\n",
    "data_g = from_networkx(G)\n",
    "data_g.y = torch.from_numpy(probabilities[sample][:-3]).float()\n",
    "adj = SparseTensor(row=data_g.edge_index[0], col=data_g.edge_index[1], sparse_sizes=(num_nodes, num_nodes))\n",
    "data_g.adj_t = adj\n",
    "temp = np.zeros(20).astype(int)\n",
    "# temp = np.array([0,  447,  894, 1341, 1788, 2235, 2682, 3129, 3576, 4023, 4470, 4917, 5364, 5811, 6258, 6705, 7152, 7599, 8046, 8493])\n",
    "data_g.ptr = torch.from_numpy(temp)"
   ]
  },
  {
   "cell_type": "code",
   "execution_count": 104,
   "metadata": {},
   "outputs": [
    {
     "data": {
      "text/plain": [
       "GIN(\n",
       "  (convs): ModuleList(\n",
       "    (0): GINConv(nn=Sequential(\n",
       "      (0): Linear(in_features=4, out_features=128, bias=True)\n",
       "      (1): BatchNorm1d(128, eps=1e-05, momentum=0.1, affine=True, track_running_stats=True)\n",
       "      (2): ReLU(inplace=True)\n",
       "      (3): Linear(in_features=128, out_features=64, bias=True)\n",
       "      (4): BatchNorm1d(64, eps=1e-05, momentum=0.1, affine=True, track_running_stats=True)\n",
       "      (5): ReLU(inplace=True)\n",
       "    ))\n",
       "    (1): GINConv(nn=Sequential(\n",
       "      (0): Linear(in_features=64, out_features=128, bias=True)\n",
       "      (1): BatchNorm1d(128, eps=1e-05, momentum=0.1, affine=True, track_running_stats=True)\n",
       "      (2): ReLU(inplace=True)\n",
       "      (3): Linear(in_features=128, out_features=64, bias=True)\n",
       "      (4): BatchNorm1d(64, eps=1e-05, momentum=0.1, affine=True, track_running_stats=True)\n",
       "      (5): ReLU(inplace=True)\n",
       "    ))\n",
       "    (2): GINConv(nn=Sequential(\n",
       "      (0): Linear(in_features=64, out_features=128, bias=True)\n",
       "      (1): BatchNorm1d(128, eps=1e-05, momentum=0.1, affine=True, track_running_stats=True)\n",
       "      (2): ReLU(inplace=True)\n",
       "      (3): Linear(in_features=128, out_features=64, bias=True)\n",
       "      (4): BatchNorm1d(64, eps=1e-05, momentum=0.1, affine=True, track_running_stats=True)\n",
       "      (5): ReLU(inplace=True)\n",
       "    ))\n",
       "  )\n",
       "  (regressor): Sequential(\n",
       "    (0): Linear(in_features=64, out_features=64, bias=True)\n",
       "    (1): BatchNorm1d(64, eps=1e-05, momentum=0.1, affine=True, track_running_stats=True)\n",
       "    (2): ReLU(inplace=True)\n",
       "    (3): Linear(in_features=64, out_features=447, bias=True)\n",
       "    (4): Sigmoid()\n",
       "  )\n",
       ")"
      ]
     },
     "execution_count": 104,
     "metadata": {},
     "output_type": "execute_result"
    }
   ],
   "source": [
    "rmodel"
   ]
  },
  {
   "cell_type": "code",
   "execution_count": 105,
   "metadata": {},
   "outputs": [],
   "source": [
    "rmodel = GIN(datamodule.num_features, datamodule.num_classes)\n",
    "path = checkpoint_callback.best_model_path\n",
    "rmodel.load_from_checkpoint(checkpoint_path=path)\n",
    "rmodel.freeze()\n",
    "out = rmodel(data_g.x, data_g.adj_t, data_g.ptr)[0]"
   ]
  },
  {
   "cell_type": "code",
   "execution_count": 106,
   "metadata": {
    "scrolled": false
   },
   "outputs": [
    {
     "data": {
      "text/plain": [
       "array([0.51050186, 0.5170855 , 0.5093229 , 0.474993  , 0.53247243,\n",
       "       0.5071284 , 0.478781  , 0.4868563 , 0.497228  , 0.5244495 ,\n",
       "       0.4994011 , 0.52636015, 0.5072379 , 0.5078909 , 0.51374483,\n",
       "       0.4765622 , 0.517726  , 0.46604827, 0.5005789 , 0.54411936,\n",
       "       0.4746751 , 0.4875618 , 0.46633223, 0.4832639 , 0.48848408,\n",
       "       0.48784694, 0.51044375, 0.48862195, 0.47255823, 0.50119555,\n",
       "       0.49329993, 0.513088  , 0.51484436, 0.5355671 , 0.4751445 ,\n",
       "       0.46784678, 0.4741164 , 0.49105787, 0.5147887 , 0.49391925,\n",
       "       0.5279798 , 0.49253774, 0.48165977, 0.4888864 , 0.46960518,\n",
       "       0.49269274, 0.48055625, 0.5287622 , 0.47203338, 0.48033395,\n",
       "       0.48513848, 0.52840954, 0.51825005, 0.5353131 , 0.4844653 ,\n",
       "       0.5221541 , 0.5287732 , 0.5252235 , 0.4895362 , 0.50210744,\n",
       "       0.53697205, 0.49913064, 0.49082813, 0.47025767, 0.47788894,\n",
       "       0.51586777, 0.5055515 , 0.51589   , 0.5049596 , 0.48221338,\n",
       "       0.5127496 , 0.52638745, 0.50712776, 0.51022816, 0.48921815,\n",
       "       0.46717042, 0.46548408, 0.4843226 , 0.50485414, 0.5131208 ,\n",
       "       0.47662058, 0.49112192, 0.5148225 , 0.5220849 , 0.4774973 ,\n",
       "       0.50175697, 0.49534556, 0.49241057, 0.48245582, 0.48805895,\n",
       "       0.5218317 , 0.49934033, 0.51252115, 0.50884396, 0.48587754,\n",
       "       0.4771541 , 0.50583833, 0.48400638, 0.4753687 , 0.492162  ,\n",
       "       0.47804067, 0.47230542, 0.49178565, 0.5249605 , 0.513541  ,\n",
       "       0.5337391 , 0.49776414, 0.5108587 , 0.49927655, 0.52615047,\n",
       "       0.46427777, 0.48264402, 0.5017648 , 0.5026635 , 0.4847587 ,\n",
       "       0.5253099 , 0.50362414, 0.5028355 , 0.46730325, 0.4879131 ,\n",
       "       0.5172274 , 0.540747  , 0.48629048, 0.49434388, 0.5085241 ,\n",
       "       0.4960656 , 0.48982078, 0.47813156, 0.47048894, 0.5269819 ,\n",
       "       0.5234886 , 0.5096302 , 0.50463724, 0.53860575, 0.5007277 ,\n",
       "       0.49029723, 0.5049743 , 0.5009319 , 0.50162506, 0.4988614 ,\n",
       "       0.48957014, 0.5337548 , 0.51077366, 0.5032503 , 0.500594  ,\n",
       "       0.49587885, 0.4931536 , 0.4745509 , 0.4854078 , 0.5018761 ,\n",
       "       0.50325125, 0.4986607 , 0.51263255, 0.5270366 , 0.50865734,\n",
       "       0.51958126, 0.4817064 , 0.47577545, 0.51684713, 0.5336794 ,\n",
       "       0.4616888 , 0.51101536, 0.48751444, 0.53478265, 0.48988876,\n",
       "       0.49281117, 0.48329815, 0.47363198, 0.5139318 , 0.50042355,\n",
       "       0.48894522, 0.47956443, 0.4791185 , 0.4971589 , 0.5249027 ,\n",
       "       0.5218541 , 0.51289696, 0.5322406 , 0.4985042 , 0.5079808 ,\n",
       "       0.51708406, 0.48798984, 0.48288953, 0.47303843, 0.48555806,\n",
       "       0.46922743, 0.5099814 , 0.48387522, 0.4876022 , 0.51836103,\n",
       "       0.48197216, 0.5452683 , 0.46450308, 0.47458693, 0.5308524 ,\n",
       "       0.4840726 , 0.47146356, 0.45960584, 0.5365956 , 0.50193024,\n",
       "       0.51918423, 0.4994345 , 0.46430662, 0.52437526, 0.5571364 ,\n",
       "       0.48770386, 0.47738895, 0.4914721 , 0.5014652 , 0.47795525,\n",
       "       0.4927448 , 0.48923156, 0.49571827, 0.48057777, 0.5150059 ,\n",
       "       0.5309732 , 0.5258964 , 0.50329113, 0.47695053, 0.48612386,\n",
       "       0.4745993 , 0.5159746 , 0.45646346, 0.4854941 , 0.5032379 ,\n",
       "       0.49330708, 0.49801555, 0.52599025, 0.49434748, 0.5281872 ,\n",
       "       0.5215955 , 0.5288476 , 0.52923363, 0.53176683, 0.48125476,\n",
       "       0.5281458 , 0.5164881 , 0.48743466, 0.48731005, 0.5010416 ,\n",
       "       0.51908624, 0.47130644, 0.5032785 , 0.46327266, 0.4737926 ,\n",
       "       0.5278903 , 0.5116941 , 0.4786821 , 0.496619  , 0.4880456 ,\n",
       "       0.47733375, 0.51474595, 0.4690688 , 0.5176109 , 0.50257874,\n",
       "       0.47933313, 0.5165643 , 0.5220841 , 0.47907698, 0.5124587 ,\n",
       "       0.5267632 , 0.49053377, 0.5248287 , 0.47345087, 0.51399344,\n",
       "       0.49842757, 0.48610392, 0.5073863 , 0.47520363, 0.48523203,\n",
       "       0.5187828 , 0.5166156 , 0.4998173 , 0.52478427, 0.5208883 ,\n",
       "       0.516292  , 0.48764473, 0.5239177 , 0.5189952 , 0.51173115,\n",
       "       0.5054247 , 0.5329347 , 0.47347897, 0.49924073, 0.5228145 ,\n",
       "       0.52184737, 0.5206111 , 0.5138932 , 0.49066275, 0.51515746,\n",
       "       0.49981987, 0.53300405, 0.49365655, 0.52479094, 0.5297105 ,\n",
       "       0.5296345 , 0.50932   , 0.46301875, 0.52032244, 0.4945903 ,\n",
       "       0.53309584, 0.51297474, 0.50831175, 0.4770224 , 0.48764274,\n",
       "       0.48193607, 0.4690721 , 0.5224949 , 0.47210392, 0.4831119 ,\n",
       "       0.5355493 , 0.5090464 , 0.4817048 , 0.5004553 , 0.48563117,\n",
       "       0.5211976 , 0.52270854, 0.5066937 , 0.45219433, 0.525138  ,\n",
       "       0.47464135, 0.49206737, 0.47814366, 0.487775  , 0.5257935 ,\n",
       "       0.5001759 , 0.50073457, 0.47717866, 0.5132469 , 0.50098723,\n",
       "       0.48841748, 0.484351  , 0.51752406, 0.50023514, 0.4702442 ,\n",
       "       0.47359636, 0.52457243, 0.48337597, 0.5132245 , 0.46747103,\n",
       "       0.4877389 , 0.5199959 , 0.49514183, 0.48113158, 0.52526224,\n",
       "       0.48082635, 0.5188205 , 0.48282093, 0.50140065, 0.4855249 ,\n",
       "       0.4953653 , 0.5027341 , 0.51215285, 0.46279737, 0.462151  ,\n",
       "       0.4798816 , 0.4963627 , 0.4632653 , 0.5179666 , 0.5182737 ,\n",
       "       0.49334213, 0.4745886 , 0.4791104 , 0.4982824 , 0.5271024 ,\n",
       "       0.48718756, 0.5209316 , 0.49045247, 0.49454275, 0.47660097,\n",
       "       0.4709323 , 0.47028258, 0.4729805 , 0.47305742, 0.5262386 ,\n",
       "       0.48133704, 0.50186306, 0.50328374, 0.48169774, 0.5150783 ,\n",
       "       0.4916646 , 0.47998685, 0.4794774 , 0.51715505, 0.46394664,\n",
       "       0.5246675 , 0.48351756, 0.5283807 , 0.5218051 , 0.46850252,\n",
       "       0.4843785 , 0.5094631 , 0.50756115, 0.5124599 , 0.5246112 ,\n",
       "       0.50036114, 0.48036245, 0.46598387, 0.508892  , 0.48138255,\n",
       "       0.48110834, 0.48937294, 0.5169864 , 0.46206525, 0.47181186,\n",
       "       0.474437  , 0.49471515, 0.48759994, 0.49430373, 0.49411434,\n",
       "       0.5057954 , 0.51435196, 0.49496222, 0.5253624 , 0.4807882 ,\n",
       "       0.53047854, 0.5209619 , 0.48068494, 0.51110685, 0.4664703 ,\n",
       "       0.47277886, 0.51550126, 0.47307685, 0.51646066, 0.4573303 ,\n",
       "       0.5109961 , 0.54532033, 0.5073151 , 0.47572854, 0.5114295 ,\n",
       "       0.47177857, 0.48664412, 0.51042575, 0.51422256, 0.5095278 ,\n",
       "       0.52188087, 0.52822435, 0.48732784, 0.50665313, 0.50423545,\n",
       "       0.50784546, 0.50203824, 0.52418494, 0.5019909 , 0.5060982 ,\n",
       "       0.5124346 , 0.4769014 ], dtype=float32)"
      ]
     },
     "execution_count": 106,
     "metadata": {},
     "output_type": "execute_result"
    }
   ],
   "source": [
    "out.numpy()"
   ]
  },
  {
   "cell_type": "code",
   "execution_count": null,
   "metadata": {},
   "outputs": [],
   "source": [
    "# probabilities = out.numpy()\n",
    "# start = starts\n",
    "# end = ends\n",
    "# edge_loc = edges\n",
    "\n",
    "# G_f = nx.MultiDiGraph()\n",
    "# for e in edge_loc:\n",
    "#     G_f.add_edge()"
   ]
  },
  {
   "cell_type": "code",
   "execution_count": 79,
   "metadata": {
    "scrolled": true
   },
   "outputs": [],
   "source": [
    "# dataset = copy.deepcopy(data_list)\n",
    "# test_dataset = dataset[:len(dataset) // 10]\n",
    "# G_test = to_networkx(test_dataset[0])\n",
    "\n",
    "# num_nodes = 447\n",
    "# data_g = from_networkx(G_test)\n",
    "# adj = SparseTensor(row=data_g.edge_index[0], col=data_g.edge_index[1], sparse_sizes=(num_nodes, num_nodes))\n",
    "# data_g.adj_t = adj\n",
    "# data_g.ptr = Tensor\n"
   ]
  },
  {
   "cell_type": "code",
   "execution_count": 108,
   "metadata": {},
   "outputs": [],
   "source": [
    "DATASET = 25\n",
    "probabilities = out.numpy()\n",
    "scene = \"./input/random-32-32-10/scen-even/random-32-32-10-even-\" + str(DATASET) + \".scen\"\n",
    "exp = experiment.Experiment(scene=scene)"
   ]
  },
  {
   "cell_type": "code",
   "execution_count": 113,
   "metadata": {},
   "outputs": [],
   "source": [
    "sample = 198\n",
    "starts = locations[sample,:,:2]\n",
    "ends = locations[sample,:,2:]"
   ]
  },
  {
   "cell_type": "code",
   "execution_count": 118,
   "metadata": {},
   "outputs": [
    {
     "name": "stdout",
     "output_type": "stream",
     "text": [
      "total number of distance 440\n",
      "Number of trainable probabilities 377\n",
      "Length cutoff threshold 2\n",
      "Black px 106659 White px 79965\n"
     ]
    },
    {
     "data": {
      "image/png": "[encoded data removed]",
      "text/plain": [
       "<Figure size 432x432 with 1 Axes>"
      ]
     },
     "metadata": {
      "needs_background": "light"
     },
     "output_type": "display_data"
    }
   ],
   "source": [
    "output = bo2VoronoiDirected.get_results(probabilities, exp)\n",
    "vordir_paths, vordir_cost, vordir_ft, vordir_u1, vordir_u2, vordir_con, vordir_conmax, vordir_conavg, vordir_G0, vordir_G, vordir_thres = output\n",
    "vordir_u2 = getCoverage(exp,vordir_G, directed = True)"
   ]
  },
  {
   "cell_type": "code",
   "execution_count": 115,
   "metadata": {
    "code_folding": [
     0
    ]
   },
   "outputs": [],
   "source": [
    "def getCoverage(exp, G, directed = False):\n",
    "    total_area = 0\n",
    "    total_dist = 0\n",
    "    assigned = {}\n",
    "    fig, ax = plt.subplots(figsize=(6,6))\n",
    "    plt.xlim(0,34)\n",
    "    plt.ylim(0,34)\n",
    "    count = 0\n",
    "    for n in G.nodes:\n",
    "        for e in G.neighbors(n):\n",
    "            if n != e and frozenset((n, e)) not in assigned.keys():\n",
    "                \n",
    "                p1 = G.nodes[n]['position']\n",
    "                p2 = G.nodes[e]['position']\n",
    "                \n",
    "                if (directed):\n",
    "                    d = G.edges[n,e,0]['distance']\n",
    "                    c = G.edges[n,e,0]['capacity']\n",
    "                else:\n",
    "                    d = G.edges[n,e]['distance']\n",
    "                    c = G.edges[n,e]['capacity']\n",
    "                \n",
    "                \n",
    "                assigned[frozenset((n, e))] = 1\n",
    "\n",
    "                adjustp1 = Point(p1.y, p1.x)\n",
    "                adjustp2 = Point(p2.y, p2.x)\n",
    "\n",
    "                refpt1 = adjustp1 if adjustp1.y <= adjustp2.y else adjustp2\n",
    "                refpt2 = adjustp1 if adjustp1.y > adjustp2.y else adjustp2\n",
    "\n",
    "                if refpt1.x >= refpt2.x:\n",
    "                    theta_rot = np.pi - np.arctan(abs(refpt1.y - refpt2.y)/abs(refpt1.x - refpt2.x))\n",
    "                else:\n",
    "                    theta_rot = np.arctan(abs(refpt1.y - refpt2.y)/abs(refpt1.x - refpt2.x))\n",
    "\n",
    "                if theta_rot >= np.pi/2:\n",
    "                    theta = theta_rot - np.pi/2\n",
    "                else:\n",
    "                    theta = theta_rot + np.pi/2\n",
    "\n",
    "                dy = -(c/2)*np.sin(theta)\n",
    "                if refpt1.y == refpt2.y:\n",
    "                    dx = 0\n",
    "                    width = d\n",
    "                    height = c\n",
    "                    a = 0\n",
    "                elif refpt1.x > refpt2.x:\n",
    "                    dx = -(c/2)*np.cos(theta)\n",
    "                    width = c\n",
    "                    height = d\n",
    "                    a = (theta) * 180 / np.pi\n",
    "                elif refpt1.x == refpt2.x:\n",
    "                    dx = -(c/2)\n",
    "                    width = c\n",
    "                    height = d\n",
    "                    a = 0\n",
    "                else:\n",
    "                    dx = (c/2)*np.cos(np.pi - theta)\n",
    "                    width = d\n",
    "                    height = c\n",
    "                    a = (theta_rot) * 180 / np.pi\n",
    "                    \n",
    "\n",
    "                rect = Rectangle((refpt1.x+dx,refpt1.y+dy),width,height,linewidth=0.1,fill=True, angle = a,color = 'black')\n",
    "                plt.gca().add_patch(rect)\n",
    "                count +=1\n",
    "\n",
    "    for o in exp.obstacles_loc:\n",
    "        adjustedx, adjustedy = o[1],o[0]\n",
    "        rect = Rectangle((adjustedx-0.5,adjustedy-0.5),1,1,linewidth=0.1,fill=True, angle = 0, color = 'black')\n",
    "        plt.gca().add_patch(rect)\n",
    "\n",
    "    ax.axis('off')\n",
    "\n",
    "    im = fig\n",
    "    im.canvas.draw()\n",
    "    X = np.array(im.canvas.renderer._renderer)\n",
    "    X_reshape = X.reshape((-1,4))\n",
    "    X_reshape = np.delete(X_reshape, [1,2,3], axis = 1)\n",
    "    black = np.count_nonzero(X_reshape == 0)\n",
    "    white= np.count_nonzero(X_reshape == 255)\n",
    "    print(\"Black px\", black, \"White px\", white)\n",
    "    percentage = black/(white+black)\n",
    "    return percentage"
   ]
  },
  {
   "cell_type": "code",
   "execution_count": 119,
   "metadata": {
    "code_folding": [
     0
    ]
   },
   "outputs": [],
   "source": [
    "def showAccSolution(result_graph, paths, image, nodes, start_nodes, end_nodes, all_path = True, path_num = 0):\n",
    "    edges_in_path = []\n",
    "    image2 = 1-image\n",
    "    fig, ax = plt.subplots(figsize=(12,12))\n",
    "    img = np.array(1-image)\n",
    "    ax = sb.heatmap(img)\n",
    "    assigned = {}\n",
    "    \n",
    "    for index, path in enumerate(paths):\n",
    "#         path = paths[path_num]\n",
    "        for ite in range(len(path)-1):\n",
    "            edges_in_path.append(np.array([path[ite],path[ite+1],0]))\n",
    "            p1 = result_graph.nodes[path[ite]]['position']\n",
    "            p2 = result_graph.nodes[path[ite+1]]['position']\n",
    "\n",
    "            for r in (p1.x, p2.x, 1):\n",
    "                for c in (p1.y, p2.y, 1):\n",
    "                    if (Point(r,c) in np.array(nodes)[end_nodes]):\n",
    "                        image2[int(r),int(c)] = 1\n",
    "                    else:\n",
    "                        image2[int(r),int(c)] += 0.2\n",
    "\n",
    "        drawn = {}\n",
    "        loop = result_graph.edges if all_path else edges_in_path\n",
    "\n",
    "        for elem in loop:\n",
    "            cur = result_graph.edges[elem[0], elem[1], 0]['probability']\n",
    "            opposite = result_graph.edges[elem[1], elem[0], 0]['probability']\n",
    "            unused = 1 - cur - opposite\n",
    "            scaler = 0.7\n",
    "            if cur > opposite:\n",
    "                p1 = result_graph.nodes[elem[0]]['position']\n",
    "                arr1 = np.array([p1.x,p1.y])\n",
    "                p2 = result_graph.nodes[elem[1]]['position']\n",
    "                arr2 = np.array([p2.x,p2.y])\n",
    "                direction = (arr2-arr1) / np.linalg.norm(arr2 - arr1)\n",
    "                mag = np.linalg.norm(arr2 - arr1)*scaler\n",
    "                dx, dy = mag*direction\n",
    "            else:\n",
    "                p1 = result_graph.nodes[elem[1]]['position']\n",
    "                arr1 = np.array([p1.x,p1.y])\n",
    "                p2 = result_graph.nodes[elem[0]]['position']\n",
    "                arr2 = np.array([p2.x,p2.y])\n",
    "                direction = (arr2-arr1) / np.linalg.norm(arr2 - arr1)\n",
    "                mag = np.linalg.norm(arr2 - arr1)*scaler\n",
    "                dx, dy = mag*direction\n",
    "            \n",
    "            # only draw arrow once\n",
    "            if frozenset((p1.y, p1.x, dy, dx)) not in assigned.keys():\n",
    "                plt.arrow(p1.y, p1.x, dy, dx, head_width = 0.35, alpha=0.9, color = 'grey', linewidth=1)\n",
    "                assigned[frozenset((p1.y, p1.x, dy, dx))] = 1\n",
    "            \n",
    "#         p = start_nodes[index]\n",
    "#         plt.scatter(nodes[p].y, nodes[p].x, color = 'red', linewidths=5)\n",
    "#         p = end_nodes[index]\n",
    "#         plt.scatter(nodes[p].y, nodes[p].x, color = 'lime', linewidths=5)\n",
    "#         name = './results/vordir_path'+ str(path_num)+'.png'\n",
    "#         plt.gca().invert_yaxis()\n",
    "#         plt.savefig(name)\n",
    "        \n",
    "    for p in start_nodes:\n",
    "        plt.scatter(nodes[p].y, nodes[p].x, color = 'red', linewidths=5)\n",
    "    for p in end_nodes:\n",
    "        plt.scatter(nodes[p].y, nodes[p].x, color = 'lime', linewidths=5)\n",
    "\n",
    "#     name = './data/'+ 'ANN' +'.png'\n",
    "    plt.gca().invert_yaxis()\n",
    "#     plt.savefig(name)\n",
    "    return fig"
   ]
  },
  {
   "cell_type": "code",
   "execution_count": 120,
   "metadata": {},
   "outputs": [
    {
     "data": {
      "image/png": "[encoded data removed]",
      "text/plain": [
       "<Figure size 864x864 with 2 Axes>"
      ]
     },
     "execution_count": 120,
     "metadata": {},
     "output_type": "execute_result"
    },
    {
     "data": {
      "image/png": "[encoded data removed]",
      "text/plain": [
       "<Figure size 864x864 with 2 Axes>"
      ]
     },
     "metadata": {
      "needs_background": "light"
     },
     "output_type": "display_data"
    }
   ],
   "source": [
    "showAccSolution(vordir_G0, \n",
    "                vordir_paths, \n",
    "                exp.image, \n",
    "                exp.nodes, \n",
    "                exp.start_nodes, \n",
    "                exp.end_nodes, \n",
    "                all_path = False, \n",
    "                path_num = 0) #path_num variables is unused"
   ]
  },
  {
   "cell_type": "markdown",
   "metadata": {},
   "source": [
    "### End"
   ]
  },
  {
   "cell_type": "code",
   "execution_count": 180,
   "metadata": {},
   "outputs": [],
   "source": [
    "# class IMDBBinary(LightningDataModule):\n",
    "#     def __init__(self, data_dir):\n",
    "#         super().__init__()\n",
    "#         self.data_dir = data_dir\n",
    "#         self.transform = T.Compose([\n",
    "#             T.OneHotDegree(self.num_features - 1),\n",
    "#             T.ToSparseTensor(),\n",
    "#         ])\n",
    "\n",
    "#     @property\n",
    "#     def num_features(self) -> int:\n",
    "#         return 136\n",
    "\n",
    "#     @property\n",
    "#     def num_classes(self) -> int:\n",
    "#         return 2\n",
    "\n",
    "#     def prepare_data(self):\n",
    "#         TUDataset(self.data_dir, name='IMDB-BINARY',\n",
    "#                   pre_transform=self.transform)\n",
    "\n",
    "#     def setup(self, stage: Optional[str] = None):\n",
    "#         dataset = TUDataset(self.data_dir, name='IMDB-BINARY',\n",
    "#                             pre_transform=self.transform).shuffle()\n",
    "\n",
    "#         self.test_dataset = dataset[:len(dataset) // 10]\n",
    "#         self.val_dataset = dataset[len(dataset) // 10:len(dataset) // 5]\n",
    "#         self.train_dataset = dataset[len(dataset) // 5:]\n",
    "\n",
    "#     def train_dataloader(self):\n",
    "#         return DataLoader(self.train_dataset, batch_size=64, shuffle=True)\n",
    "\n",
    "#     def val_dataloader(self):\n",
    "#         return DataLoader(self.val_dataset, batch_size=128)\n",
    "\n",
    "#     def test_dataloader(self):\n",
    "#         return DataLoader(self.test_dataset, batch_size=128)"
   ]
  },
  {
   "cell_type": "code",
   "execution_count": 178,
   "metadata": {},
   "outputs": [],
   "source": [
    "# seed_everything(42)\n",
    "# datamodule1 = IMDBBinary('data/TUDataset')\n",
    "# datamodule1.setup()\n",
    "# model1 = GIN(datamodule1.num_features, datamodule1.num_classes)"
   ]
  },
  {
   "cell_type": "code",
   "execution_count": 179,
   "metadata": {},
   "outputs": [],
   "source": [
    "# datamodule1.test_dataset[0]"
   ]
  },
  {
   "cell_type": "code",
   "execution_count": 176,
   "metadata": {},
   "outputs": [],
   "source": [
    "# datamodule.test_dataset[0]"
   ]
  },
  {
   "cell_type": "code",
   "execution_count": 177,
   "metadata": {},
   "outputs": [],
   "source": [
    "# import os.path as osp\n",
    "\n",
    "# import torch\n",
    "# import torch.nn.functional as F\n",
    "# from torch.nn import BatchNorm1d\n",
    "# from sklearn.metrics import f1_score\n",
    "# from torch_geometric.nn import FiLMConv\n",
    "# from torch_geometric.datasets import PPI\n",
    "# from torch_geometric.data import DataLoader\n",
    "\n",
    "# # path = osp.join(osp.dirname(osp.realpath(__file__)), '..', 'data', 'PPI')\n",
    "# # train_dataset = PPI(path, split='train')\n",
    "# # val_dataset = PPI(path, split='val')\n",
    "# # test_dataset = PPI(path, split='test')\n",
    "# dataset = MyOwnDataset(data_list)\n",
    "# dataset.setup()\n",
    "# train_loader = dataset.train_dataloader()\n",
    "# val_loader = dataset.val_dataloader()\n",
    "# test_loader = dataset.test_dataloader()\n",
    "\n",
    "\n",
    "# class Net(torch.nn.Module):\n",
    "#     def __init__(self, in_channels, hidden_channels, out_channels, num_layers,\n",
    "#                  dropout=0.0):\n",
    "#         super(Net, self).__init__()\n",
    "#         self.dropout = dropout\n",
    "\n",
    "#         self.convs = torch.nn.ModuleList()\n",
    "#         self.convs.append(FiLMConv(in_channels, hidden_channels))\n",
    "#         for _ in range(num_layers - 2):\n",
    "#             self.convs.append(FiLMConv(hidden_channels, hidden_channels))\n",
    "#         self.convs.append(FiLMConv(hidden_channels, out_channels, act=None))\n",
    "\n",
    "#         self.norms = torch.nn.ModuleList()\n",
    "#         for _ in range(num_layers - 1):\n",
    "#             self.norms.append(BatchNorm1d(hidden_channels))\n",
    "\n",
    "#     def forward(self, x, edge_index):\n",
    "#         for conv, norm in zip(self.convs[:-1], self.norms):\n",
    "#             x = norm(conv(x, edge_index))\n",
    "#             x = F.dropout(x, p=self.dropout, training=self.training)\n",
    "#         x = self.convs[-1](x, edge_index)\n",
    "#         return x\n",
    "\n",
    "\n",
    "# device = torch.device('cuda' if torch.cuda.is_available() else 'cpu')\n",
    "# model = Net(in_channels=dataset.num_features, hidden_channels=320,\n",
    "#             out_channels=dataset.num_classes, num_layers=4,\n",
    "#             dropout=0.1).to(device)\n",
    "# criterion = torch.nn.BCEWithLogitsLoss()\n",
    "# optimizer = torch.optim.Adam(model.parameters(), lr=0.01)\n",
    "\n",
    "\n",
    "# def train():\n",
    "#     model.train()\n",
    "\n",
    "#     total_loss = 0\n",
    "#     for data in train_loader:\n",
    "#         data = data.to(device)\n",
    "#         optimizer.zero_grad()\n",
    "#         print(\"Size\", data.x.shape, data.edge_index.shape, data.y.shape)\n",
    "        \n",
    "#         loss = criterion(model(data.x, data.edge_index), data.y)\n",
    "#         total_loss += loss.item() * data.num_graphs\n",
    "#         loss.backward()\n",
    "#         optimizer.step()\n",
    "#     return total_loss / len(train_loader.dataset)\n",
    "\n",
    "\n",
    "# @torch.no_grad()\n",
    "# def test(loader):\n",
    "#     model.eval()\n",
    "\n",
    "#     ys, preds = [], []\n",
    "#     for data in loader:\n",
    "#         ys.append(data.y)\n",
    "#         out = model(data.x.to(device), data.edge_index.to(device))\n",
    "#         preds.append((out > 0).float().cpu())\n",
    "\n",
    "#     y, pred = torch.cat(ys, dim=0).numpy(), torch.cat(preds, dim=0).numpy()\n",
    "#     return f1_score(y, pred, average='micro') if pred.sum() > 0 else 0\n",
    "\n",
    "\n",
    "# for epoch in range(1, 5):\n",
    "#     loss = train()\n",
    "#     val_f1 = test(val_loader)\n",
    "#     test_f1 = test(test_loader)\n",
    "#     print('Epoch: {:02d}, Loss: {:.4f}, Val: {:.4f}, Test: {:.4f}'.format(\n",
    "#         epoch, loss, val_f1, test_f1))"
   ]
  },
  {
   "cell_type": "code",
   "execution_count": null,
   "metadata": {},
   "outputs": [],
   "source": []
  }
 ],
 "metadata": {
  "kernelspec": {
   "display_name": "Python 3",
   "language": "python",
   "name": "python3"
  },
  "language_info": {
   "codemirror_mode": {
    "name": "ipython",
    "version": 3
   },
   "file_extension": ".py",
   "mimetype": "text/x-python",
   "name": "python",
   "nbconvert_exporter": "python",
   "pygments_lexer": "ipython3",
   "version": "3.6.12"
  }
 },
 "nbformat": 4,
 "nbformat_minor": 2
}
