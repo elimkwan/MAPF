{
 "cells": [
  {
   "cell_type": "markdown",
   "metadata": {},
   "source": [
    "## Control Variables\n",
    "- Resolution = 0.25\n",
    "- ROBOT_RADIUS = 0.25\n",
    "- NUM_OF_AGENT = 10\n",
    "- ANN Samples = 199"
   ]
  },
  {
   "cell_type": "markdown",
   "metadata": {},
   "source": [
    "### ANN with Optimiser"
   ]
  },
  {
   "cell_type": "code",
   "execution_count": 1,
   "metadata": {},
   "outputs": [],
   "source": [
    "import BayesianOptimisation.boVoronoiDirected as boVoronoiDirected\n",
    "import BayesianOptimisation.expGrid as expGrid\n",
    "import BayesianOptimisation.expVoronoi as expVoronoi\n",
    "import BayesianOptimisation.ANNVoronoiDirected as ANNVoronoiDirected\n",
    "import BayesianOptimisation.experiment_setup as experiment\n",
    "from core.DataStructure import *\n",
    "\n",
    "from importlib import reload\n",
    "import numpy as np\n",
    "import pandas as pd\n",
    "import seaborn as sb\n",
    "import matplotlib.pyplot as plt\n",
    "import matplotlib.patches as patches\n",
    "from matplotlib.patches import Rectangle\n",
    "import copy"
   ]
  },
  {
   "cell_type": "code",
   "execution_count": 2,
   "metadata": {},
   "outputs": [],
   "source": [
    "from scipy.optimize import minimize, Bounds\n",
    "import tensorflow as tf\n",
    "from tensorflow import keras\n",
    "from tensorflow.keras.layers import Conv2D, MaxPooling2D, Dense, Flatten, Dropout, Reshape\n",
    "from tensorflow.keras.utils import plot_model\n",
    "from sklearn.model_selection import train_test_split"
   ]
  },
  {
   "cell_type": "code",
   "execution_count": 3,
   "metadata": {},
   "outputs": [],
   "source": [
    "np.random.seed(9) "
   ]
  },
  {
   "cell_type": "markdown",
   "metadata": {},
   "source": [
    "### Data Processing"
   ]
  },
  {
   "cell_type": "code",
   "execution_count": 4,
   "metadata": {},
   "outputs": [],
   "source": [
    "x_sz = 40\n",
    "y_sz = 450"
   ]
  },
  {
   "cell_type": "code",
   "execution_count": 5,
   "metadata": {
    "scrolled": true
   },
   "outputs": [
    {
     "data": {
      "text/plain": [
       "(199, 40)"
      ]
     },
     "execution_count": 5,
     "metadata": {},
     "output_type": "execute_result"
    }
   ],
   "source": [
    "X_read = pd.read_csv(\"./data/gen-starts-ends/X.csv\")\n",
    "X = X_read.to_numpy()\n",
    "X = X.reshape((-1,40))\n",
    "X.shape"
   ]
  },
  {
   "cell_type": "code",
   "execution_count": 6,
   "metadata": {},
   "outputs": [
    {
     "data": {
      "text/plain": [
       "(199, 450)"
      ]
     },
     "execution_count": 6,
     "metadata": {},
     "output_type": "execute_result"
    }
   ],
   "source": [
    "y_read = pd.read_csv(\"./data/gen-starts-ends/Y.csv\")\n",
    "y = y_read.to_numpy()\n",
    "y = y.reshape((199,-1))\n",
    "y.shape"
   ]
  },
  {
   "cell_type": "code",
   "execution_count": 7,
   "metadata": {},
   "outputs": [],
   "source": [
    "x_train_temp, x_test, y_train_temp, y_test = train_test_split(\n",
    "    X, y, test_size=0.1, random_state=4\n",
    ")\n",
    "x_train, x_val, y_train, y_val = train_test_split(\n",
    "    x_train_temp, y_train_temp, test_size=0.11, random_state=4\n",
    ")"
   ]
  },
  {
   "cell_type": "code",
   "execution_count": 34,
   "metadata": {},
   "outputs": [],
   "source": [
    "from sklearn.preprocessing import MinMaxScaler\n",
    "scalerx = MinMaxScaler()\n",
    "scalery = MinMaxScaler()\n",
    "x_train_norm = scalerx.fit_transform(x_train)\n",
    "y_train_norm = scalery.fit_transform(y_train)\n",
    "x_val_norm = scalerx.fit_transform(x_val)\n",
    "y_val_norm = scalery.fit_transform(y_val)\n",
    "x_test_norm = scalerx.fit_transform(x_test)\n",
    "y_test_norm = scalery.fit_transform(y_test)\n",
    "\n",
    "# inverse = scaler.inverse_transform(normalized)"
   ]
  },
  {
   "cell_type": "code",
   "execution_count": 35,
   "metadata": {},
   "outputs": [],
   "source": [
    "x_train_norm = x_train_norm.reshape((-1,1,x_sz))\n",
    "x_test_norm = x_test_norm.reshape((-1,1,x_sz))\n",
    "x_val_norm = x_val_norm.reshape((-1,1,x_sz))"
   ]
  },
  {
   "cell_type": "markdown",
   "metadata": {},
   "source": [
    "### ANN"
   ]
  },
  {
   "cell_type": "code",
   "execution_count": 36,
   "metadata": {},
   "outputs": [],
   "source": [
    "np.random.seed(9)\n",
    "tf.random.set_seed(9)\n",
    "model = keras.models.Sequential([\n",
    "    Dense(units=128, activation='relu', kernel_initializer='normal', input_shape=(1,x_sz)),\n",
    "    Dropout(0.2),\n",
    "    Dense(units=256, activation='relu',),\n",
    "    Dropout(0.2),\n",
    "    Dense(units=512, activation='relu',),\n",
    "    Dropout(0.1),\n",
    "    Dense(units=512, activation='relu',),\n",
    "    Dropout(0.05),\n",
    "    Dense(units=y_sz, activation='sigmoid'),\n",
    "])\n",
    "\n",
    "opt = keras.optimizers.Adam(learning_rate=1e-6)\n",
    "model.compile(\n",
    "    loss=\"mean_squared_error\", \n",
    "    optimizer=opt,\n",
    "    metrics=[\"accuracy\"])"
   ]
  },
  {
   "cell_type": "code",
   "execution_count": 37,
   "metadata": {},
   "outputs": [
    {
     "name": "stdout",
     "output_type": "stream",
     "text": [
      "Model: \"sequential_5\"\n",
      "_________________________________________________________________\n",
      "Layer (type)                 Output Shape              Param #   \n",
      "=================================================================\n",
      "dense_22 (Dense)             (None, 1, 128)            5248      \n",
      "_________________________________________________________________\n",
      "dropout_17 (Dropout)         (None, 1, 128)            0         \n",
      "_________________________________________________________________\n",
      "dense_23 (Dense)             (None, 1, 256)            33024     \n",
      "_________________________________________________________________\n",
      "dropout_18 (Dropout)         (None, 1, 256)            0         \n",
      "_________________________________________________________________\n",
      "dense_24 (Dense)             (None, 1, 512)            131584    \n",
      "_________________________________________________________________\n",
      "dropout_19 (Dropout)         (None, 1, 512)            0         \n",
      "_________________________________________________________________\n",
      "dense_25 (Dense)             (None, 1, 512)            262656    \n",
      "_________________________________________________________________\n",
      "dropout_20 (Dropout)         (None, 1, 512)            0         \n",
      "_________________________________________________________________\n",
      "dense_26 (Dense)             (None, 1, 450)            230850    \n",
      "=================================================================\n",
      "Total params: 663,362\n",
      "Trainable params: 663,362\n",
      "Non-trainable params: 0\n",
      "_________________________________________________________________\n"
     ]
    }
   ],
   "source": [
    "model.summary()"
   ]
  },
  {
   "cell_type": "code",
   "execution_count": 38,
   "metadata": {},
   "outputs": [],
   "source": [
    "checkpoint_filepath = './data/gen-starts-ends/model/checkpoint'\n",
    "model_checkpoint_callback = tf.keras.callbacks.ModelCheckpoint(\n",
    "    filepath=checkpoint_filepath,\n",
    "    save_weights_only=True,\n",
    "    monitor='loss',\n",
    "    mode='min',\n",
    "    save_best_only=True)"
   ]
  },
  {
   "cell_type": "code",
   "execution_count": 39,
   "metadata": {
    "scrolled": true
   },
   "outputs": [
    {
     "name": "stdout",
     "output_type": "stream",
     "text": [
      "Epoch 1/200\n",
      "5/5 [==============================] - 0s 86ms/step - loss: 0.0840 - accuracy: 0.0000e+00 - val_loss: 0.0999 - val_accuracy: 0.0000e+00\n",
      "Epoch 2/200\n",
      "5/5 [==============================] - 0s 41ms/step - loss: 0.0840 - accuracy: 0.0000e+00 - val_loss: 0.0999 - val_accuracy: 0.0000e+00\n",
      "Epoch 3/200\n",
      "5/5 [==============================] - 0s 29ms/step - loss: 0.0840 - accuracy: 0.0000e+00 - val_loss: 0.0999 - val_accuracy: 0.0000e+00\n",
      "Epoch 4/200\n",
      "5/5 [==============================] - 0s 43ms/step - loss: 0.0840 - accuracy: 0.0000e+00 - val_loss: 0.0999 - val_accuracy: 0.0000e+00\n",
      "Epoch 5/200\n",
      "5/5 [==============================] - 0s 40ms/step - loss: 0.0840 - accuracy: 0.0000e+00 - val_loss: 0.0999 - val_accuracy: 0.0000e+00\n",
      "Epoch 6/200\n",
      "5/5 [==============================] - 0s 26ms/step - loss: 0.0840 - accuracy: 0.0000e+00 - val_loss: 0.0999 - val_accuracy: 0.0000e+00\n",
      "Epoch 7/200\n",
      "5/5 [==============================] - 0s 32ms/step - loss: 0.0840 - accuracy: 0.0000e+00 - val_loss: 0.0999 - val_accuracy: 0.0000e+00\n",
      "Epoch 8/200\n",
      "5/5 [==============================] - 0s 45ms/step - loss: 0.0839 - accuracy: 0.0000e+00 - val_loss: 0.0999 - val_accuracy: 0.0000e+00\n",
      "Epoch 9/200\n",
      "5/5 [==============================] - 0s 54ms/step - loss: 0.0839 - accuracy: 0.0000e+00 - val_loss: 0.0999 - val_accuracy: 0.0000e+00\n",
      "Epoch 10/200\n",
      "5/5 [==============================] - 0s 44ms/step - loss: 0.0840 - accuracy: 0.0000e+00 - val_loss: 0.0999 - val_accuracy: 0.0000e+00\n",
      "Epoch 11/200\n",
      "5/5 [==============================] - 0s 37ms/step - loss: 0.0840 - accuracy: 0.0000e+00 - val_loss: 0.0999 - val_accuracy: 0.0000e+00\n",
      "Epoch 12/200\n",
      "5/5 [==============================] - 0s 52ms/step - loss: 0.0840 - accuracy: 0.0000e+00 - val_loss: 0.0999 - val_accuracy: 0.0000e+00\n",
      "Epoch 13/200\n",
      "5/5 [==============================] - 0s 42ms/step - loss: 0.0839 - accuracy: 0.0000e+00 - val_loss: 0.0999 - val_accuracy: 0.0000e+00\n",
      "Epoch 14/200\n",
      "5/5 [==============================] - 0s 39ms/step - loss: 0.0839 - accuracy: 0.0000e+00 - val_loss: 0.0999 - val_accuracy: 0.0000e+00\n",
      "Epoch 15/200\n",
      "5/5 [==============================] - 0s 41ms/step - loss: 0.0839 - accuracy: 0.0000e+00 - val_loss: 0.0999 - val_accuracy: 0.0000e+00\n",
      "Epoch 16/200\n",
      "5/5 [==============================] - 0s 56ms/step - loss: 0.0839 - accuracy: 0.0000e+00 - val_loss: 0.0999 - val_accuracy: 0.0000e+00\n",
      "Epoch 17/200\n",
      "5/5 [==============================] - 0s 57ms/step - loss: 0.0839 - accuracy: 0.0000e+00 - val_loss: 0.0999 - val_accuracy: 0.0000e+00\n",
      "Epoch 18/200\n",
      "5/5 [==============================] - 0s 38ms/step - loss: 0.0839 - accuracy: 0.0000e+00 - val_loss: 0.0999 - val_accuracy: 0.0000e+00\n",
      "Epoch 19/200\n",
      "5/5 [==============================] - 0s 47ms/step - loss: 0.0839 - accuracy: 0.0000e+00 - val_loss: 0.0999 - val_accuracy: 0.0000e+00\n",
      "Epoch 20/200\n",
      "5/5 [==============================] - 0s 37ms/step - loss: 0.0839 - accuracy: 0.0000e+00 - val_loss: 0.0999 - val_accuracy: 0.0000e+00\n",
      "Epoch 21/200\n",
      "5/5 [==============================] - 0s 47ms/step - loss: 0.0839 - accuracy: 0.0000e+00 - val_loss: 0.0999 - val_accuracy: 0.0000e+00\n",
      "Epoch 22/200\n",
      "5/5 [==============================] - 0s 49ms/step - loss: 0.0839 - accuracy: 0.0000e+00 - val_loss: 0.0999 - val_accuracy: 0.0000e+00\n",
      "Epoch 23/200\n",
      "5/5 [==============================] - 0s 34ms/step - loss: 0.0839 - accuracy: 0.0000e+00 - val_loss: 0.0999 - val_accuracy: 0.0000e+00\n",
      "Epoch 24/200\n",
      "5/5 [==============================] - 0s 28ms/step - loss: 0.0839 - accuracy: 0.0000e+00 - val_loss: 0.0999 - val_accuracy: 0.0000e+00\n",
      "Epoch 25/200\n",
      "5/5 [==============================] - 0s 31ms/step - loss: 0.0839 - accuracy: 0.0000e+00 - val_loss: 0.0999 - val_accuracy: 0.0000e+00\n",
      "Epoch 26/200\n",
      "5/5 [==============================] - 0s 57ms/step - loss: 0.0839 - accuracy: 0.0000e+00 - val_loss: 0.0999 - val_accuracy: 0.0000e+00\n",
      "Epoch 27/200\n",
      "5/5 [==============================] - 0s 41ms/step - loss: 0.0839 - accuracy: 0.0000e+00 - val_loss: 0.0999 - val_accuracy: 0.0000e+00\n",
      "Epoch 28/200\n",
      "5/5 [==============================] - 0s 28ms/step - loss: 0.0839 - accuracy: 0.0000e+00 - val_loss: 0.0999 - val_accuracy: 0.0000e+00\n",
      "Epoch 29/200\n",
      "5/5 [==============================] - 0s 33ms/step - loss: 0.0839 - accuracy: 0.0000e+00 - val_loss: 0.0999 - val_accuracy: 0.0000e+00\n",
      "Epoch 30/200\n",
      "5/5 [==============================] - 0s 48ms/step - loss: 0.0839 - accuracy: 0.0000e+00 - val_loss: 0.0999 - val_accuracy: 0.0000e+00\n",
      "Epoch 31/200\n",
      "5/5 [==============================] - 0s 30ms/step - loss: 0.0839 - accuracy: 0.0000e+00 - val_loss: 0.0999 - val_accuracy: 0.0000e+00\n",
      "Epoch 32/200\n",
      "5/5 [==============================] - 0s 52ms/step - loss: 0.0839 - accuracy: 0.0000e+00 - val_loss: 0.0999 - val_accuracy: 0.0000e+00\n",
      "Epoch 33/200\n",
      "5/5 [==============================] - 0s 73ms/step - loss: 0.0839 - accuracy: 0.0000e+00 - val_loss: 0.0999 - val_accuracy: 0.0000e+00\n",
      "Epoch 34/200\n",
      "5/5 [==============================] - 0s 42ms/step - loss: 0.0839 - accuracy: 0.0000e+00 - val_loss: 0.0999 - val_accuracy: 0.0000e+00\n",
      "Epoch 35/200\n",
      "5/5 [==============================] - 0s 31ms/step - loss: 0.0839 - accuracy: 0.0000e+00 - val_loss: 0.0999 - val_accuracy: 0.0000e+00\n",
      "Epoch 36/200\n",
      "5/5 [==============================] - 0s 38ms/step - loss: 0.0839 - accuracy: 0.0000e+00 - val_loss: 0.0999 - val_accuracy: 0.0000e+00\n",
      "Epoch 37/200\n",
      "5/5 [==============================] - 0s 40ms/step - loss: 0.0839 - accuracy: 0.0000e+00 - val_loss: 0.0999 - val_accuracy: 0.0000e+00\n",
      "Epoch 38/200\n",
      "5/5 [==============================] - 0s 38ms/step - loss: 0.0839 - accuracy: 0.0000e+00 - val_loss: 0.0999 - val_accuracy: 0.0000e+00\n",
      "Epoch 39/200\n",
      "5/5 [==============================] - 0s 49ms/step - loss: 0.0839 - accuracy: 0.0000e+00 - val_loss: 0.0999 - val_accuracy: 0.0000e+00\n",
      "Epoch 40/200\n",
      "5/5 [==============================] - 0s 44ms/step - loss: 0.0839 - accuracy: 0.0000e+00 - val_loss: 0.0999 - val_accuracy: 0.0000e+00\n",
      "Epoch 41/200\n",
      "5/5 [==============================] - 0s 53ms/step - loss: 0.0839 - accuracy: 0.0000e+00 - val_loss: 0.0999 - val_accuracy: 0.0000e+00\n",
      "Epoch 42/200\n",
      "5/5 [==============================] - 0s 41ms/step - loss: 0.0839 - accuracy: 0.0000e+00 - val_loss: 0.0999 - val_accuracy: 0.0000e+00\n",
      "Epoch 43/200\n",
      "5/5 [==============================] - 0s 42ms/step - loss: 0.0839 - accuracy: 0.0000e+00 - val_loss: 0.0999 - val_accuracy: 0.0000e+00\n",
      "Epoch 44/200\n",
      "5/5 [==============================] - 0s 39ms/step - loss: 0.0839 - accuracy: 0.0000e+00 - val_loss: 0.0999 - val_accuracy: 0.0000e+00\n",
      "Epoch 45/200\n",
      "5/5 [==============================] - 0s 37ms/step - loss: 0.0839 - accuracy: 0.0000e+00 - val_loss: 0.0999 - val_accuracy: 0.0000e+00\n",
      "Epoch 46/200\n",
      "5/5 [==============================] - 0s 37ms/step - loss: 0.0839 - accuracy: 0.0000e+00 - val_loss: 0.0999 - val_accuracy: 0.0000e+00\n",
      "Epoch 47/200\n",
      "5/5 [==============================] - 0s 41ms/step - loss: 0.0839 - accuracy: 0.0000e+00 - val_loss: 0.0999 - val_accuracy: 0.0000e+00\n",
      "Epoch 48/200\n",
      "5/5 [==============================] - 0s 33ms/step - loss: 0.0839 - accuracy: 0.0000e+00 - val_loss: 0.0999 - val_accuracy: 0.0000e+00\n",
      "Epoch 49/200\n",
      "5/5 [==============================] - 0s 54ms/step - loss: 0.0839 - accuracy: 0.0000e+00 - val_loss: 0.0999 - val_accuracy: 0.0000e+00\n",
      "Epoch 50/200\n",
      "5/5 [==============================] - 0s 40ms/step - loss: 0.0839 - accuracy: 0.0000e+00 - val_loss: 0.0999 - val_accuracy: 0.0000e+00\n",
      "Epoch 51/200\n",
      "5/5 [==============================] - 0s 37ms/step - loss: 0.0839 - accuracy: 0.0000e+00 - val_loss: 0.0999 - val_accuracy: 0.0000e+00\n",
      "Epoch 52/200\n",
      "5/5 [==============================] - 0s 45ms/step - loss: 0.0839 - accuracy: 0.0000e+00 - val_loss: 0.0999 - val_accuracy: 0.0000e+00\n",
      "Epoch 53/200\n",
      "5/5 [==============================] - 0s 41ms/step - loss: 0.0839 - accuracy: 0.0000e+00 - val_loss: 0.0999 - val_accuracy: 0.0000e+00\n",
      "Epoch 54/200\n",
      "5/5 [==============================] - 0s 55ms/step - loss: 0.0839 - accuracy: 0.0000e+00 - val_loss: 0.0999 - val_accuracy: 0.0000e+00\n",
      "Epoch 55/200\n",
      "5/5 [==============================] - 0s 65ms/step - loss: 0.0839 - accuracy: 0.0000e+00 - val_loss: 0.0999 - val_accuracy: 0.0000e+00\n",
      "Epoch 56/200\n"
     ]
    },
    {
     "name": "stdout",
     "output_type": "stream",
     "text": [
      "5/5 [==============================] - 0s 44ms/step - loss: 0.0839 - accuracy: 0.0000e+00 - val_loss: 0.0999 - val_accuracy: 0.0000e+00\n",
      "Epoch 57/200\n",
      "5/5 [==============================] - 0s 45ms/step - loss: 0.0839 - accuracy: 0.0000e+00 - val_loss: 0.0999 - val_accuracy: 0.0000e+00\n",
      "Epoch 58/200\n",
      "5/5 [==============================] - 0s 38ms/step - loss: 0.0839 - accuracy: 0.0000e+00 - val_loss: 0.0999 - val_accuracy: 0.0000e+00\n",
      "Epoch 59/200\n",
      "5/5 [==============================] - 0s 62ms/step - loss: 0.0839 - accuracy: 0.0000e+00 - val_loss: 0.0999 - val_accuracy: 0.0000e+00\n",
      "Epoch 60/200\n",
      "5/5 [==============================] - 0s 62ms/step - loss: 0.0839 - accuracy: 0.0000e+00 - val_loss: 0.0999 - val_accuracy: 0.0000e+00\n",
      "Epoch 61/200\n",
      "5/5 [==============================] - 0s 59ms/step - loss: 0.0839 - accuracy: 0.0000e+00 - val_loss: 0.0999 - val_accuracy: 0.0000e+00\n",
      "Epoch 62/200\n",
      "5/5 [==============================] - 0s 48ms/step - loss: 0.0839 - accuracy: 0.0000e+00 - val_loss: 0.0999 - val_accuracy: 0.0000e+00\n",
      "Epoch 63/200\n",
      "5/5 [==============================] - 0s 33ms/step - loss: 0.0839 - accuracy: 0.0000e+00 - val_loss: 0.0999 - val_accuracy: 0.0000e+00\n",
      "Epoch 64/200\n",
      "5/5 [==============================] - 0s 36ms/step - loss: 0.0839 - accuracy: 0.0000e+00 - val_loss: 0.0999 - val_accuracy: 0.0000e+00\n",
      "Epoch 65/200\n",
      "5/5 [==============================] - 0s 36ms/step - loss: 0.0839 - accuracy: 0.0000e+00 - val_loss: 0.0999 - val_accuracy: 0.0000e+00\n",
      "Epoch 66/200\n",
      "5/5 [==============================] - 0s 45ms/step - loss: 0.0839 - accuracy: 0.0000e+00 - val_loss: 0.0999 - val_accuracy: 0.0000e+00\n",
      "Epoch 67/200\n",
      "5/5 [==============================] - 0s 54ms/step - loss: 0.0839 - accuracy: 0.0000e+00 - val_loss: 0.0999 - val_accuracy: 0.0000e+00\n",
      "Epoch 68/200\n",
      "5/5 [==============================] - 0s 45ms/step - loss: 0.0839 - accuracy: 0.0000e+00 - val_loss: 0.0999 - val_accuracy: 0.0000e+00\n",
      "Epoch 69/200\n",
      "5/5 [==============================] - 0s 47ms/step - loss: 0.0839 - accuracy: 0.0000e+00 - val_loss: 0.0999 - val_accuracy: 0.0000e+00\n",
      "Epoch 70/200\n",
      "5/5 [==============================] - 0s 45ms/step - loss: 0.0839 - accuracy: 0.0000e+00 - val_loss: 0.0999 - val_accuracy: 0.0000e+00\n",
      "Epoch 71/200\n",
      "5/5 [==============================] - 0s 48ms/step - loss: 0.0839 - accuracy: 0.0000e+00 - val_loss: 0.0999 - val_accuracy: 0.0000e+00\n",
      "Epoch 72/200\n",
      "5/5 [==============================] - 0s 36ms/step - loss: 0.0839 - accuracy: 0.0000e+00 - val_loss: 0.0999 - val_accuracy: 0.0000e+00\n",
      "Epoch 73/200\n",
      "5/5 [==============================] - 0s 29ms/step - loss: 0.0839 - accuracy: 0.0000e+00 - val_loss: 0.0999 - val_accuracy: 0.0000e+00\n",
      "Epoch 74/200\n",
      "5/5 [==============================] - 0s 30ms/step - loss: 0.0839 - accuracy: 0.0000e+00 - val_loss: 0.0999 - val_accuracy: 0.0000e+00\n",
      "Epoch 75/200\n",
      "5/5 [==============================] - 0s 30ms/step - loss: 0.0839 - accuracy: 0.0000e+00 - val_loss: 0.0999 - val_accuracy: 0.0000e+00\n",
      "Epoch 76/200\n",
      "5/5 [==============================] - 0s 82ms/step - loss: 0.0839 - accuracy: 0.0000e+00 - val_loss: 0.0999 - val_accuracy: 0.0000e+00\n",
      "Epoch 77/200\n",
      "5/5 [==============================] - 0s 62ms/step - loss: 0.0839 - accuracy: 0.0000e+00 - val_loss: 0.0999 - val_accuracy: 0.0000e+00\n",
      "Epoch 78/200\n",
      "5/5 [==============================] - 0s 68ms/step - loss: 0.0839 - accuracy: 0.0000e+00 - val_loss: 0.0999 - val_accuracy: 0.0000e+00\n",
      "Epoch 79/200\n",
      "5/5 [==============================] - 0s 58ms/step - loss: 0.0839 - accuracy: 0.0000e+00 - val_loss: 0.0999 - val_accuracy: 0.0000e+00\n",
      "Epoch 80/200\n",
      "5/5 [==============================] - 0s 35ms/step - loss: 0.0839 - accuracy: 0.0000e+00 - val_loss: 0.0999 - val_accuracy: 0.0000e+00\n",
      "Epoch 81/200\n",
      "5/5 [==============================] - 0s 34ms/step - loss: 0.0839 - accuracy: 0.0000e+00 - val_loss: 0.0999 - val_accuracy: 0.0000e+00\n",
      "Epoch 82/200\n",
      "5/5 [==============================] - 0s 40ms/step - loss: 0.0839 - accuracy: 0.0000e+00 - val_loss: 0.0999 - val_accuracy: 0.0000e+00\n",
      "Epoch 83/200\n",
      "5/5 [==============================] - 0s 58ms/step - loss: 0.0839 - accuracy: 0.0000e+00 - val_loss: 0.0999 - val_accuracy: 0.0000e+00\n",
      "Epoch 84/200\n",
      "5/5 [==============================] - 0s 39ms/step - loss: 0.0839 - accuracy: 0.0000e+00 - val_loss: 0.0999 - val_accuracy: 0.0000e+00\n",
      "Epoch 85/200\n",
      "5/5 [==============================] - 0s 66ms/step - loss: 0.0839 - accuracy: 0.0000e+00 - val_loss: 0.0999 - val_accuracy: 0.0000e+00\n",
      "Epoch 86/200\n",
      "5/5 [==============================] - 0s 54ms/step - loss: 0.0839 - accuracy: 0.0000e+00 - val_loss: 0.0999 - val_accuracy: 0.0000e+00\n",
      "Epoch 87/200\n",
      "5/5 [==============================] - 0s 65ms/step - loss: 0.0839 - accuracy: 0.0000e+00 - val_loss: 0.0999 - val_accuracy: 0.0000e+00\n",
      "Epoch 88/200\n",
      "5/5 [==============================] - 0s 44ms/step - loss: 0.0839 - accuracy: 0.0000e+00 - val_loss: 0.0999 - val_accuracy: 0.0000e+00\n",
      "Epoch 89/200\n",
      "5/5 [==============================] - 0s 45ms/step - loss: 0.0839 - accuracy: 0.0000e+00 - val_loss: 0.0999 - val_accuracy: 0.0000e+00\n",
      "Epoch 90/200\n",
      "5/5 [==============================] - 0s 31ms/step - loss: 0.0839 - accuracy: 0.0000e+00 - val_loss: 0.0999 - val_accuracy: 0.0000e+00\n",
      "Epoch 91/200\n",
      "5/5 [==============================] - 0s 38ms/step - loss: 0.0839 - accuracy: 0.0000e+00 - val_loss: 0.0999 - val_accuracy: 0.0000e+00\n",
      "Epoch 92/200\n",
      "5/5 [==============================] - 0s 43ms/step - loss: 0.0839 - accuracy: 0.0000e+00 - val_loss: 0.0999 - val_accuracy: 0.0000e+00\n",
      "Epoch 93/200\n",
      "5/5 [==============================] - 0s 37ms/step - loss: 0.0839 - accuracy: 0.0000e+00 - val_loss: 0.0999 - val_accuracy: 0.0000e+00\n",
      "Epoch 94/200\n",
      "5/5 [==============================] - 0s 54ms/step - loss: 0.0839 - accuracy: 0.0000e+00 - val_loss: 0.0999 - val_accuracy: 0.0000e+00\n",
      "Epoch 95/200\n",
      "5/5 [==============================] - 0s 53ms/step - loss: 0.0839 - accuracy: 0.0000e+00 - val_loss: 0.0999 - val_accuracy: 0.0000e+00\n",
      "Epoch 96/200\n",
      "5/5 [==============================] - 0s 43ms/step - loss: 0.0839 - accuracy: 0.0000e+00 - val_loss: 0.0999 - val_accuracy: 0.0000e+00\n",
      "Epoch 97/200\n",
      "5/5 [==============================] - 0s 57ms/step - loss: 0.0839 - accuracy: 0.0000e+00 - val_loss: 0.0999 - val_accuracy: 0.0000e+00\n",
      "Epoch 98/200\n",
      "5/5 [==============================] - 0s 32ms/step - loss: 0.0839 - accuracy: 0.0000e+00 - val_loss: 0.0999 - val_accuracy: 0.0000e+00\n",
      "Epoch 99/200\n",
      "5/5 [==============================] - 0s 35ms/step - loss: 0.0839 - accuracy: 0.0000e+00 - val_loss: 0.0999 - val_accuracy: 0.0000e+00\n",
      "Epoch 100/200\n",
      "5/5 [==============================] - 0s 27ms/step - loss: 0.0839 - accuracy: 0.0000e+00 - val_loss: 0.0999 - val_accuracy: 0.0000e+00\n",
      "Epoch 101/200\n",
      "5/5 [==============================] - 0s 37ms/step - loss: 0.0839 - accuracy: 0.0000e+00 - val_loss: 0.0999 - val_accuracy: 0.0000e+00\n",
      "Epoch 102/200\n",
      "5/5 [==============================] - 0s 47ms/step - loss: 0.0839 - accuracy: 0.0000e+00 - val_loss: 0.0999 - val_accuracy: 0.0000e+00\n",
      "Epoch 103/200\n",
      "5/5 [==============================] - 0s 29ms/step - loss: 0.0839 - accuracy: 0.0000e+00 - val_loss: 0.0999 - val_accuracy: 0.0000e+00\n",
      "Epoch 104/200\n",
      "5/5 [==============================] - 0s 29ms/step - loss: 0.0839 - accuracy: 0.0000e+00 - val_loss: 0.0999 - val_accuracy: 0.0000e+00\n",
      "Epoch 105/200\n",
      "5/5 [==============================] - 0s 37ms/step - loss: 0.0839 - accuracy: 0.0000e+00 - val_loss: 0.0999 - val_accuracy: 0.0000e+00\n",
      "Epoch 106/200\n",
      "5/5 [==============================] - 0s 39ms/step - loss: 0.0839 - accuracy: 0.0000e+00 - val_loss: 0.0999 - val_accuracy: 0.0000e+00\n",
      "Epoch 107/200\n",
      "5/5 [==============================] - 0s 41ms/step - loss: 0.0839 - accuracy: 0.0000e+00 - val_loss: 0.0999 - val_accuracy: 0.0000e+00\n",
      "Epoch 108/200\n",
      "5/5 [==============================] - 0s 28ms/step - loss: 0.0839 - accuracy: 0.0000e+00 - val_loss: 0.0999 - val_accuracy: 0.0000e+00\n",
      "Epoch 109/200\n",
      "5/5 [==============================] - 0s 29ms/step - loss: 0.0839 - accuracy: 0.0000e+00 - val_loss: 0.0999 - val_accuracy: 0.0000e+00\n",
      "Epoch 110/200\n",
      "5/5 [==============================] - 0s 39ms/step - loss: 0.0839 - accuracy: 0.0000e+00 - val_loss: 0.0999 - val_accuracy: 0.0000e+00\n"
     ]
    },
    {
     "name": "stdout",
     "output_type": "stream",
     "text": [
      "Epoch 111/200\n",
      "5/5 [==============================] - 0s 53ms/step - loss: 0.0839 - accuracy: 0.0000e+00 - val_loss: 0.0999 - val_accuracy: 0.0000e+00\n",
      "Epoch 112/200\n",
      "5/5 [==============================] - 0s 39ms/step - loss: 0.0839 - accuracy: 0.0000e+00 - val_loss: 0.0999 - val_accuracy: 0.0000e+00\n",
      "Epoch 113/200\n",
      "5/5 [==============================] - 0s 32ms/step - loss: 0.0839 - accuracy: 0.0000e+00 - val_loss: 0.0999 - val_accuracy: 0.0000e+00\n",
      "Epoch 114/200\n",
      "5/5 [==============================] - 0s 48ms/step - loss: 0.0839 - accuracy: 0.0000e+00 - val_loss: 0.0999 - val_accuracy: 0.0000e+00\n",
      "Epoch 115/200\n",
      "5/5 [==============================] - 0s 32ms/step - loss: 0.0839 - accuracy: 0.0000e+00 - val_loss: 0.0999 - val_accuracy: 0.0000e+00\n",
      "Epoch 116/200\n",
      "5/5 [==============================] - 0s 35ms/step - loss: 0.0839 - accuracy: 0.0000e+00 - val_loss: 0.0999 - val_accuracy: 0.0000e+00\n",
      "Epoch 117/200\n",
      "5/5 [==============================] - 0s 38ms/step - loss: 0.0839 - accuracy: 0.0000e+00 - val_loss: 0.0999 - val_accuracy: 0.0000e+00\n",
      "Epoch 118/200\n",
      "5/5 [==============================] - 0s 38ms/step - loss: 0.0839 - accuracy: 0.0000e+00 - val_loss: 0.0999 - val_accuracy: 0.0000e+00\n",
      "Epoch 119/200\n",
      "5/5 [==============================] - 0s 33ms/step - loss: 0.0839 - accuracy: 0.0000e+00 - val_loss: 0.0999 - val_accuracy: 0.0000e+00\n",
      "Epoch 120/200\n",
      "5/5 [==============================] - 0s 32ms/step - loss: 0.0839 - accuracy: 0.0000e+00 - val_loss: 0.0999 - val_accuracy: 0.0000e+00\n",
      "Epoch 121/200\n",
      "5/5 [==============================] - 0s 68ms/step - loss: 0.0839 - accuracy: 0.0000e+00 - val_loss: 0.0999 - val_accuracy: 0.0000e+00\n",
      "Epoch 122/200\n",
      "5/5 [==============================] - 0s 39ms/step - loss: 0.0839 - accuracy: 0.0000e+00 - val_loss: 0.0999 - val_accuracy: 0.0000e+00\n",
      "Epoch 123/200\n",
      "5/5 [==============================] - 0s 45ms/step - loss: 0.0839 - accuracy: 0.0000e+00 - val_loss: 0.0999 - val_accuracy: 0.0000e+00\n",
      "Epoch 124/200\n",
      "5/5 [==============================] - 0s 37ms/step - loss: 0.0839 - accuracy: 0.0000e+00 - val_loss: 0.0999 - val_accuracy: 0.0000e+00\n",
      "Epoch 125/200\n",
      "5/5 [==============================] - 0s 27ms/step - loss: 0.0839 - accuracy: 0.0000e+00 - val_loss: 0.0999 - val_accuracy: 0.0000e+00\n",
      "Epoch 126/200\n",
      "5/5 [==============================] - 0s 25ms/step - loss: 0.0839 - accuracy: 0.0000e+00 - val_loss: 0.0999 - val_accuracy: 0.0000e+00\n",
      "Epoch 127/200\n",
      "5/5 [==============================] - 0s 40ms/step - loss: 0.0839 - accuracy: 0.0000e+00 - val_loss: 0.0999 - val_accuracy: 0.0000e+00\n",
      "Epoch 128/200\n",
      "5/5 [==============================] - 0s 34ms/step - loss: 0.0839 - accuracy: 0.0000e+00 - val_loss: 0.0999 - val_accuracy: 0.0000e+00\n",
      "Epoch 129/200\n",
      "5/5 [==============================] - 0s 56ms/step - loss: 0.0839 - accuracy: 0.0000e+00 - val_loss: 0.0999 - val_accuracy: 0.0000e+00\n",
      "Epoch 130/200\n",
      "5/5 [==============================] - 0s 35ms/step - loss: 0.0839 - accuracy: 0.0000e+00 - val_loss: 0.0999 - val_accuracy: 0.0000e+00\n",
      "Epoch 131/200\n",
      "5/5 [==============================] - 0s 38ms/step - loss: 0.0839 - accuracy: 0.0000e+00 - val_loss: 0.0999 - val_accuracy: 0.0000e+00\n",
      "Epoch 132/200\n",
      "5/5 [==============================] - 0s 44ms/step - loss: 0.0839 - accuracy: 0.0000e+00 - val_loss: 0.0999 - val_accuracy: 0.0000e+00\n",
      "Epoch 133/200\n",
      "5/5 [==============================] - 0s 55ms/step - loss: 0.0839 - accuracy: 0.0000e+00 - val_loss: 0.0999 - val_accuracy: 0.0000e+00\n",
      "Epoch 134/200\n",
      "5/5 [==============================] - 0s 36ms/step - loss: 0.0839 - accuracy: 0.0000e+00 - val_loss: 0.0999 - val_accuracy: 0.0000e+00\n",
      "Epoch 135/200\n",
      "5/5 [==============================] - 0s 40ms/step - loss: 0.0839 - accuracy: 0.0000e+00 - val_loss: 0.0999 - val_accuracy: 0.0000e+00\n",
      "Epoch 136/200\n",
      "5/5 [==============================] - 0s 56ms/step - loss: 0.0839 - accuracy: 0.0000e+00 - val_loss: 0.0999 - val_accuracy: 0.0000e+00\n",
      "Epoch 137/200\n",
      "5/5 [==============================] - 0s 55ms/step - loss: 0.0839 - accuracy: 0.0000e+00 - val_loss: 0.0999 - val_accuracy: 0.0000e+00\n",
      "Epoch 138/200\n",
      "5/5 [==============================] - 0s 52ms/step - loss: 0.0839 - accuracy: 0.0000e+00 - val_loss: 0.0999 - val_accuracy: 0.0000e+00\n",
      "Epoch 139/200\n",
      "5/5 [==============================] - 0s 49ms/step - loss: 0.0839 - accuracy: 0.0000e+00 - val_loss: 0.0999 - val_accuracy: 0.0000e+00\n",
      "Epoch 140/200\n",
      "5/5 [==============================] - 0s 27ms/step - loss: 0.0839 - accuracy: 0.0000e+00 - val_loss: 0.0999 - val_accuracy: 0.0000e+00\n",
      "Epoch 141/200\n",
      "5/5 [==============================] - 0s 39ms/step - loss: 0.0839 - accuracy: 0.0000e+00 - val_loss: 0.0999 - val_accuracy: 0.0000e+00\n",
      "Epoch 142/200\n",
      "5/5 [==============================] - 0s 36ms/step - loss: 0.0839 - accuracy: 0.0000e+00 - val_loss: 0.0999 - val_accuracy: 0.0000e+00\n",
      "Epoch 143/200\n",
      "5/5 [==============================] - 0s 39ms/step - loss: 0.0839 - accuracy: 0.0000e+00 - val_loss: 0.0999 - val_accuracy: 0.0000e+00\n",
      "Epoch 144/200\n",
      "5/5 [==============================] - 0s 31ms/step - loss: 0.0839 - accuracy: 0.0000e+00 - val_loss: 0.0999 - val_accuracy: 0.0000e+00\n",
      "Epoch 145/200\n",
      "5/5 [==============================] - 0s 33ms/step - loss: 0.0839 - accuracy: 0.0000e+00 - val_loss: 0.0999 - val_accuracy: 0.0000e+00\n",
      "Epoch 146/200\n",
      "5/5 [==============================] - 0s 38ms/step - loss: 0.0839 - accuracy: 0.0000e+00 - val_loss: 0.0999 - val_accuracy: 0.0000e+00\n",
      "Epoch 147/200\n",
      "5/5 [==============================] - 0s 36ms/step - loss: 0.0839 - accuracy: 0.0000e+00 - val_loss: 0.0999 - val_accuracy: 0.0000e+00\n",
      "Epoch 148/200\n",
      "5/5 [==============================] - 0s 31ms/step - loss: 0.0839 - accuracy: 0.0000e+00 - val_loss: 0.0999 - val_accuracy: 0.0000e+00\n",
      "Epoch 149/200\n",
      "5/5 [==============================] - 0s 31ms/step - loss: 0.0839 - accuracy: 0.0000e+00 - val_loss: 0.0999 - val_accuracy: 0.0000e+00\n",
      "Epoch 150/200\n",
      "5/5 [==============================] - 0s 71ms/step - loss: 0.0839 - accuracy: 0.0000e+00 - val_loss: 0.0999 - val_accuracy: 0.0000e+00\n",
      "Epoch 151/200\n",
      "5/5 [==============================] - 0s 50ms/step - loss: 0.0839 - accuracy: 0.0000e+00 - val_loss: 0.0999 - val_accuracy: 0.0000e+00\n",
      "Epoch 152/200\n",
      "5/5 [==============================] - 0s 44ms/step - loss: 0.0839 - accuracy: 0.0000e+00 - val_loss: 0.0999 - val_accuracy: 0.0000e+00\n",
      "Epoch 153/200\n",
      "5/5 [==============================] - 0s 61ms/step - loss: 0.0839 - accuracy: 0.0000e+00 - val_loss: 0.0999 - val_accuracy: 0.0000e+00\n",
      "Epoch 154/200\n",
      "5/5 [==============================] - 0s 59ms/step - loss: 0.0839 - accuracy: 0.0000e+00 - val_loss: 0.0999 - val_accuracy: 0.0000e+00\n",
      "Epoch 155/200\n",
      "5/5 [==============================] - 0s 39ms/step - loss: 0.0839 - accuracy: 0.0000e+00 - val_loss: 0.0999 - val_accuracy: 0.0000e+00\n",
      "Epoch 156/200\n",
      "5/5 [==============================] - 0s 34ms/step - loss: 0.0839 - accuracy: 0.0000e+00 - val_loss: 0.0999 - val_accuracy: 0.0000e+00\n",
      "Epoch 157/200\n",
      "5/5 [==============================] - 0s 41ms/step - loss: 0.0839 - accuracy: 0.0000e+00 - val_loss: 0.0999 - val_accuracy: 0.0000e+00\n",
      "Epoch 158/200\n",
      "5/5 [==============================] - 0s 31ms/step - loss: 0.0839 - accuracy: 0.0000e+00 - val_loss: 0.0999 - val_accuracy: 0.0000e+00\n",
      "Epoch 159/200\n",
      "5/5 [==============================] - 0s 39ms/step - loss: 0.0839 - accuracy: 0.0000e+00 - val_loss: 0.0999 - val_accuracy: 0.0000e+00\n",
      "Epoch 160/200\n",
      "5/5 [==============================] - 0s 34ms/step - loss: 0.0839 - accuracy: 0.0000e+00 - val_loss: 0.0999 - val_accuracy: 0.0000e+00\n",
      "Epoch 161/200\n",
      "5/5 [==============================] - 0s 29ms/step - loss: 0.0839 - accuracy: 0.0000e+00 - val_loss: 0.0999 - val_accuracy: 0.0000e+00\n",
      "Epoch 162/200\n",
      "5/5 [==============================] - 0s 42ms/step - loss: 0.0839 - accuracy: 0.0000e+00 - val_loss: 0.0999 - val_accuracy: 0.0000e+00\n",
      "Epoch 163/200\n",
      "5/5 [==============================] - 0s 35ms/step - loss: 0.0839 - accuracy: 0.0000e+00 - val_loss: 0.0999 - val_accuracy: 0.0000e+00\n",
      "Epoch 164/200\n",
      "5/5 [==============================] - 0s 41ms/step - loss: 0.0839 - accuracy: 0.0000e+00 - val_loss: 0.0999 - val_accuracy: 0.0000e+00\n",
      "Epoch 165/200\n"
     ]
    },
    {
     "name": "stdout",
     "output_type": "stream",
     "text": [
      "5/5 [==============================] - 0s 28ms/step - loss: 0.0839 - accuracy: 0.0000e+00 - val_loss: 0.0999 - val_accuracy: 0.0000e+00\n",
      "Epoch 166/200\n",
      "5/5 [==============================] - 0s 29ms/step - loss: 0.0839 - accuracy: 0.0000e+00 - val_loss: 0.0999 - val_accuracy: 0.0000e+00\n",
      "Epoch 167/200\n",
      "5/5 [==============================] - 0s 26ms/step - loss: 0.0839 - accuracy: 0.0000e+00 - val_loss: 0.0999 - val_accuracy: 0.0000e+00\n",
      "Epoch 168/200\n",
      "5/5 [==============================] - 0s 27ms/step - loss: 0.0839 - accuracy: 0.0000e+00 - val_loss: 0.0999 - val_accuracy: 0.0000e+00\n",
      "Epoch 169/200\n",
      "5/5 [==============================] - 0s 30ms/step - loss: 0.0839 - accuracy: 0.0000e+00 - val_loss: 0.0999 - val_accuracy: 0.0000e+00\n",
      "Epoch 170/200\n",
      "5/5 [==============================] - 0s 42ms/step - loss: 0.0839 - accuracy: 0.0000e+00 - val_loss: 0.0999 - val_accuracy: 0.0000e+00\n",
      "Epoch 171/200\n",
      "5/5 [==============================] - 0s 49ms/step - loss: 0.0838 - accuracy: 0.0000e+00 - val_loss: 0.0999 - val_accuracy: 0.0000e+00\n",
      "Epoch 172/200\n",
      "5/5 [==============================] - 0s 39ms/step - loss: 0.0839 - accuracy: 0.0000e+00 - val_loss: 0.0999 - val_accuracy: 0.0000e+00\n",
      "Epoch 173/200\n",
      "5/5 [==============================] - 0s 39ms/step - loss: 0.0839 - accuracy: 0.0000e+00 - val_loss: 0.0999 - val_accuracy: 0.0000e+00\n",
      "Epoch 174/200\n",
      "5/5 [==============================] - 0s 29ms/step - loss: 0.0839 - accuracy: 0.0000e+00 - val_loss: 0.0999 - val_accuracy: 0.0000e+00\n",
      "Epoch 175/200\n",
      "5/5 [==============================] - 0s 48ms/step - loss: 0.0838 - accuracy: 0.0000e+00 - val_loss: 0.0999 - val_accuracy: 0.0000e+00\n",
      "Epoch 176/200\n",
      "5/5 [==============================] - 0s 44ms/step - loss: 0.0838 - accuracy: 0.0000e+00 - val_loss: 0.0999 - val_accuracy: 0.0000e+00\n",
      "Epoch 177/200\n",
      "5/5 [==============================] - 0s 34ms/step - loss: 0.0839 - accuracy: 0.0000e+00 - val_loss: 0.0999 - val_accuracy: 0.0000e+00\n",
      "Epoch 178/200\n",
      "5/5 [==============================] - 0s 49ms/step - loss: 0.0838 - accuracy: 0.0000e+00 - val_loss: 0.0999 - val_accuracy: 0.0000e+00\n",
      "Epoch 179/200\n",
      "5/5 [==============================] - 0s 49ms/step - loss: 0.0838 - accuracy: 0.0000e+00 - val_loss: 0.0999 - val_accuracy: 0.0000e+00\n",
      "Epoch 180/200\n",
      "5/5 [==============================] - 0s 65ms/step - loss: 0.0838 - accuracy: 0.0000e+00 - val_loss: 0.0999 - val_accuracy: 0.0000e+00\n",
      "Epoch 181/200\n",
      "5/5 [==============================] - 0s 40ms/step - loss: 0.0839 - accuracy: 0.0000e+00 - val_loss: 0.0999 - val_accuracy: 0.0000e+00\n",
      "Epoch 182/200\n",
      "5/5 [==============================] - 0s 35ms/step - loss: 0.0838 - accuracy: 0.0000e+00 - val_loss: 0.0999 - val_accuracy: 0.0000e+00\n",
      "Epoch 183/200\n",
      "5/5 [==============================] - 0s 55ms/step - loss: 0.0838 - accuracy: 0.0000e+00 - val_loss: 0.0999 - val_accuracy: 0.0000e+00\n",
      "Epoch 184/200\n",
      "5/5 [==============================] - 0s 39ms/step - loss: 0.0838 - accuracy: 0.0000e+00 - val_loss: 0.0999 - val_accuracy: 0.0000e+00\n",
      "Epoch 185/200\n",
      "5/5 [==============================] - 0s 51ms/step - loss: 0.0838 - accuracy: 0.0000e+00 - val_loss: 0.0999 - val_accuracy: 0.0000e+00\n",
      "Epoch 186/200\n",
      "5/5 [==============================] - 0s 36ms/step - loss: 0.0838 - accuracy: 0.0000e+00 - val_loss: 0.0999 - val_accuracy: 0.0000e+00\n",
      "Epoch 187/200\n",
      "5/5 [==============================] - 0s 46ms/step - loss: 0.0838 - accuracy: 0.0000e+00 - val_loss: 0.0999 - val_accuracy: 0.0000e+00\n",
      "Epoch 188/200\n",
      "5/5 [==============================] - 0s 52ms/step - loss: 0.0838 - accuracy: 0.0000e+00 - val_loss: 0.0999 - val_accuracy: 0.0000e+00\n",
      "Epoch 189/200\n",
      "5/5 [==============================] - 0s 36ms/step - loss: 0.0838 - accuracy: 0.0000e+00 - val_loss: 0.0999 - val_accuracy: 0.0000e+00\n",
      "Epoch 190/200\n",
      "5/5 [==============================] - 0s 70ms/step - loss: 0.0838 - accuracy: 0.0000e+00 - val_loss: 0.0999 - val_accuracy: 0.0000e+00\n",
      "Epoch 191/200\n",
      "5/5 [==============================] - 0s 44ms/step - loss: 0.0838 - accuracy: 0.0000e+00 - val_loss: 0.0999 - val_accuracy: 0.0000e+00\n",
      "Epoch 192/200\n",
      "5/5 [==============================] - 0s 36ms/step - loss: 0.0838 - accuracy: 0.0000e+00 - val_loss: 0.0999 - val_accuracy: 0.0000e+00\n",
      "Epoch 193/200\n",
      "5/5 [==============================] - 0s 45ms/step - loss: 0.0838 - accuracy: 0.0000e+00 - val_loss: 0.0999 - val_accuracy: 0.0000e+00\n",
      "Epoch 194/200\n",
      "5/5 [==============================] - 0s 41ms/step - loss: 0.0838 - accuracy: 0.0000e+00 - val_loss: 0.0999 - val_accuracy: 0.0000e+00\n",
      "Epoch 195/200\n",
      "5/5 [==============================] - 0s 33ms/step - loss: 0.0838 - accuracy: 0.0000e+00 - val_loss: 0.0999 - val_accuracy: 0.0000e+00\n",
      "Epoch 196/200\n",
      "5/5 [==============================] - 0s 51ms/step - loss: 0.0838 - accuracy: 0.0000e+00 - val_loss: 0.0999 - val_accuracy: 0.0000e+00\n",
      "Epoch 197/200\n",
      "5/5 [==============================] - 0s 45ms/step - loss: 0.0838 - accuracy: 0.0000e+00 - val_loss: 0.0999 - val_accuracy: 0.0000e+00\n",
      "Epoch 198/200\n",
      "5/5 [==============================] - 0s 38ms/step - loss: 0.0838 - accuracy: 0.0000e+00 - val_loss: 0.0999 - val_accuracy: 0.0000e+00\n",
      "Epoch 199/200\n",
      "5/5 [==============================] - 0s 51ms/step - loss: 0.0838 - accuracy: 0.0000e+00 - val_loss: 0.0999 - val_accuracy: 0.0000e+00\n",
      "Epoch 200/200\n",
      "5/5 [==============================] - 0s 48ms/step - loss: 0.0838 - accuracy: 0.0000e+00 - val_loss: 0.0999 - val_accuracy: 0.0000e+00\n"
     ]
    }
   ],
   "source": [
    "history = model.fit(x_train_norm, \n",
    "    y_train_norm,\n",
    "    batch_size = 32,\n",
    "    epochs=200,\n",
    "    shuffle=True,\n",
    "    validation_data=(x_val_norm, y_val_norm),\n",
    "    callbacks=[model_checkpoint_callback])"
   ]
  },
  {
   "cell_type": "code",
   "execution_count": 40,
   "metadata": {},
   "outputs": [
    {
     "data": {
      "text/plain": [
       "<tensorflow.python.training.tracking.util.CheckpointLoadStatus at 0x7f8660257748>"
      ]
     },
     "execution_count": 40,
     "metadata": {},
     "output_type": "execute_result"
    }
   ],
   "source": [
    "model.load_weights(checkpoint_filepath)"
   ]
  },
  {
   "cell_type": "code",
   "execution_count": 41,
   "metadata": {},
   "outputs": [
    {
     "name": "stdout",
     "output_type": "stream",
     "text": [
      "WARNING:tensorflow:Model was constructed with shape (None, 1, 40) for input Tensor(\"dense_22_input:0\", shape=(None, 1, 40), dtype=float32), but it was called on an input with incompatible shape (None, 40).\n"
     ]
    },
    {
     "data": {
      "text/plain": [
       "array([[ 0.5081441 ,  0.5008192 ,  0.5064195 ,  0.49524   ,  0.47375044,\n",
       "         0.487626  ,  0.51203805,  0.52904665,  0.5005556 ,  0.51284057,\n",
       "         0.512905  ,  0.4975343 ,  0.4691856 ,  0.4958635 ,  0.5008346 ,\n",
       "         0.49743855,  0.4707895 ,  0.49453372,  0.44534266,  0.47127578,\n",
       "         0.42555752,  0.4730156 ,  0.48884875,  0.46123576,  0.52298284,\n",
       "         0.55312186,  0.49249998,  0.47106916,  0.50503784,  0.5231634 ,\n",
       "         0.5227557 ,  0.5050683 ,  0.50458896,  0.5846054 ,  0.5739945 ,\n",
       "         0.5642071 ,  0.508358  ,  0.54737264,  0.5303783 ,  0.4941168 ,\n",
       "         0.5033457 ,  0.4442489 ,  0.51063615,  0.52669704,  0.51494855,\n",
       "         0.576257  ,  0.51148343,  0.47323254,  0.49839187,  0.469989  ,\n",
       "         0.47087803,  0.49260566,  0.5087659 ,  0.52471495,  0.5238496 ,\n",
       "         0.4676492 ,  0.48467198,  0.459445  ,  0.5328232 ,  0.49068558,\n",
       "         0.47748536,  0.5058846 ,  0.46206918,  0.508134  ,  0.52897096,\n",
       "         0.5227722 ,  0.4680704 ,  0.5354134 ,  0.4600814 ,  0.6197059 ,\n",
       "         0.4608098 ,  0.4896701 ,  0.47258255,  0.59710664,  0.48687506,\n",
       "         0.5178118 ,  0.52712786,  0.47302997,  0.5090977 ,  0.5168263 ,\n",
       "         0.6106103 ,  0.4745138 ,  0.5238161 ,  0.50445354,  0.44011667,\n",
       "         0.48952445,  0.4696229 ,  0.46159583,  0.41697052,  0.5352076 ,\n",
       "         0.47482327,  0.5004685 ,  0.59262824,  0.4670391 ,  0.5043015 ,\n",
       "         0.5277266 ,  0.5777513 ,  0.46855286,  0.49305743,  0.53508496,\n",
       "         0.4960897 ,  0.5421786 ,  0.52343273,  0.49154985,  0.48193267,\n",
       "         0.50329214,  0.5454066 ,  0.42821673,  0.48913231,  0.5041933 ,\n",
       "         0.5042946 ,  0.48587316,  0.48044115,  0.5127632 ,  0.54173446,\n",
       "         0.48339328,  0.45215777,  0.5173716 ,  0.5113818 ,  0.44152603,\n",
       "         0.48746854,  0.503831  ,  0.52137434,  0.5091902 ,  0.49740407,\n",
       "         0.4510735 ,  0.5047277 ,  0.46982995,  0.4841395 ,  0.48274323,\n",
       "         0.48505467,  0.5002058 ,  0.49997845,  0.50986534,  0.48390722,\n",
       "         0.5103648 ,  0.4620011 ,  0.5013904 ,  0.5023547 ,  0.4807073 ,\n",
       "         0.49588358,  0.48149523,  0.49009928,  0.54246426,  0.49203792,\n",
       "         0.50547194,  0.48835224,  0.5395433 ,  0.48924923,  0.5275074 ,\n",
       "         0.53260154,  0.46733424,  0.48928007,  0.5110963 ,  0.5266278 ,\n",
       "         0.55963486,  0.4901413 ,  0.50012875,  0.48952633,  0.46301395,\n",
       "         0.5222032 ,  0.49104273,  0.4918981 ,  0.4924488 ,  0.46520168,\n",
       "         0.54038143,  0.5082272 ,  0.49465707,  0.5328731 ,  0.48503408,\n",
       "         0.5011662 ,  0.47358584,  0.5101079 ,  0.50293374,  0.48395568,\n",
       "         0.59400994,  0.5236836 ,  0.43025106,  0.4819459 ,  0.51903987,\n",
       "         0.49130446,  0.48970464,  0.55018836,  0.497819  ,  0.46748692,\n",
       "         0.4444891 ,  0.54307055,  0.52367306,  0.5250657 ,  0.5480545 ,\n",
       "         0.49194437,  0.546776  ,  0.49489084,  0.5071825 ,  0.456574  ,\n",
       "         0.54195803,  0.48476866,  0.50546455,  0.48153523,  0.5035854 ,\n",
       "         0.5224358 ,  0.52162343,  0.50090086,  0.4931777 ,  0.5218234 ,\n",
       "         0.525216  ,  0.42707187,  0.503551  ,  0.5106794 ,  0.5065318 ,\n",
       "         0.5427545 ,  0.4389812 ,  0.4882364 ,  0.47803262,  0.5030191 ,\n",
       "         0.52629745,  0.50091934,  0.53759843,  0.5299284 ,  0.4487023 ,\n",
       "         0.53322643,  0.5112105 ,  0.4123975 ,  0.5003534 ,  0.47464392,\n",
       "         0.49876642,  0.44713828,  0.48176518,  0.50855744,  0.50882125,\n",
       "         0.47608608,  0.5334275 ,  0.4981458 ,  0.4929286 ,  0.491307  ,\n",
       "         0.53657037,  0.45944142,  0.49612075,  0.4971482 ,  0.4910275 ,\n",
       "         0.46280375,  0.54442734,  0.538083  ,  0.51101047,  0.4957405 ,\n",
       "         0.5686423 ,  0.52419263,  0.46019557,  0.51402825,  0.49154827,\n",
       "         0.51691306,  0.4716117 ,  0.50338024,  0.5312195 ,  0.49888387,\n",
       "         0.5277814 ,  0.54186743,  0.5533575 ,  0.4367612 ,  0.47353524,\n",
       "         0.4845885 ,  0.5343324 ,  0.50560683,  0.5413919 ,  0.49351636,\n",
       "         0.55161756,  0.5261005 ,  0.4787261 ,  0.45827514,  0.5947868 ,\n",
       "         0.46685705,  0.523114  ,  0.52114415,  0.49722216,  0.46019498,\n",
       "         0.4798457 ,  0.52963567,  0.47361237,  0.58463305,  0.48703545,\n",
       "         0.5102359 ,  0.47523242,  0.5005163 ,  0.50585574,  0.5593554 ,\n",
       "         0.599805  ,  0.4834981 ,  0.51101524,  0.44669676,  0.50523126,\n",
       "         0.53054035,  0.5252518 ,  0.52437764,  0.5113872 ,  0.51930076,\n",
       "         0.4603434 ,  0.5471107 ,  0.52581733,  0.5416852 ,  0.38728538,\n",
       "         0.50202775,  0.5104778 ,  0.5106513 ,  0.4910761 ,  0.49403915,\n",
       "         0.52939445,  0.4873314 ,  0.49997547,  0.47229102,  0.51427096,\n",
       "         0.50307345,  0.42338106,  0.5220756 ,  0.49311596,  0.53993696,\n",
       "         0.51748407,  0.52598506,  0.49364254,  0.494031  ,  0.4856914 ,\n",
       "         0.5532168 ,  0.4964858 ,  0.4618055 ,  0.5006313 ,  0.50730157,\n",
       "         0.46814495,  0.4994535 ,  0.52272373,  0.503642  ,  0.5382556 ,\n",
       "         0.52489394,  0.5232911 ,  0.50283   ,  0.48906454,  0.5300938 ,\n",
       "         0.5168918 ,  0.41974193,  0.48710293,  0.5277999 ,  0.52476174,\n",
       "         0.49025345,  0.54536265,  0.604454  ,  0.53289175,  0.5151515 ,\n",
       "         0.53674173,  0.446605  ,  0.5163585 ,  0.49579093,  0.49523124,\n",
       "         0.4698373 ,  0.48506856,  0.5036963 ,  0.48417577,  0.5105202 ,\n",
       "         0.49659577,  0.5014035 ,  0.49388462,  0.39299706,  0.5120347 ,\n",
       "         0.5105153 ,  0.5195863 ,  0.49210295,  0.58867365,  0.5541365 ,\n",
       "         0.5118756 ,  0.46354204,  0.50376236,  0.46207055,  0.47483063,\n",
       "         0.49785414,  0.48646253,  0.48644105,  0.49744338,  0.56501967,\n",
       "         0.49357188,  0.51332885,  0.49142307,  0.5420838 ,  0.4843566 ,\n",
       "         0.5031785 ,  0.47309917,  0.47628805,  0.54435277,  0.4808768 ,\n",
       "         0.49966076,  0.54940236,  0.5115541 ,  0.5429936 ,  0.44309783,\n",
       "         0.51611215,  0.48676097,  0.4881934 ,  0.502335  ,  0.47943288,\n",
       "         0.48246443,  0.475618  ,  0.49880973,  0.54579604,  0.4916674 ,\n",
       "         0.47543177,  0.46825138,  0.45541766,  0.5191867 ,  0.48557472,\n",
       "         0.49384356,  0.5672998 ,  0.5484697 ,  0.45913833,  0.5012084 ,\n",
       "         0.45764294,  0.53012216,  0.42168245,  0.54372877,  0.5224866 ,\n",
       "         0.5201899 ,  0.5025572 ,  0.5161271 ,  0.5575483 ,  0.5422284 ,\n",
       "         0.52644587,  0.5075398 ,  0.5706455 ,  0.4957505 ,  0.48680136,\n",
       "         0.36201206,  0.5173417 ,  0.55683506,  0.43582186,  0.65556794,\n",
       "         0.39502066,  0.5836637 ,  0.5839969 ,  0.53260285,  0.52074885,\n",
       "         0.46489555,  0.49338436,  0.73176056,  0.4877828 ,  0.34281293,\n",
       "         0.661755  ,  0.5602642 ,  0.48521236,  0.48359823,  0.4267621 ,\n",
       "         0.4421791 ,  0.5348946 , -0.01137461,  0.51882863,  0.02665912]],\n",
       "      dtype=float32)"
      ]
     },
     "execution_count": 41,
     "metadata": {},
     "output_type": "execute_result"
    }
   ],
   "source": [
    "test = model.predict(x_test_norm[0])\n",
    "test\n",
    "scalery.inverse_transform(test)"
   ]
  },
  {
   "cell_type": "code",
   "execution_count": null,
   "metadata": {
    "scrolled": true
   },
   "outputs": [],
   "source": [
    "# model.save('./data/100-samples/model')"
   ]
  },
  {
   "cell_type": "markdown",
   "metadata": {},
   "source": [
    "### Visualize"
   ]
  },
  {
   "cell_type": "code",
   "execution_count": 44,
   "metadata": {},
   "outputs": [
    {
     "data": {
      "text/plain": [
       "array([[26.,  4., 32., 31.],\n",
       "       [29.,  6., 30., 25.],\n",
       "       [ 2., 12., 18., 31.],\n",
       "       [19., 13., 26., 16.],\n",
       "       [30., 27., 25., 14.],\n",
       "       [15., 26., 21.,  7.],\n",
       "       [21.,  2., 21., 20.],\n",
       "       [29.,  2., 19., 25.],\n",
       "       [10., 11., 19., 21.],\n",
       "       [21.,  9., 25.,  3.]])"
      ]
     },
     "execution_count": 44,
     "metadata": {},
     "output_type": "execute_result"
    }
   ],
   "source": [
    "locations = scalerx.inverse_transform(x_test_norm[0])\n",
    "locations = locations.reshape((-1,4))\n",
    "locations "
   ]
  },
  {
   "cell_type": "code",
   "execution_count": 46,
   "metadata": {
    "scrolled": true
   },
   "outputs": [
    {
     "data": {
      "text/plain": [
       "array([[0.4998759 , 0.5022603 , 0.50444293, 0.5054364 , 0.50451005,\n",
       "        0.5096098 , 0.498347  , 0.51121473, 0.50103515, 0.49416572,\n",
       "        0.51572806, 0.50204825, 0.49405885, 0.49424872, 0.50306445,\n",
       "        0.50782496, 0.49350715, 0.48996776, 0.4992358 , 0.50529695,\n",
       "        0.49258953, 0.5034784 , 0.49215654, 0.4974272 , 0.5096365 ,\n",
       "        0.49350777, 0.4914013 , 0.5092481 , 0.5050171 , 0.5013909 ,\n",
       "        0.50365484, 0.49650392, 0.50528556, 0.5140095 , 0.48852426,\n",
       "        0.49993935, 0.49870545, 0.49499154, 0.50515014, 0.49478567,\n",
       "        0.49260676, 0.49748322, 0.5011074 , 0.5032714 , 0.5113794 ,\n",
       "        0.51416653, 0.4875657 , 0.4966709 , 0.49255764, 0.50072974,\n",
       "        0.49883655, 0.49942085, 0.50231016, 0.49923596, 0.49901715,\n",
       "        0.5110032 , 0.49384642, 0.49936998, 0.4992383 , 0.4937159 ,\n",
       "        0.5012424 , 0.49266836, 0.49932525, 0.5050574 , 0.49786174,\n",
       "        0.50199944, 0.49918953, 0.504401  , 0.500132  , 0.4986022 ,\n",
       "        0.49933016, 0.5042754 , 0.49373835, 0.49624202, 0.49570066,\n",
       "        0.5011447 , 0.50326216, 0.4872293 , 0.5012538 , 0.497852  ,\n",
       "        0.50767535, 0.48530862, 0.5035675 , 0.496213  , 0.5021914 ,\n",
       "        0.493803  , 0.5022328 , 0.4981347 , 0.49517417, 0.4975244 ,\n",
       "        0.49888614, 0.4939319 , 0.5002085 , 0.50367063, 0.49970406,\n",
       "        0.4919    , 0.5147354 , 0.4928618 , 0.49644467, 0.51089096,\n",
       "        0.49541956, 0.5029765 , 0.50167483, 0.49445465, 0.5020573 ,\n",
       "        0.4911146 , 0.503386  , 0.5035083 , 0.49649253, 0.49886572,\n",
       "        0.49573857, 0.49314013, 0.4952829 , 0.50170773, 0.49549434,\n",
       "        0.5041174 , 0.49485418, 0.5048187 , 0.5005813 , 0.4863957 ,\n",
       "        0.5023826 , 0.5073459 , 0.49629524, 0.50008714, 0.49319953,\n",
       "        0.50681955, 0.5039213 , 0.5050051 , 0.5070022 , 0.5017629 ,\n",
       "        0.5163891 , 0.4977505 , 0.49220708, 0.49597454, 0.5008441 ,\n",
       "        0.5076776 , 0.51416403, 0.49476433, 0.49916747, 0.49232888,\n",
       "        0.49907407, 0.49546716, 0.50451803, 0.49289268, 0.49494493,\n",
       "        0.50197303, 0.5001316 , 0.5036153 , 0.50788665, 0.50242364,\n",
       "        0.48172954, 0.5085474 , 0.5005293 , 0.49438515, 0.49849147,\n",
       "        0.5005422 , 0.509287  , 0.49765337, 0.49457496, 0.49005878,\n",
       "        0.4964225 , 0.4961453 , 0.4904329 , 0.50238466, 0.50414777,\n",
       "        0.51176447, 0.5009297 , 0.5091816 , 0.5035636 , 0.48989716,\n",
       "        0.501155  , 0.49532416, 0.49623162, 0.50193405, 0.49960536,\n",
       "        0.502189  , 0.49311355, 0.49703237, 0.49436274, 0.49631044,\n",
       "        0.49634558, 0.51062554, 0.49019352, 0.50202596, 0.5056615 ,\n",
       "        0.50400573, 0.50626916, 0.5125109 , 0.5059935 , 0.49772775,\n",
       "        0.5007989 , 0.50964344, 0.49058938, 0.5046144 , 0.49022755,\n",
       "        0.50422156, 0.49793634, 0.49223542, 0.49548337, 0.5086864 ,\n",
       "        0.506725  , 0.50459415, 0.49074462, 0.5016921 , 0.49909866,\n",
       "        0.49147236, 0.5032768 , 0.5009223 , 0.5075442 , 0.501168  ,\n",
       "        0.49174598, 0.5024731 , 0.50080705, 0.49551743, 0.5009449 ,\n",
       "        0.50303674, 0.5006382 , 0.49345013, 0.5048615 , 0.49783355,\n",
       "        0.50379896, 0.50707775, 0.51104474, 0.5036794 , 0.5021051 ,\n",
       "        0.5057058 , 0.49626264, 0.49829942, 0.49499217, 0.5090301 ,\n",
       "        0.49652502, 0.5076073 , 0.4973514 , 0.4977406 , 0.49663347,\n",
       "        0.50410587, 0.4975435 , 0.5047905 , 0.5045703 , 0.49535146,\n",
       "        0.50845337, 0.50090295, 0.5096095 , 0.5031419 , 0.4964467 ,\n",
       "        0.49070734, 0.50782704, 0.5095774 , 0.49567688, 0.49804264,\n",
       "        0.50306666, 0.50513947, 0.5018713 , 0.49801993, 0.5000133 ,\n",
       "        0.5044533 , 0.49298698, 0.5065428 , 0.49997795, 0.5001378 ,\n",
       "        0.50207365, 0.5081875 , 0.51132697, 0.49399987, 0.50700307,\n",
       "        0.49841508, 0.5037537 , 0.49572924, 0.5023876 , 0.5188773 ,\n",
       "        0.4938584 , 0.49595907, 0.49468365, 0.5033099 , 0.4924476 ,\n",
       "        0.4996771 , 0.5018783 , 0.4956407 , 0.5015938 , 0.50082606,\n",
       "        0.50664115, 0.5035476 , 0.49241966, 0.50154793, 0.49993908,\n",
       "        0.49654052, 0.49762863, 0.5043812 , 0.5071941 , 0.49238455,\n",
       "        0.5001146 , 0.5084277 , 0.48804668, 0.50408673, 0.49765143,\n",
       "        0.49355218, 0.4988163 , 0.49364147, 0.50877446, 0.49286088,\n",
       "        0.49348   , 0.50591487, 0.50002086, 0.49596512, 0.5040998 ,\n",
       "        0.51158255, 0.4981115 , 0.50481653, 0.5020431 , 0.5025819 ,\n",
       "        0.5108959 , 0.4958555 , 0.4965397 , 0.4924713 , 0.50718915,\n",
       "        0.5130132 , 0.49981934, 0.4974491 , 0.49320295, 0.5005603 ,\n",
       "        0.4972913 , 0.4973428 , 0.50540876, 0.49597237, 0.50116956,\n",
       "        0.50569075, 0.49448252, 0.5055191 , 0.49814636, 0.51525307,\n",
       "        0.4934434 , 0.5029239 , 0.5058296 , 0.5061989 , 0.493001  ,\n",
       "        0.50006217, 0.49803907, 0.49133867, 0.49782276, 0.4955098 ,\n",
       "        0.49864462, 0.49457866, 0.49707782, 0.49855095, 0.49242002,\n",
       "        0.49755415, 0.49987006, 0.49104616, 0.49926457, 0.5002834 ,\n",
       "        0.4977109 , 0.49059403, 0.5082516 , 0.49594754, 0.49475226,\n",
       "        0.5098978 , 0.4917062 , 0.49131894, 0.50481373, 0.5122453 ,\n",
       "        0.4978376 , 0.48904502, 0.50320333, 0.500047  , 0.4952482 ,\n",
       "        0.49711084, 0.50583965, 0.4996622 , 0.499735  , 0.48948336,\n",
       "        0.5043352 , 0.5042553 , 0.49673644, 0.50130457, 0.5007901 ,\n",
       "        0.49880874, 0.49803886, 0.50472355, 0.4994528 , 0.50542206,\n",
       "        0.49394822, 0.49452496, 0.50369155, 0.49656403, 0.48882082,\n",
       "        0.49764255, 0.5006781 , 0.50208443, 0.5071256 , 0.49023876,\n",
       "        0.49730918, 0.499415  , 0.50168836, 0.49346456, 0.49096185,\n",
       "        0.4974967 , 0.5018902 , 0.501234  , 0.50563616, 0.49910858,\n",
       "        0.49580082, 0.49079385, 0.49644995, 0.49763578, 0.50274915,\n",
       "        0.5009294 , 0.501397  , 0.4937861 , 0.5022708 , 0.48840517,\n",
       "        0.51121825, 0.49598917, 0.50654453, 0.50077206, 0.5073306 ,\n",
       "        0.49678865, 0.5043752 , 0.49819127, 0.50287145, 0.50831586,\n",
       "        0.51051015, 0.5056581 , 0.50966376, 0.49430877, 0.48360696,\n",
       "        0.49613836, 0.5008697 , 0.5024804 , 0.49869144, 0.4996855 ,\n",
       "        0.50327784, 0.4986218 , 0.51109993, 0.5013164 , 0.49516365,\n",
       "        0.49108902, 0.49325708, 0.495689  , 0.50940967, 0.49946252,\n",
       "        0.5005573 , 0.502836  , 0.5042009 , 0.4992096 , 0.4966126 ,\n",
       "        0.49695864, 0.5069008 , 0.493744  , 0.5103481 , 0.5063804 ]],\n",
       "      dtype=float32)"
      ]
     },
     "execution_count": 46,
     "metadata": {},
     "output_type": "execute_result"
    }
   ],
   "source": [
    "probabilities = model.predict(x_test_norm[0])\n",
    "probabilities"
   ]
  },
  {
   "cell_type": "code",
   "execution_count": null,
   "metadata": {},
   "outputs": [],
   "source": []
  },
  {
   "cell_type": "code",
   "execution_count": null,
   "metadata": {},
   "outputs": [],
   "source": []
  },
  {
   "cell_type": "code",
   "execution_count": null,
   "metadata": {},
   "outputs": [],
   "source": []
  },
  {
   "cell_type": "code",
   "execution_count": 27,
   "metadata": {},
   "outputs": [],
   "source": [
    "scene = \"./input/random-32-32-10/scen-even/random-32-32-10-even-\" + str(DATASET) + \".scen\"\n",
    "exp = experiment.Experiment(scene=scene)"
   ]
  },
  {
   "cell_type": "code",
   "execution_count": 28,
   "metadata": {
    "scrolled": false
   },
   "outputs": [
    {
     "name": "stdout",
     "output_type": "stream",
     "text": [
      "removed num of points 79\n",
      "num of points remained 444\n",
      "Set Hyper Parameters, solving for 10 agents\n",
      "total number of distance 447\n",
      "Number of trainable probabilities 388\n",
      "Length cutoff threshold 2\n"
     ]
    }
   ],
   "source": [
    "output = ANNVoronoiDirected.get_results(probabilities, exp)\n",
    "\n",
    "vordir_paths, vordir_cost, vordir_ft, vordir_u1, vordir_u2, vordir_con, vordir_conmax, vordir_conavg, vordir_G0, vordir_G, vordir_thres = output"
   ]
  },
  {
   "cell_type": "code",
   "execution_count": 40,
   "metadata": {},
   "outputs": [
    {
     "name": "stdout",
     "output_type": "stream",
     "text": [
      "Black px 106306 White px 80318\n"
     ]
    },
    {
     "data": {
      "text/plain": [
       "0.5696266289437586"
      ]
     },
     "execution_count": 40,
     "metadata": {},
     "output_type": "execute_result"
    },
    {
     "data": {
      "image/png": "[encoded data removed]",
      "text/plain": [
       "<Figure size 432x432 with 1 Axes>"
      ]
     },
     "metadata": {
      "needs_background": "light"
     },
     "output_type": "display_data"
    }
   ],
   "source": [
    "vordir_u2 = getCoverage(exp,vordir_G, directed = True)"
   ]
  },
  {
   "cell_type": "code",
   "execution_count": 45,
   "metadata": {},
   "outputs": [
    {
     "data": {
      "text/html": [
       "<div>\n",
       "<style scoped>\n",
       "    .dataframe tbody tr th:only-of-type {\n",
       "        vertical-align: middle;\n",
       "    }\n",
       "\n",
       "    .dataframe tbody tr th {\n",
       "        vertical-align: top;\n",
       "    }\n",
       "\n",
       "    .dataframe thead th {\n",
       "        text-align: right;\n",
       "    }\n",
       "</style>\n",
       "<table border=\"1\" class=\"dataframe\">\n",
       "  <thead>\n",
       "    <tr style=\"text-align: right;\">\n",
       "      <th></th>\n",
       "      <th>cost</th>\n",
       "      <th>vordir_ft</th>\n",
       "      <th>vordir_u1</th>\n",
       "      <th>vordir_u2</th>\n",
       "      <th>vordir_max</th>\n",
       "      <th>vordir_avg</th>\n",
       "      <th>subgraph</th>\n",
       "    </tr>\n",
       "  </thead>\n",
       "  <tbody>\n",
       "    <tr>\n",
       "      <th>0</th>\n",
       "      <td>71.178416</td>\n",
       "      <td>21.781828</td>\n",
       "      <td>0.305017</td>\n",
       "      <td>0.569627</td>\n",
       "      <td>3.0</td>\n",
       "      <td>0.625</td>\n",
       "      <td>0.003052</td>\n",
       "    </tr>\n",
       "  </tbody>\n",
       "</table>\n",
       "</div>"
      ],
      "text/plain": [
       "        cost  vordir_ft  vordir_u1  vordir_u2  vordir_max  vordir_avg  \\\n",
       "0  71.178416  21.781828   0.305017   0.569627         3.0       0.625   \n",
       "\n",
       "   subgraph  \n",
       "0  0.003052  "
      ]
     },
     "execution_count": 45,
     "metadata": {},
     "output_type": "execute_result"
    }
   ],
   "source": [
    "results = [vordir_cost, vordir_ft, vordir_u1, vordir_u2, vordir_conmax, vordir_conavg, vordir_thres]\n",
    "pd.DataFrame([results],columns=['cost','vordir_ft','vordir_u1','vordir_u2','vordir_max', 'vordir_avg','subgraph'])"
   ]
  },
  {
   "cell_type": "code",
   "execution_count": 34,
   "metadata": {
    "code_folding": [
     0
    ]
   },
   "outputs": [],
   "source": [
    "def showAccSolution(result_graph, paths, image, nodes, start_nodes, end_nodes, all_path = True, path_num = 0):\n",
    "    edges_in_path = []\n",
    "    image2 = 1-image\n",
    "    fig, ax = plt.subplots(figsize=(12,12))\n",
    "    img = np.array(1-image)\n",
    "    ax = sb.heatmap(img)\n",
    "    assigned = {}\n",
    "    \n",
    "    for index, path in enumerate(paths):\n",
    "#         path = paths[path_num]\n",
    "        for ite in range(len(path)-1):\n",
    "            edges_in_path.append(np.array([path[ite],path[ite+1],0]))\n",
    "            p1 = result_graph.nodes[path[ite]]['position']\n",
    "            p2 = result_graph.nodes[path[ite+1]]['position']\n",
    "\n",
    "            for r in (p1.x, p2.x, 1):\n",
    "                for c in (p1.y, p2.y, 1):\n",
    "                    if (Point(r,c) in np.array(nodes)[end_nodes]):\n",
    "                        image2[int(r),int(c)] = 1\n",
    "                    else:\n",
    "                        image2[int(r),int(c)] += 0.2\n",
    "\n",
    "        drawn = {}\n",
    "        loop = result_graph.edges if all_path else edges_in_path\n",
    "\n",
    "        for elem in loop:\n",
    "            cur = result_graph.edges[elem[0], elem[1], 0]['probability']\n",
    "            opposite = result_graph.edges[elem[1], elem[0], 0]['probability']\n",
    "            unused = 1 - cur - opposite\n",
    "            scaler = 0.7\n",
    "            if cur > opposite:\n",
    "                p1 = result_graph.nodes[elem[0]]['position']\n",
    "                arr1 = np.array([p1.x,p1.y])\n",
    "                p2 = result_graph.nodes[elem[1]]['position']\n",
    "                arr2 = np.array([p2.x,p2.y])\n",
    "                direction = (arr2-arr1) / np.linalg.norm(arr2 - arr1)\n",
    "                mag = np.linalg.norm(arr2 - arr1)*scaler\n",
    "                dx, dy = mag*direction\n",
    "            else:\n",
    "                p1 = result_graph.nodes[elem[1]]['position']\n",
    "                arr1 = np.array([p1.x,p1.y])\n",
    "                p2 = result_graph.nodes[elem[0]]['position']\n",
    "                arr2 = np.array([p2.x,p2.y])\n",
    "                direction = (arr2-arr1) / np.linalg.norm(arr2 - arr1)\n",
    "                mag = np.linalg.norm(arr2 - arr1)*scaler\n",
    "                dx, dy = mag*direction\n",
    "            \n",
    "            # only draw arrow once\n",
    "            if frozenset((p1.y, p1.x, dy, dx)) not in assigned.keys():\n",
    "                plt.arrow(p1.y, p1.x, dy, dx, head_width = 0.35, alpha=0.9, color = 'grey', linewidth=1)\n",
    "                assigned[frozenset((p1.y, p1.x, dy, dx))] = 1\n",
    "            \n",
    "#         p = start_nodes[index]\n",
    "#         plt.scatter(nodes[p].y, nodes[p].x, color = 'red', linewidths=5)\n",
    "#         p = end_nodes[index]\n",
    "#         plt.scatter(nodes[p].y, nodes[p].x, color = 'lime', linewidths=5)\n",
    "#         name = './results/vordir_path'+ str(path_num)+'.png'\n",
    "#         plt.gca().invert_yaxis()\n",
    "#         plt.savefig(name)\n",
    "        \n",
    "    for p in start_nodes:\n",
    "        plt.scatter(nodes[p].y, nodes[p].x, color = 'red', linewidths=5)\n",
    "    for p in end_nodes:\n",
    "        plt.scatter(nodes[p].y, nodes[p].x, color = 'lime', linewidths=5)\n",
    "\n",
    "#     name = './data/'+ 'ANN' +'.png'\n",
    "    plt.gca().invert_yaxis()\n",
    "#     plt.savefig(name)\n",
    "    return fig"
   ]
  },
  {
   "cell_type": "code",
   "execution_count": 35,
   "metadata": {
    "code_folding": [],
    "scrolled": false
   },
   "outputs": [
    {
     "data": {
      "image/png": "[encoded data removed]",
      "text/plain": [
       "<Figure size 864x864 with 2 Axes>"
      ]
     },
     "execution_count": 35,
     "metadata": {},
     "output_type": "execute_result"
    },
    {
     "data": {
      "image/png": "[encoded data removed]",
      "text/plain": [
       "<Figure size 864x864 with 2 Axes>"
      ]
     },
     "metadata": {
      "needs_background": "light"
     },
     "output_type": "display_data"
    }
   ],
   "source": [
    "showAccSolution(vordir_G0, \n",
    "                vordir_paths, \n",
    "                exp.image, \n",
    "                exp.nodes, \n",
    "                exp.start_nodes, \n",
    "                exp.end_nodes, \n",
    "                all_path = False, \n",
    "                path_num = 0) #path_num variables is unused"
   ]
  },
  {
   "cell_type": "code",
   "execution_count": 37,
   "metadata": {
    "code_folding": [
     0
    ]
   },
   "outputs": [],
   "source": [
    "def getCoverage(exp, G, directed = False):\n",
    "    total_area = 0\n",
    "    total_dist = 0\n",
    "    assigned = {}\n",
    "    fig, ax = plt.subplots(figsize=(6,6))\n",
    "    plt.xlim(0,34)\n",
    "    plt.ylim(0,34)\n",
    "    count = 0\n",
    "    for n in G.nodes:\n",
    "        for e in G.neighbors(n):\n",
    "            if n != e and frozenset((n, e)) not in assigned.keys():\n",
    "                \n",
    "                p1 = G.nodes[n]['position']\n",
    "                p2 = G.nodes[e]['position']\n",
    "                \n",
    "                if (directed):\n",
    "                    d = G.edges[n,e,0]['distance']\n",
    "                    c = G.edges[n,e,0]['capacity']\n",
    "                else:\n",
    "                    d = G.edges[n,e]['distance']\n",
    "                    c = G.edges[n,e]['capacity']\n",
    "                \n",
    "                \n",
    "                assigned[frozenset((n, e))] = 1\n",
    "\n",
    "                adjustp1 = Point(p1.y, p1.x)\n",
    "                adjustp2 = Point(p2.y, p2.x)\n",
    "\n",
    "                refpt1 = adjustp1 if adjustp1.y <= adjustp2.y else adjustp2\n",
    "                refpt2 = adjustp1 if adjustp1.y > adjustp2.y else adjustp2\n",
    "\n",
    "                if refpt1.x >= refpt2.x:\n",
    "                    theta_rot = np.pi - np.arctan(abs(refpt1.y - refpt2.y)/abs(refpt1.x - refpt2.x))\n",
    "                else:\n",
    "                    theta_rot = np.arctan(abs(refpt1.y - refpt2.y)/abs(refpt1.x - refpt2.x))\n",
    "\n",
    "                if theta_rot >= np.pi/2:\n",
    "                    theta = theta_rot - np.pi/2\n",
    "                else:\n",
    "                    theta = theta_rot + np.pi/2\n",
    "\n",
    "                dy = -(c/2)*np.sin(theta)\n",
    "                if refpt1.y == refpt2.y:\n",
    "                    dx = 0\n",
    "                    width = d\n",
    "                    height = c\n",
    "                    a = 0\n",
    "                elif refpt1.x > refpt2.x:\n",
    "                    dx = -(c/2)*np.cos(theta)\n",
    "                    width = c\n",
    "                    height = d\n",
    "                    a = (theta) * 180 / np.pi\n",
    "                elif refpt1.x == refpt2.x:\n",
    "                    dx = -(c/2)\n",
    "                    width = c\n",
    "                    height = d\n",
    "                    a = 0\n",
    "                else:\n",
    "                    dx = (c/2)*np.cos(np.pi - theta)\n",
    "                    width = d\n",
    "                    height = c\n",
    "                    a = (theta_rot) * 180 / np.pi\n",
    "                    \n",
    "\n",
    "                rect = Rectangle((refpt1.x+dx,refpt1.y+dy),width,height,linewidth=0.1,fill=True, angle = a,color = 'black')\n",
    "                plt.gca().add_patch(rect)\n",
    "                count +=1\n",
    "\n",
    "    for o in exp.obstacles_loc:\n",
    "        adjustedx, adjustedy = o[1],o[0]\n",
    "        rect = Rectangle((adjustedx-0.5,adjustedy-0.5),1,1,linewidth=0.1,fill=True, angle = 0, color = 'black')\n",
    "        plt.gca().add_patch(rect)\n",
    "\n",
    "    ax.axis('off')\n",
    "\n",
    "    im = fig\n",
    "    im.canvas.draw()\n",
    "    X = np.array(im.canvas.renderer._renderer)\n",
    "    X_reshape = X.reshape((-1,4))\n",
    "    X_reshape = np.delete(X_reshape, [1,2,3], axis = 1)\n",
    "    black = np.count_nonzero(X_reshape == 0)\n",
    "    white= np.count_nonzero(X_reshape == 255)\n",
    "    print(\"Black px\", black, \"White px\", white)\n",
    "    percentage = black/(white+black)\n",
    "    return percentage"
   ]
  },
  {
   "cell_type": "code",
   "execution_count": 90,
   "metadata": {},
   "outputs": [
    {
     "data": {
      "text/plain": [
       "array([[1., 1., 1., 1., 1.],\n",
       "       [0., 0., 1., 0., 0.],\n",
       "       [0., 1., 0., 0., 0.],\n",
       "       [0., 0., 1., 0., 0.],\n",
       "       [0., 0., 0., 0., 0.],\n",
       "       [1., 0., 0., 0., 0.],\n",
       "       [0., 0., 0., 0., 0.],\n",
       "       [0., 0., 0., 0., 0.],\n",
       "       [1., 0., 0., 0., 0.],\n",
       "       [0., 0., 1., 0., 0.]])"
      ]
     },
     "execution_count": 90,
     "metadata": {},
     "output_type": "execute_result"
    }
   ],
   "source": [
    "# exp.occupancy_grid.original_values[:10, 25:30]"
   ]
  },
  {
   "cell_type": "code",
   "execution_count": 91,
   "metadata": {},
   "outputs": [
    {
     "data": {
      "text/plain": [
       "array([[1., 1., 1., 1., 1.],\n",
       "       [1., 1., 1., 1., 1.],\n",
       "       [0., 0., 0., 0., 0.],\n",
       "       [0., 0., 0., 0., 0.],\n",
       "       [0., 0., 0., 0., 0.],\n",
       "       [0., 0., 0., 0., 0.],\n",
       "       [0., 0., 0., 0., 0.],\n",
       "       [0., 0., 0., 0., 0.],\n",
       "       [0., 0., 0., 0., 0.],\n",
       "       [0., 0., 0., 0., 0.]])"
      ]
     },
     "execution_count": 91,
     "metadata": {},
     "output_type": "execute_result"
    }
   ],
   "source": [
    "# exp.occupancy_grid._values[:10, 25:30]"
   ]
  },
  {
   "cell_type": "code",
   "execution_count": 83,
   "metadata": {},
   "outputs": [
    {
     "data": {
      "text/plain": [
       "array([[29., 15.],\n",
       "       [24., 28.],\n",
       "       [ 2., 21.],\n",
       "       [ 1., 31.],\n",
       "       [32.,  1.],\n",
       "       [ 2., 24.],\n",
       "       [ 3., 28.],\n",
       "       [ 5., 18.],\n",
       "       [17., 20.],\n",
       "       [12., 19.]])"
      ]
     },
     "execution_count": 83,
     "metadata": {},
     "output_type": "execute_result"
    }
   ],
   "source": [
    "# exp.end_locations"
   ]
  },
  {
   "cell_type": "code",
   "execution_count": 104,
   "metadata": {},
   "outputs": [],
   "source": [
    "# grid = np.array(\n",
    "# [\n",
    "#     [1,1,1,1,1],\n",
    "#     [1,0,0,0,1],\n",
    "#     [1,0,1,0,1],\n",
    "#     [1,0,0,0,1],\n",
    "#     [1,0,0,0,1],\n",
    "#     [1,1,1,1,1],\n",
    "# ]\n",
    "# )\n",
    "\n"
   ]
  },
  {
   "cell_type": "code",
   "execution_count": 108,
   "metadata": {},
   "outputs": [
    {
     "data": {
      "text/plain": [
       "array([[1, 1, 1, 1, 1, 1, 1, 1, 1, 1],\n",
       "       [1, 1, 1, 1, 1, 1, 1, 1, 1, 1],\n",
       "       [1, 1, 0, 0, 0, 0, 0, 0, 1, 1],\n",
       "       [1, 1, 0, 0, 1, 1, 0, 0, 1, 1],\n",
       "       [1, 1, 0, 0, 1, 1, 0, 0, 1, 1],\n",
       "       [1, 1, 0, 0, 0, 0, 0, 0, 1, 1],\n",
       "       [1, 1, 0, 0, 0, 0, 0, 0, 1, 1],\n",
       "       [1, 1, 0, 0, 0, 0, 0, 0, 1, 1],\n",
       "       [1, 1, 1, 1, 1, 1, 1, 1, 1, 1],\n",
       "       [1, 1, 1, 1, 1, 1, 1, 1, 1, 1]])"
      ]
     },
     "execution_count": 108,
     "metadata": {},
     "output_type": "execute_result"
    }
   ],
   "source": [
    "# from skimage.transform import resize\n",
    "# from skimage import img_as_bool\n",
    "\n",
    "# grid = np.array(grid, dtype=np.bool)\n",
    "# transformed = img_as_bool(resize(grid, (10, 10)))\n",
    "# transformed = transformed.astype(int)"
   ]
  }
 ],
 "metadata": {
  "kernelspec": {
   "display_name": "Python 3",
   "language": "python",
   "name": "python3"
  },
  "language_info": {
   "codemirror_mode": {
    "name": "ipython",
    "version": 3
   },
   "file_extension": ".py",
   "mimetype": "text/x-python",
   "name": "python",
   "nbconvert_exporter": "python",
   "pygments_lexer": "ipython3",
   "version": "3.6.12"
  }
 },
 "nbformat": 4,
 "nbformat_minor": 2
}
