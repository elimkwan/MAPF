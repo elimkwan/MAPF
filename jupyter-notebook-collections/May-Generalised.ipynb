{
 "cells": [
  {
   "cell_type": "code",
   "execution_count": 1,
   "metadata": {},
   "outputs": [],
   "source": [
    "import BayesianOptimisation.boVoronoiDirected as boVoronoiDirected\n",
    "import BayesianOptimisation.expGrid as expGrid\n",
    "import BayesianOptimisation.expVoronoi as expVoronoi\n",
    "import BayesianOptimisation.GeneralisedVoronoiDirected as GeneralisedVoronoiDirected\n",
    "import BayesianOptimisation.experiment_setup as experiment\n",
    "from core.DataStructure import *\n",
    "\n",
    "from importlib import reload\n",
    "import numpy as np\n",
    "import pandas as pd\n",
    "import seaborn as sb\n",
    "import matplotlib.pyplot as plt\n",
    "import matplotlib.patches as patches\n",
    "from matplotlib.patches import Rectangle\n",
    "import copy"
   ]
  },
  {
   "cell_type": "code",
   "execution_count": 2,
   "metadata": {},
   "outputs": [],
   "source": [
    "from scipy.optimize import minimize, Bounds\n",
    "import tensorflow as tf\n",
    "from tensorflow import keras\n",
    "from tensorflow.keras.layers import Conv2D, MaxPooling2D, Dense, Flatten, Dropout, Reshape\n",
    "from tensorflow.keras.utils import plot_model\n",
    "from sklearn.model_selection import train_test_split"
   ]
  },
  {
   "cell_type": "code",
   "execution_count": 3,
   "metadata": {},
   "outputs": [],
   "source": [
    "np.random.seed(9)"
   ]
  },
  {
   "cell_type": "code",
   "execution_count": 4,
   "metadata": {},
   "outputs": [
    {
     "name": "stdout",
     "output_type": "stream",
     "text": [
      "Set Hyper Parameters, solving for 10 agents\n"
     ]
    }
   ],
   "source": [
    "scene = \"./input/random-32-32-10/scen-even/random-32-32-10-even-\" + str(0) + \".scen\"\n",
    "exp = experiment.Experiment(scene=scene)\n",
    "if not exp.initialised:\n",
    "    exp.setParameters()"
   ]
  },
  {
   "cell_type": "code",
   "execution_count": 5,
   "metadata": {
    "scrolled": false
   },
   "outputs": [
    {
     "data": {
      "text/plain": [
       "array([[31.,  6.],\n",
       "       [24., 19.],\n",
       "       [17.,  7.],\n",
       "       [ 3., 26.],\n",
       "       [18., 30.],\n",
       "       [ 1., 22.],\n",
       "       [24.,  3.],\n",
       "       [32.,  1.],\n",
       "       [18., 28.],\n",
       "       [22., 19.]])"
      ]
     },
     "execution_count": 5,
     "metadata": {},
     "output_type": "execute_result"
    }
   ],
   "source": [
    "exp.start_locations"
   ]
  },
  {
   "cell_type": "code",
   "execution_count": 6,
   "metadata": {
    "scrolled": true
   },
   "outputs": [
    {
     "name": "stdout",
     "output_type": "stream",
     "text": [
      "Set Hyper Parameters, solving for 10 agents\n",
      "new_edge 2088\n",
      "aggre 2088\n",
      "Set Hyper Parameters, solving for 10 agents\n",
      "new_edge 2088\n",
      "aggre 854\n",
      "Set Hyper Parameters, solving for 10 agents\n",
      "new_edge 2088\n",
      "aggre 854\n",
      "Set Hyper Parameters, solving for 10 agents\n",
      "new_edge 2088\n",
      "aggre 854\n",
      "Set Hyper Parameters, solving for 10 agents\n",
      "new_edge 2088\n",
      "aggre 854\n",
      "Set Hyper Parameters, solving for 10 agents\n",
      "new_edge 2088\n",
      "aggre 854\n",
      "Set Hyper Parameters, solving for 10 agents\n",
      "new_edge 2088\n",
      "aggre 854\n",
      "Set Hyper Parameters, solving for 10 agents\n",
      "new_edge 2088\n",
      "aggre 854\n",
      "Set Hyper Parameters, solving for 10 agents\n",
      "new_edge 2088\n",
      "aggre 854\n",
      "Set Hyper Parameters, solving for 10 agents\n",
      "new_edge 2088\n",
      "aggre 854\n"
     ]
    }
   ],
   "source": [
    "GeneralisedVoronoiDirected.gen_voronoi_directed(exp)"
   ]
  }
 ],
 "metadata": {
  "kernelspec": {
   "display_name": "Python 3",
   "language": "python",
   "name": "python3"
  },
  "language_info": {
   "codemirror_mode": {
    "name": "ipython",
    "version": 3
   },
   "file_extension": ".py",
   "mimetype": "text/x-python",
   "name": "python",
   "nbconvert_exporter": "python",
   "pygments_lexer": "ipython3",
   "version": "3.6.12"
  }
 },
 "nbformat": 4,
 "nbformat_minor": 2
}
