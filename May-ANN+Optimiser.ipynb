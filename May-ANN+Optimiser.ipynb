{
 "cells": [
  {
   "cell_type": "code",
   "execution_count": 1,
   "metadata": {},
   "outputs": [],
   "source": [
    "import BayesianOptimisation.boVoronoiDirected as boVoronoiDirected\n",
    "import BayesianOptimisation.expGrid as expGrid\n",
    "import BayesianOptimisation.expVoronoi as expVoronoi\n",
    "import BayesianOptimisation.ANNVoronoiDirected as ANNVoronoiDirected\n",
    "import BayesianOptimisation.experiment_setup as experiment\n",
    "from core.DataStructure import *\n",
    "\n",
    "from importlib import reload\n",
    "import numpy as np\n",
    "import pandas as pd\n",
    "import seaborn as sb\n",
    "import matplotlib.pyplot as plt\n",
    "import matplotlib.patches as patches\n",
    "from matplotlib.patches import Rectangle\n",
    "import copy"
   ]
  },
  {
   "cell_type": "code",
   "execution_count": 2,
   "metadata": {},
   "outputs": [],
   "source": [
    "from scipy.optimize import minimize, Bounds\n",
    "import tensorflow as tf\n",
    "from tensorflow import keras\n",
    "from tensorflow.keras.layers import Conv2D, MaxPooling2D, Dense, Flatten, Dropout, Reshape\n",
    "from tensorflow.keras.utils import plot_model\n",
    "from sklearn.model_selection import train_test_split"
   ]
  },
  {
   "cell_type": "code",
   "execution_count": 3,
   "metadata": {},
   "outputs": [],
   "source": [
    "np.random.seed(42)\n",
    "# np.random.seed(43)"
   ]
  },
  {
   "cell_type": "code",
   "execution_count": 4,
   "metadata": {
    "scrolled": true
   },
   "outputs": [
    {
     "data": {
      "text/plain": [
       "<module 'BayesianOptimisation.ANNVoronoiDirected' from '/home/elim/Documents/Cambridge-Master/Research/code/BayesianOptimisation/ANNVoronoiDirected.py'>"
      ]
     },
     "execution_count": 4,
     "metadata": {},
     "output_type": "execute_result"
    }
   ],
   "source": [
    "reload(ANNVoronoiDirected)"
   ]
  },
  {
   "cell_type": "markdown",
   "metadata": {},
   "source": [
    "### Generating Data"
   ]
  },
  {
   "cell_type": "code",
   "execution_count": 5,
   "metadata": {},
   "outputs": [],
   "source": [
    "scene = \"./input/random-32-32-10/scen-even/random-32-32-10-even-\" + str(0) + \".scen\"\n",
    "exp = experiment.Experiment(scene=scene)"
   ]
  },
  {
   "cell_type": "code",
   "execution_count": 6,
   "metadata": {},
   "outputs": [],
   "source": [
    "exp.start_nodes"
   ]
  },
  {
   "cell_type": "code",
   "execution_count": 7,
   "metadata": {},
   "outputs": [],
   "source": [
    "exp.end_nodes"
   ]
  },
  {
   "cell_type": "code",
   "execution_count": 8,
   "metadata": {
    "scrolled": true
   },
   "outputs": [
    {
     "name": "stdout",
     "output_type": "stream",
     "text": [
      "Set Hyper Parameters, solving for 20 agents\n",
      "total number of distance 514\n",
      "Number of trainable probabilities 388\n",
      "Length cutoff threshold 2\n",
      "\n",
      " Generating Data, Sample  0\n",
      "m 0.5012295032817167 c 0.5942596319029034\n",
      "penality 1.0\n",
      "global cost 24.803854356726134\n",
      "\n",
      " Generating Data, Sample  1\n",
      "m 0.4563775124072067 c 0.49861493233854415\n",
      "penality 1.0\n",
      "global cost 24.803257937531857\n",
      "\n",
      " Generating Data, Sample  2\n",
      "m 0.6060517956653269 c 0.5120303441946381\n",
      "penality 1.0\n",
      "global cost 24.80398122831676\n",
      "\n",
      " Generating Data, Sample  3\n",
      "m 0.571303236160464 c 0.38275287785166456\n",
      "penality 1.0\n",
      "global cost 24.805095660786687\n",
      "\n",
      " Generating Data, Sample  4\n",
      "m 0.2413209596491681 c 0.4082430795230515\n",
      "penality 1.0\n",
      "global cost 24.803656144955433\n",
      "\n",
      " Generating Data, Sample  5\n",
      "m 0.045020362171176886 c 0.36318369382429866\n",
      "penality 1.0\n",
      "global cost 24.804528536873118\n",
      "\n",
      " Generating Data, Sample  6\n",
      "m 0.7958383739153316 c 0.6192299076405358\n",
      "penality 304.3117208417769\n",
      "global cost 7280.220650492399\n",
      "\n",
      " Generating Data, Sample  7\n",
      "m -0.9351131079056261 c 0.5487580586169412\n",
      "penality 1.0\n",
      "global cost 24.80433711624936\n",
      "\n",
      " Generating Data, Sample  8\n",
      "m -0.7461111724900547 c 0.38427277700063645\n"
     ]
    },
    {
     "ename": "KeyboardInterrupt",
     "evalue": "",
     "output_type": "error",
     "traceback": [
      "\u001b[0;31m---------------------------------------------------------------------------\u001b[0m",
      "\u001b[0;31mKeyboardInterrupt\u001b[0m                         Traceback (most recent call last)",
      "\u001b[0;32m<ipython-input-8-9c76a24a0b28>\u001b[0m in \u001b[0;36m<module>\u001b[0;34m\u001b[0m\n\u001b[0;32m----> 1\u001b[0;31m \u001b[0mANNVoronoiDirected\u001b[0m\u001b[0;34m.\u001b[0m\u001b[0mann_voronoi_directed\u001b[0m\u001b[0;34m(\u001b[0m\u001b[0mexp\u001b[0m\u001b[0;34m)\u001b[0m\u001b[0;34m\u001b[0m\u001b[0;34m\u001b[0m\u001b[0m\n\u001b[0m",
      "\u001b[0;32m~/Documents/Cambridge-Master/Research/code/BayesianOptimisation/ANNVoronoiDirected.py\u001b[0m in \u001b[0;36mann_voronoi_directed\u001b[0;34m(exp)\u001b[0m\n\u001b[1;32m    253\u001b[0m \u001b[0;34m\u001b[0m\u001b[0m\n\u001b[1;32m    254\u001b[0m     \u001b[0;31m# 989 parameters\u001b[0m\u001b[0;34m\u001b[0m\u001b[0;34m\u001b[0m\u001b[0;34m\u001b[0m\u001b[0m\n\u001b[0;32m--> 255\u001b[0;31m     \u001b[0mgenerate_data\u001b[0m\u001b[0;34m(\u001b[0m\u001b[0msimulator\u001b[0m \u001b[0;34m=\u001b[0m \u001b[0msimulateObj\u001b[0m\u001b[0;34m,\u001b[0m \u001b[0miterations\u001b[0m \u001b[0;34m=\u001b[0m \u001b[0;36m100\u001b[0m\u001b[0;34m)\u001b[0m\u001b[0;34m\u001b[0m\u001b[0;34m\u001b[0m\u001b[0m\n\u001b[0m\u001b[1;32m    256\u001b[0m \u001b[0;34m\u001b[0m\u001b[0m\n\u001b[1;32m    257\u001b[0m     \u001b[0;31m# clf = make_pipeline(StandardScaler(),\u001b[0m\u001b[0;34m\u001b[0m\u001b[0;34m\u001b[0m\u001b[0;34m\u001b[0m\u001b[0m\n",
      "\u001b[0;32m~/Documents/Cambridge-Master/Research/code/BayesianOptimisation/ANNVoronoiDirected.py\u001b[0m in \u001b[0;36mgenerate_data\u001b[0;34m(simulator, iterations)\u001b[0m\n\u001b[1;32m    177\u001b[0m         output = simulator.run_simulator(\n\u001b[1;32m    178\u001b[0m             \u001b[0minit_probability\u001b[0m\u001b[0;34m,\u001b[0m\u001b[0;34m\u001b[0m\u001b[0;34m\u001b[0m\u001b[0m\n\u001b[0;32m--> 179\u001b[0;31m             return_paths=True)\n\u001b[0m\u001b[1;32m    180\u001b[0m \u001b[0;34m\u001b[0m\u001b[0m\n\u001b[1;32m    181\u001b[0m \u001b[0;34m\u001b[0m\u001b[0m\n",
      "\u001b[0;32m~/Documents/Cambridge-Master/Research/code/BayesianOptimisation/ANNVoronoiDirected.py\u001b[0m in \u001b[0;36mrun_simulator\u001b[0;34m(self, probability, return_paths)\u001b[0m\n\u001b[1;32m    113\u001b[0m                 \u001b[0mstart_nodes\u001b[0m \u001b[0;34m=\u001b[0m \u001b[0mself\u001b[0m\u001b[0;34m.\u001b[0m\u001b[0mstart_nodes\u001b[0m\u001b[0;34m,\u001b[0m\u001b[0;34m\u001b[0m\u001b[0;34m\u001b[0m\u001b[0m\n\u001b[1;32m    114\u001b[0m                 end_nodes = self.end_nodes)\n\u001b[0;32m--> 115\u001b[0;31m             \u001b[0mpaths\u001b[0m\u001b[0;34m,\u001b[0m \u001b[0mcost\u001b[0m \u001b[0;34m=\u001b[0m \u001b[0mcbs\u001b[0m\u001b[0;34m(\u001b[0m\u001b[0mdirected_voronoi_sub\u001b[0m\u001b[0;34m,\u001b[0m \u001b[0mstart_locations\u001b[0m\u001b[0;34m,\u001b[0m \u001b[0mend_locations\u001b[0m\u001b[0;34m)\u001b[0m\u001b[0;34m\u001b[0m\u001b[0;34m\u001b[0m\u001b[0m\n\u001b[0m\u001b[1;32m    116\u001b[0m \u001b[0;34m\u001b[0m\u001b[0m\n\u001b[1;32m    117\u001b[0m             \u001b[0;31m# if cbs_out == None:\u001b[0m\u001b[0;34m\u001b[0m\u001b[0;34m\u001b[0m\u001b[0;34m\u001b[0m\u001b[0m\n",
      "\u001b[0;32m~/Documents/Cambridge-Master/Research/code/planner/CBS.py\u001b[0m in \u001b[0;36mcbs\u001b[0;34m(env, starts, goals)\u001b[0m\n\u001b[1;32m     29\u001b[0m                                                 \u001b[0mis_new_constraint\u001b[0m \u001b[0;34m=\u001b[0m \u001b[0mchild\u001b[0m\u001b[0;34m.\u001b[0m\u001b[0madd_transition_constraint\u001b[0m\u001b[0;34m(\u001b[0m\u001b[0magent\u001b[0m\u001b[0;34m=\u001b[0m\u001b[0mconflict\u001b[0m\u001b[0;34m[\u001b[0m\u001b[0;34m'agent2'\u001b[0m\u001b[0;34m]\u001b[0m\u001b[0;34m,\u001b[0m \u001b[0mt\u001b[0m\u001b[0;34m=\u001b[0m\u001b[0mconflict\u001b[0m\u001b[0;34m[\u001b[0m\u001b[0;34m't'\u001b[0m\u001b[0;34m]\u001b[0m\u001b[0;34m,\u001b[0m \u001b[0mnode\u001b[0m\u001b[0;34m=\u001b[0m\u001b[0mconflict\u001b[0m\u001b[0;34m[\u001b[0m\u001b[0;34m'lastnode'\u001b[0m\u001b[0;34m]\u001b[0m\u001b[0;34m,\u001b[0m \u001b[0mlastnode\u001b[0m\u001b[0;34m=\u001b[0m\u001b[0mconflict\u001b[0m\u001b[0;34m[\u001b[0m\u001b[0;34m'node'\u001b[0m\u001b[0;34m]\u001b[0m\u001b[0;34m)\u001b[0m\u001b[0;34m\u001b[0m\u001b[0;34m\u001b[0m\u001b[0m\n\u001b[1;32m     30\u001b[0m                                 \u001b[0;32mif\u001b[0m \u001b[0mis_new_constraint\u001b[0m\u001b[0;34m:\u001b[0m\u001b[0;34m\u001b[0m\u001b[0;34m\u001b[0m\u001b[0m\n\u001b[0;32m---> 31\u001b[0;31m                                         \u001b[0mchild\u001b[0m\u001b[0;34m.\u001b[0m\u001b[0mfind_paths\u001b[0m\u001b[0;34m(\u001b[0m\u001b[0menv\u001b[0m\u001b[0;34m,\u001b[0m \u001b[0mstarts\u001b[0m\u001b[0;34m,\u001b[0m \u001b[0mgoals\u001b[0m\u001b[0;34m)\u001b[0m\u001b[0;34m\u001b[0m\u001b[0;34m\u001b[0m\u001b[0m\n\u001b[0m\u001b[1;32m     32\u001b[0m                                         \u001b[0mchild_cost\u001b[0m \u001b[0;34m=\u001b[0m \u001b[0mnp\u001b[0m\u001b[0;34m.\u001b[0m\u001b[0msum\u001b[0m\u001b[0;34m(\u001b[0m\u001b[0mnp\u001b[0m\u001b[0;34m.\u001b[0m\u001b[0marray\u001b[0m\u001b[0;34m(\u001b[0m\u001b[0mchild\u001b[0m\u001b[0;34m.\u001b[0m\u001b[0mcost\u001b[0m\u001b[0;34m)\u001b[0m\u001b[0;34m[\u001b[0m\u001b[0mmask\u001b[0m\u001b[0;34m]\u001b[0m\u001b[0;34m)\u001b[0m\u001b[0;34m\u001b[0m\u001b[0;34m\u001b[0m\u001b[0m\n\u001b[1;32m     33\u001b[0m                                         \u001b[0mpq\u001b[0m\u001b[0;34m.\u001b[0m\u001b[0mput_nowait\u001b[0m\u001b[0;34m(\u001b[0m\u001b[0;34m(\u001b[0m\u001b[0mchild_cost\u001b[0m\u001b[0;34m,\u001b[0m \u001b[0mchild\u001b[0m\u001b[0;34m.\u001b[0m\u001b[0mdepth\u001b[0m\u001b[0;34m+\u001b[0m\u001b[0mnp\u001b[0m\u001b[0;34m.\u001b[0m\u001b[0mrandom\u001b[0m\u001b[0;34m.\u001b[0m\u001b[0mrand\u001b[0m\u001b[0;34m(\u001b[0m\u001b[0;36m1\u001b[0m\u001b[0;34m)\u001b[0m\u001b[0;34m[\u001b[0m\u001b[0;36m0\u001b[0m\u001b[0;34m]\u001b[0m\u001b[0;34m,\u001b[0m \u001b[0mchild\u001b[0m\u001b[0;34m)\u001b[0m\u001b[0;34m)\u001b[0m\u001b[0;34m\u001b[0m\u001b[0;34m\u001b[0m\u001b[0m\n",
      "\u001b[0;32m~/Documents/Cambridge-Master/Research/code/planner/CBS.py\u001b[0m in \u001b[0;36mfind_paths\u001b[0;34m(self, env, starts, goals)\u001b[0m\n\u001b[1;32m     98\u001b[0m                 \u001b[0;32mfor\u001b[0m \u001b[0magent\u001b[0m \u001b[0;32min\u001b[0m \u001b[0mrange\u001b[0m\u001b[0;34m(\u001b[0m\u001b[0mlen\u001b[0m\u001b[0;34m(\u001b[0m\u001b[0mstarts\u001b[0m\u001b[0;34m)\u001b[0m\u001b[0;34m)\u001b[0m\u001b[0;34m:\u001b[0m\u001b[0;34m\u001b[0m\u001b[0;34m\u001b[0m\u001b[0m\n\u001b[1;32m     99\u001b[0m                         \u001b[0mstart_t\u001b[0m \u001b[0;34m=\u001b[0m \u001b[0mlen\u001b[0m\u001b[0;34m(\u001b[0m\u001b[0mpaths\u001b[0m\u001b[0;34m[\u001b[0m\u001b[0magent\u001b[0m\u001b[0;34m]\u001b[0m\u001b[0;34m)\u001b[0m \u001b[0;34m-\u001b[0m \u001b[0;36m1\u001b[0m\u001b[0;34m\u001b[0m\u001b[0;34m\u001b[0m\u001b[0m\n\u001b[0;32m--> 100\u001b[0;31m                         \u001b[0mhold_path\u001b[0m \u001b[0;34m=\u001b[0m \u001b[0mstay\u001b[0m\u001b[0;34m(\u001b[0m\u001b[0menv\u001b[0m\u001b[0;34m=\u001b[0m\u001b[0menv\u001b[0m\u001b[0;34m,\u001b[0m \u001b[0mstart\u001b[0m\u001b[0;34m=\u001b[0m\u001b[0mpaths\u001b[0m\u001b[0;34m[\u001b[0m\u001b[0magent\u001b[0m\u001b[0;34m]\u001b[0m\u001b[0;34m[\u001b[0m\u001b[0;34m-\u001b[0m\u001b[0;36m1\u001b[0m\u001b[0;34m]\u001b[0m\u001b[0;34m,\u001b[0m \u001b[0mgoal\u001b[0m\u001b[0;34m=\u001b[0m\u001b[0mgoals\u001b[0m\u001b[0;34m[\u001b[0m\u001b[0magent\u001b[0m\u001b[0;34m]\u001b[0m\u001b[0;34m,\u001b[0m \u001b[0mconstraint_fn\u001b[0m\u001b[0;34m=\u001b[0m\u001b[0mself\u001b[0m\u001b[0;34m.\u001b[0m\u001b[0mget_constraint_fn\u001b[0m\u001b[0;34m(\u001b[0m\u001b[0magent\u001b[0m\u001b[0;34m)\u001b[0m\u001b[0;34m,\u001b[0m \u001b[0mstart_t\u001b[0m\u001b[0;34m=\u001b[0m\u001b[0mstart_t\u001b[0m\u001b[0;34m,\u001b[0m \u001b[0mT\u001b[0m\u001b[0;34m=\u001b[0m\u001b[0mself\u001b[0m\u001b[0;34m.\u001b[0m\u001b[0mT\u001b[0m\u001b[0;34m)\u001b[0m\u001b[0;34m\u001b[0m\u001b[0;34m\u001b[0m\u001b[0m\n\u001b[0m\u001b[1;32m    101\u001b[0m                         \u001b[0mpaths\u001b[0m\u001b[0;34m[\u001b[0m\u001b[0magent\u001b[0m\u001b[0;34m]\u001b[0m \u001b[0;34m=\u001b[0m \u001b[0mpaths\u001b[0m\u001b[0;34m[\u001b[0m\u001b[0magent\u001b[0m\u001b[0;34m]\u001b[0m \u001b[0;34m+\u001b[0m \u001b[0mhold_path\u001b[0m\u001b[0;34m[\u001b[0m\u001b[0;36m1\u001b[0m\u001b[0;34m:\u001b[0m\u001b[0;34m]\u001b[0m\u001b[0;34m\u001b[0m\u001b[0;34m\u001b[0m\u001b[0m\n\u001b[1;32m    102\u001b[0m                 \u001b[0;31m# print(\"Final path\", paths)\u001b[0m\u001b[0;34m\u001b[0m\u001b[0;34m\u001b[0m\u001b[0;34m\u001b[0m\u001b[0m\n",
      "\u001b[0;32m~/Documents/Cambridge-Master/Research/code/planner/Astar.py\u001b[0m in \u001b[0;36mstay\u001b[0;34m(env, start, goal, constraint_fn, start_t, T)\u001b[0m\n\u001b[1;32m    144\u001b[0m                                 \u001b[0mtmap\u001b[0m\u001b[0;34m[\u001b[0m\u001b[0mchild\u001b[0m\u001b[0;34m]\u001b[0m \u001b[0;34m=\u001b[0m \u001b[0mchild_t\u001b[0m\u001b[0;34m\u001b[0m\u001b[0;34m\u001b[0m\u001b[0m\n\u001b[1;32m    145\u001b[0m                                 \u001b[0mprevmap\u001b[0m\u001b[0;34m[\u001b[0m\u001b[0;34m(\u001b[0m\u001b[0mchild\u001b[0m\u001b[0;34m,\u001b[0m \u001b[0mchild_t\u001b[0m\u001b[0;34m)\u001b[0m\u001b[0;34m]\u001b[0m \u001b[0;34m=\u001b[0m \u001b[0;34m(\u001b[0m\u001b[0mcurr\u001b[0m\u001b[0;34m,\u001b[0m \u001b[0mt\u001b[0m\u001b[0;34m)\u001b[0m\u001b[0;34m\u001b[0m\u001b[0;34m\u001b[0m\u001b[0m\n\u001b[0;32m--> 146\u001b[0;31m                                 \u001b[0mchild_heur\u001b[0m \u001b[0;34m=\u001b[0m \u001b[0menv\u001b[0m\u001b[0;34m.\u001b[0m\u001b[0mestimate\u001b[0m\u001b[0;34m(\u001b[0m\u001b[0mchild\u001b[0m\u001b[0;34m,\u001b[0m \u001b[0mgoal\u001b[0m\u001b[0;34m,\u001b[0m \u001b[0mchild_t\u001b[0m\u001b[0;34m)\u001b[0m\u001b[0;34m\u001b[0m\u001b[0;34m\u001b[0m\u001b[0m\n\u001b[0m\u001b[1;32m    147\u001b[0m                                 \u001b[0mpq\u001b[0m\u001b[0;34m.\u001b[0m\u001b[0mput\u001b[0m\u001b[0;34m(\u001b[0m\u001b[0;34m(\u001b[0m\u001b[0mchild_heur\u001b[0m\u001b[0;34m,\u001b[0m \u001b[0mchild\u001b[0m\u001b[0;34m,\u001b[0m \u001b[0mchild_t\u001b[0m\u001b[0;34m)\u001b[0m\u001b[0;34m)\u001b[0m\u001b[0;34m\u001b[0m\u001b[0;34m\u001b[0m\u001b[0m\n\u001b[1;32m    148\u001b[0m         \u001b[0mpath\u001b[0m \u001b[0;34m=\u001b[0m \u001b[0mconstruct_path_stay\u001b[0m\u001b[0;34m(\u001b[0m\u001b[0mprevmap\u001b[0m\u001b[0;34m,\u001b[0m \u001b[0mbest\u001b[0m\u001b[0;34m[\u001b[0m\u001b[0;36m0\u001b[0m\u001b[0;34m]\u001b[0m\u001b[0;34m)\u001b[0m\u001b[0;34m\u001b[0m\u001b[0;34m\u001b[0m\u001b[0m\n",
      "\u001b[0;32m~/Documents/Cambridge-Master/Research/code/environment/VoronoiDirected.py\u001b[0m in \u001b[0;36mestimate\u001b[0;34m(self, node, goal, t)\u001b[0m\n\u001b[1;32m     34\u001b[0m         \u001b[0mdx\u001b[0m \u001b[0;34m=\u001b[0m \u001b[0mp1\u001b[0m\u001b[0;34m.\u001b[0m\u001b[0mx\u001b[0m \u001b[0;34m-\u001b[0m \u001b[0mp2\u001b[0m\u001b[0;34m.\u001b[0m\u001b[0mx\u001b[0m\u001b[0;34m\u001b[0m\u001b[0;34m\u001b[0m\u001b[0m\n\u001b[1;32m     35\u001b[0m         \u001b[0mdy\u001b[0m \u001b[0;34m=\u001b[0m \u001b[0mp1\u001b[0m\u001b[0;34m.\u001b[0m\u001b[0my\u001b[0m \u001b[0;34m-\u001b[0m \u001b[0mp2\u001b[0m\u001b[0;34m.\u001b[0m\u001b[0my\u001b[0m\u001b[0;34m\u001b[0m\u001b[0;34m\u001b[0m\u001b[0m\n\u001b[0;32m---> 36\u001b[0;31m         \u001b[0;32mreturn\u001b[0m \u001b[0;34m(\u001b[0m\u001b[0mnp\u001b[0m\u001b[0;34m.\u001b[0m\u001b[0mlinalg\u001b[0m\u001b[0;34m.\u001b[0m\u001b[0mnorm\u001b[0m\u001b[0;34m(\u001b[0m\u001b[0mnp\u001b[0m\u001b[0;34m.\u001b[0m\u001b[0marray\u001b[0m\u001b[0;34m(\u001b[0m\u001b[0;34m[\u001b[0m\u001b[0mdx\u001b[0m\u001b[0;34m,\u001b[0m\u001b[0mdy\u001b[0m\u001b[0;34m]\u001b[0m\u001b[0;34m)\u001b[0m\u001b[0;34m)\u001b[0m\u001b[0;34m+\u001b[0m\u001b[0;36m0.0001\u001b[0m\u001b[0;34m)\u001b[0m\u001b[0;34m\u001b[0m\u001b[0;34m\u001b[0m\u001b[0m\n\u001b[0m\u001b[1;32m     37\u001b[0m \u001b[0;34m\u001b[0m\u001b[0m\n\u001b[1;32m     38\u001b[0m     \u001b[0;32mdef\u001b[0m \u001b[0mgetEdgeCapacity\u001b[0m\u001b[0;34m(\u001b[0m\u001b[0mself\u001b[0m\u001b[0;34m,\u001b[0m \u001b[0mprev_node\u001b[0m\u001b[0;34m,\u001b[0m \u001b[0mnode\u001b[0m\u001b[0;34m)\u001b[0m\u001b[0;34m:\u001b[0m\u001b[0;34m\u001b[0m\u001b[0;34m\u001b[0m\u001b[0m\n",
      "\u001b[0;32m<__array_function__ internals>\u001b[0m in \u001b[0;36mnorm\u001b[0;34m(*args, **kwargs)\u001b[0m\n",
      "\u001b[0;32m~/anaconda3/envs/ML-PhyWorld/lib/python3.6/site-packages/numpy/linalg/linalg.py\u001b[0m in \u001b[0;36mnorm\u001b[0;34m(x, ord, axis, keepdims)\u001b[0m\n\u001b[1;32m   2529\u001b[0m             \u001b[0;32melse\u001b[0m\u001b[0;34m:\u001b[0m\u001b[0;34m\u001b[0m\u001b[0;34m\u001b[0m\u001b[0m\n\u001b[1;32m   2530\u001b[0m                 \u001b[0msqnorm\u001b[0m \u001b[0;34m=\u001b[0m \u001b[0mdot\u001b[0m\u001b[0;34m(\u001b[0m\u001b[0mx\u001b[0m\u001b[0;34m,\u001b[0m \u001b[0mx\u001b[0m\u001b[0;34m)\u001b[0m\u001b[0;34m\u001b[0m\u001b[0;34m\u001b[0m\u001b[0m\n\u001b[0;32m-> 2531\u001b[0;31m             \u001b[0mret\u001b[0m \u001b[0;34m=\u001b[0m \u001b[0msqrt\u001b[0m\u001b[0;34m(\u001b[0m\u001b[0msqnorm\u001b[0m\u001b[0;34m)\u001b[0m\u001b[0;34m\u001b[0m\u001b[0;34m\u001b[0m\u001b[0m\n\u001b[0m\u001b[1;32m   2532\u001b[0m             \u001b[0;32mif\u001b[0m \u001b[0mkeepdims\u001b[0m\u001b[0;34m:\u001b[0m\u001b[0;34m\u001b[0m\u001b[0;34m\u001b[0m\u001b[0m\n\u001b[1;32m   2533\u001b[0m                 \u001b[0mret\u001b[0m \u001b[0;34m=\u001b[0m \u001b[0mret\u001b[0m\u001b[0;34m.\u001b[0m\u001b[0mreshape\u001b[0m\u001b[0;34m(\u001b[0m\u001b[0mndim\u001b[0m\u001b[0;34m*\u001b[0m\u001b[0;34m[\u001b[0m\u001b[0;36m1\u001b[0m\u001b[0;34m]\u001b[0m\u001b[0;34m)\u001b[0m\u001b[0;34m\u001b[0m\u001b[0;34m\u001b[0m\u001b[0m\n",
      "\u001b[0;31mKeyboardInterrupt\u001b[0m: "
     ]
    }
   ],
   "source": [
    "ANNVoronoiDirected.ann_voronoi_directed(exp)"
   ]
  },
  {
   "cell_type": "code",
   "execution_count": null,
   "metadata": {},
   "outputs": [],
   "source": [
    "# pd.DataFrame(X).to_csv(\"./data/X-1000.csv\", index=None)\n",
    "# pd.DataFrame(y).to_csv(\"./data/y-1000.csv\", index=None)"
   ]
  },
  {
   "cell_type": "markdown",
   "metadata": {},
   "source": [
    "### Data Processing"
   ]
  },
  {
   "cell_type": "code",
   "execution_count": null,
   "metadata": {
    "scrolled": true
   },
   "outputs": [],
   "source": [
    "X_read = pd.read_csv(\"./data/10000-samples/x_path.csv\")\n",
    "X = X_read.to_numpy()\n",
    "X = X.reshape((-1,989))\n",
    "X.shape"
   ]
  },
  {
   "cell_type": "code",
   "execution_count": null,
   "metadata": {},
   "outputs": [],
   "source": [
    "Y_read = pd.read_csv(\"./data/10000-samples/y_path.csv\")\n",
    "y = Y_read.to_numpy()\n",
    "y.shape"
   ]
  },
  {
   "cell_type": "code",
   "execution_count": null,
   "metadata": {},
   "outputs": [],
   "source": [
    "x_train_temp, x_test, y_train_temp, y_test = train_test_split(\n",
    "    X, y, test_size=0.1, random_state=4\n",
    ")\n",
    "x_train, x_val, y_train, y_val = train_test_split(\n",
    "    x_train_temp, y_train_temp, test_size=0.11, random_state=4\n",
    ")"
   ]
  },
  {
   "cell_type": "code",
   "execution_count": null,
   "metadata": {},
   "outputs": [],
   "source": [
    "from sklearn.preprocessing import MinMaxScaler\n",
    "scaler = MinMaxScaler()\n",
    "x_train_norm = scaler.fit_transform(x_train)\n",
    "y_train_norm = scaler.fit_transform(y_train)\n",
    "x_val_norm = scaler.fit_transform(x_val)\n",
    "y_val_norm = scaler.fit_transform(y_val)\n",
    "x_test_norm = scaler.fit_transform(x_test)\n",
    "y_test_norm = scaler.fit_transform(y_test)\n",
    "\n",
    "# inverse = scaler.inverse_transform(normalized)"
   ]
  },
  {
   "cell_type": "code",
   "execution_count": null,
   "metadata": {},
   "outputs": [],
   "source": [
    "x_train_norm = x_train_norm.reshape((-1,1,989))\n",
    "x_test_norm = x_test_norm.reshape((-1,1,989))\n",
    "x_val_norm = x_val_norm.reshape((-1,1,989))"
   ]
  },
  {
   "cell_type": "markdown",
   "metadata": {},
   "source": [
    "### ANN"
   ]
  },
  {
   "cell_type": "code",
   "execution_count": null,
   "metadata": {},
   "outputs": [],
   "source": [
    "np.random.seed(42)\n",
    "tf.random.set_seed(42)\n",
    "model = keras.models.Sequential([\n",
    "    Dense(units=989, activation='relu', kernel_initializer='normal', input_shape=(1,989)),\n",
    "    Dropout(0.2),\n",
    "    Dense(units=512, activation='relu',),\n",
    "    Dropout(0.2),\n",
    "    Dense(units=128, activation='relu',),\n",
    "    Dropout(0.2),\n",
    "    Dense(units=1, activation='sigmoid'),\n",
    "])\n",
    "\n",
    "opt = keras.optimizers.Adam(learning_rate=1e-4)\n",
    "model.compile(\n",
    "    loss=\"mean_squared_error\", \n",
    "    optimizer=opt,\n",
    "    metrics=[\"accuracy\"])"
   ]
  },
  {
   "cell_type": "code",
   "execution_count": null,
   "metadata": {},
   "outputs": [],
   "source": [
    "model.summary()"
   ]
  },
  {
   "cell_type": "code",
   "execution_count": null,
   "metadata": {},
   "outputs": [],
   "source": [
    "history = model.fit(x_train_norm, \n",
    "    y_train_norm,\n",
    "    batch_size = 256,\n",
    "    epochs=100,\n",
    "    validation_data=(x_val_norm, y_val_norm))"
   ]
  },
  {
   "cell_type": "code",
   "execution_count": null,
   "metadata": {},
   "outputs": [],
   "source": [
    "test = model.predict(x_test_norm[0])\n",
    "scaler.inverse_transform(test)"
   ]
  },
  {
   "cell_type": "code",
   "execution_count": null,
   "metadata": {
    "scrolled": true
   },
   "outputs": [],
   "source": [
    "model.save('./data/10000-samples/model')"
   ]
  },
  {
   "cell_type": "markdown",
   "metadata": {},
   "source": [
    "### Running Optimiser"
   ]
  },
  {
   "cell_type": "code",
   "execution_count": null,
   "metadata": {},
   "outputs": [],
   "source": [
    "model = keras.models.load_model('./data/10000-samples/model')"
   ]
  },
  {
   "cell_type": "code",
   "execution_count": null,
   "metadata": {},
   "outputs": [],
   "source": [
    "def run_nn(arr):\n",
    "    arr = np.round(arr, 2)\n",
    "    c = model.predict(arr.reshape(1,989))\n",
    "    cost = scaler.inverse_transform(c)\n",
    "    print(\"cost\", cost)\n",
    "    return cost"
   ]
  },
  {
   "cell_type": "code",
   "execution_count": null,
   "metadata": {
    "scrolled": false
   },
   "outputs": [],
   "source": [
    "res = minimize(run_nn, x_train_norm[0].reshape(989), \n",
    "    method='L-BFGS-B', jac=None, bounds= Bounds(0,1), tol=None, callback=None, \n",
    "    options={'disp': None, 'maxcor': 10, 'ftol': 2.220446049250313, \n",
    "    'gtol': 1e-05, 'eps': 0.1, 'maxfun': 500, \n",
    "    'maxiter': 500, 'iprint': - 1, 'maxls': 20, \n",
    "    'finite_diff_rel_step': None})"
   ]
  },
  {
   "cell_type": "code",
   "execution_count": null,
   "metadata": {},
   "outputs": [],
   "source": [
    "pd.DataFrame(res.x).to_csv(\"./data/10000-samples/results_10000.csv\", index=None)"
   ]
  },
  {
   "cell_type": "markdown",
   "metadata": {},
   "source": [
    "### Visualize"
   ]
  },
  {
   "cell_type": "code",
   "execution_count": null,
   "metadata": {},
   "outputs": [],
   "source": [
    "probabilities = pd.read_csv(\"./data/10000-samples/results_10000.csv\")\n",
    "probabilities = probabilities.to_numpy()\n",
    "probabilities = probabilities.reshape((989))\n",
    "# probabilities = probabilities.reshape((-1,989))"
   ]
  },
  {
   "cell_type": "code",
   "execution_count": null,
   "metadata": {},
   "outputs": [],
   "source": [
    "scene = \"./input/random-32-32-10/scen-even/random-32-32-10-even-\" + str(0) + \".scen\"\n",
    "exp = experiment.Experiment(scene=scene)"
   ]
  },
  {
   "cell_type": "code",
   "execution_count": null,
   "metadata": {},
   "outputs": [],
   "source": [
    "output = optVoronoiDirected.get_results(probabilities, exp)\n",
    "\n",
    "vordir_paths, vordir_ft, vordir_u1, vordir_u2, vordir_con, vordir_conmax, vordir_conavg, vordir_G0, vordir_G, vordir_thres = output"
   ]
  },
  {
   "cell_type": "code",
   "execution_count": null,
   "metadata": {
    "code_folding": [
     0
    ]
   },
   "outputs": [],
   "source": [
    "def showAccSolution(result_graph, paths, image, nodes, start_nodes, end_nodes, all_path = True, path_num = 0):\n",
    "    edges_in_path = []\n",
    "    image2 = 1-image\n",
    "    fig, ax = plt.subplots(figsize=(12,12))\n",
    "    img = np.array(1-image)\n",
    "    ax = sb.heatmap(img)\n",
    "    \n",
    "    for index, path in enumerate(paths):\n",
    "#         path = paths[path_num]\n",
    "        for ite in range(len(path)-1):\n",
    "            edges_in_path.append(np.array([path[ite],path[ite+1],0]))\n",
    "            p1 = result_graph.nodes[path[ite]]['position']\n",
    "            p2 = result_graph.nodes[path[ite+1]]['position']\n",
    "\n",
    "            for r in (p1.x, p2.x, 1):\n",
    "                for c in (p1.y, p2.y, 1):\n",
    "                    if (Point(r,c) in np.array(nodes)[end_nodes]):\n",
    "                        image2[int(r),int(c)] = 1\n",
    "                    else:\n",
    "                        image2[int(r),int(c)] += 0.2\n",
    "\n",
    "        drawn = {}\n",
    "        loop = result_graph.edges if all_path else edges_in_path\n",
    "\n",
    "        for elem in loop:\n",
    "            cur = result_graph.edges[elem[0], elem[1], 0]['probability']\n",
    "            opposite = result_graph.edges[elem[1], elem[0], 0]['probability']\n",
    "            unused = 1 - cur - opposite\n",
    "            scaler = 0.7\n",
    "            if cur > opposite:\n",
    "                p1 = result_graph.nodes[elem[0]]['position']\n",
    "                arr1 = np.array([p1.x,p1.y])\n",
    "                p2 = result_graph.nodes[elem[1]]['position']\n",
    "                arr2 = np.array([p2.x,p2.y])\n",
    "                direction = (arr2-arr1) / np.linalg.norm(arr2 - arr1)\n",
    "                mag = np.linalg.norm(arr2 - arr1)*scaler\n",
    "                dx, dy = mag*direction\n",
    "            else:\n",
    "                p1 = result_graph.nodes[elem[1]]['position']\n",
    "                arr1 = np.array([p1.x,p1.y])\n",
    "                p2 = result_graph.nodes[elem[0]]['position']\n",
    "                arr2 = np.array([p2.x,p2.y])\n",
    "                direction = (arr2-arr1) / np.linalg.norm(arr2 - arr1)\n",
    "                mag = np.linalg.norm(arr2 - arr1)*scaler\n",
    "                dx, dy = mag*direction\n",
    "\n",
    "            plt.arrow(p1.y, p1.x, dy, dx, head_width = 0.4, alpha=0.5, color = 'grey', linewidth=1)\n",
    "    \n",
    "#         p = start_nodes[index]\n",
    "#         plt.scatter(nodes[p].y, nodes[p].x, color = 'red', linewidths=5)\n",
    "#         p = end_nodes[index]\n",
    "#         plt.scatter(nodes[p].y, nodes[p].x, color = 'lime', linewidths=5)\n",
    "#         name = './results/vordir_path'+ str(path_num)+'.png'\n",
    "#         plt.gca().invert_yaxis()\n",
    "#         plt.savefig(name)\n",
    "        \n",
    "    for p in start_nodes:\n",
    "        plt.scatter(nodes[p].y, nodes[p].x, color = 'red', linewidths=5)\n",
    "    for p in end_nodes:\n",
    "        plt.scatter(nodes[p].y, nodes[p].x, color = 'lime', linewidths=5)\n",
    "        \n",
    "#     name = './results/'+ str(15+2)+'.png'\n",
    "    plt.gca().invert_yaxis()\n",
    "#     plt.savefig(name)\n",
    "    return fig"
   ]
  },
  {
   "cell_type": "code",
   "execution_count": null,
   "metadata": {
    "code_folding": [],
    "scrolled": false
   },
   "outputs": [],
   "source": [
    "showAccSolution(vordir_G0, \n",
    "                vordir_paths, \n",
    "                exp.image, \n",
    "                exp.nodes, \n",
    "                exp.start_nodes, \n",
    "                exp.end_nodes, \n",
    "                all_path = False, \n",
    "                path_num = 0) #path_num variables is unused"
   ]
  },
  {
   "cell_type": "code",
   "execution_count": null,
   "metadata": {},
   "outputs": [],
   "source": [
    "# from scipy.optimize import minimize, rosen, rosen_der\n",
    "# x0 = [1.3, 0.7, 0.8, 1.9, 1.2]\n",
    "# res = minimize(rosen, x0, method='Nelder-Mead', tol=1e-6)\n",
    "# res.x"
   ]
  },
  {
   "cell_type": "code",
   "execution_count": null,
   "metadata": {},
   "outputs": [],
   "source": [
    "# import numpy as np\n",
    "# from sklearn.linear_model import SGDRegressor\n",
    "# from sklearn.pipeline import make_pipeline\n",
    "# from sklearn.preprocessing import StandardScaler\n",
    "# n_samples, n_features = 10, 5\n",
    "# rng = np.random.RandomState(0)\n",
    "# y = rng.randn(n_samples)\n",
    "# X = rng.randn(n_samples, n_features)\n",
    "# # Always scale the input. The most convenient way is to use a pipeline.\n",
    "# reg = make_pipeline(StandardScaler(),\n",
    "#                     SGDRegressor(max_iter=1000, tol=1e-3))\n",
    "# reg.fit(X, y)"
   ]
  },
  {
   "cell_type": "code",
   "execution_count": null,
   "metadata": {},
   "outputs": [],
   "source": []
  },
  {
   "cell_type": "code",
   "execution_count": null,
   "metadata": {},
   "outputs": [],
   "source": [
    "# import numpy as np\n",
    "# from sklearn.linear_model import LinearRegression\n",
    "# from sklearn.compose import TransformedTargetRegressor\n",
    "# tt = TransformedTargetRegressor(regressor=SGDRegressor(max_iter=1000, tol=1e-3),\n",
    "#                                 func=np.log, inverse_func=np.exp)\n",
    "# X = np.arange(4).reshape(-1, 1)\n",
    "# y = np.exp(2 * X).ravel()\n",
    "# tt.fit(X, y)\n",
    "\n",
    "# tt.score(X, y)\n",
    "\n",
    "# tt.regressor_.coef_"
   ]
  },
  {
   "cell_type": "code",
   "execution_count": null,
   "metadata": {},
   "outputs": [],
   "source": []
  }
 ],
 "metadata": {
  "kernelspec": {
   "display_name": "Python 3",
   "language": "python",
   "name": "python3"
  },
  "language_info": {
   "codemirror_mode": {
    "name": "ipython",
    "version": 3
   },
   "file_extension": ".py",
   "mimetype": "text/x-python",
   "name": "python",
   "nbconvert_exporter": "python",
   "pygments_lexer": "ipython3",
   "version": "3.6.12"
  }
 },
 "nbformat": 4,
 "nbformat_minor": 2
}
