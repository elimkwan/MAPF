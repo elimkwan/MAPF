{
 "cells": [
  {
   "cell_type": "code",
   "execution_count": 1,
   "metadata": {},
   "outputs": [],
   "source": [
    "import BayesianOptimisation.expGrid as expGrid\n",
    "import BayesianOptimisation.expVoronoi as expVoronoi\n",
    "import BayesianOptimisation.bo2VoronoiDirected as bo2VoronoiDirected\n",
    "import BayesianOptimisation.experiment_setup as experiment\n",
    "from core.DataStructure import *\n",
    "\n",
    "from importlib import reload\n",
    "import numpy as np\n",
    "import pandas as pd\n",
    "import seaborn as sb\n",
    "import matplotlib.pyplot as plt\n",
    "import matplotlib.patches as patches\n",
    "from matplotlib.patches import Rectangle\n",
    "import copy\n",
    "import time\n",
    "import os\n",
    "import itertools\n",
    "\n",
    "from scipy.optimize import minimize, Bounds\n",
    "import tensorflow as tf\n",
    "from tensorflow import keras\n",
    "from tensorflow.keras.layers import Conv2D, MaxPooling2D, Dense, Flatten, Dropout, Reshape\n",
    "from tensorflow.keras.utils import plot_model\n",
    "from sklearn.model_selection import train_test_split\n",
    "\n",
    "# Constant\n",
    "np.random.seed(9)\n",
    "NUM_SAMPLE = 50\n",
    "\n",
    "COLOUR = itertools.cycle(['#00FFFF', '#6495ED', '#89CFF0', '#0000FF', '#7393B3', '#088F8F', \n",
    "                          '#0096FF', '#0047AB', '#00FFFF', '#00008B', '#6F8FAF',\n",
    "                          '#1434A4', '#7DF9FF', '#6082B6', '#00A36C', '#5D3FD3',\n",
    "                          '#ADD8E6'])"
   ]
  },
  {
   "cell_type": "code",
   "execution_count": 2,
   "metadata": {
    "code_folding": [
     1
    ]
   },
   "outputs": [],
   "source": [
    "# Updated Get Coverage, take into account of obs now\n",
    "def getCoverage(exp, G, directed = False, save_fig_path = None):\n",
    "    total_area = 0\n",
    "    total_dist = 0\n",
    "    assigned = {}\n",
    "    fig, ax = plt.subplots(figsize=(6,6))\n",
    "    plt.xlim(0,exp.image.shape[1])\n",
    "    plt.ylim(0,exp.image.shape[0])\n",
    "    count = 0\n",
    "    \n",
    "    for o in exp.obstacles_loc:\n",
    "        adjustedx, adjustedy = o[1],o[0]\n",
    "        rect = Rectangle((adjustedx-0.5,adjustedy-0.5),1,1,linewidth=0.1,fill=True, angle = 0, color = 'black')\n",
    "        plt.gca().add_patch(rect)\n",
    "    im = fig\n",
    "    im.canvas.draw()\n",
    "    X = np.array(im.canvas.renderer._renderer)\n",
    "    X_reshape = X.reshape((-1,4))\n",
    "    X_reshape = np.delete(X_reshape, [1,2,3], axis = 1)\n",
    "    obs_black = np.count_nonzero(X_reshape == 0)\n",
    "    print(\"Obstacle Black\", obs_black)\n",
    "    \n",
    "    for n in G.nodes:\n",
    "        for e in G.neighbors(n):\n",
    "            if n != e and frozenset((n, e)) not in assigned.keys():\n",
    "                \n",
    "                p1 = G.nodes[n]['position']\n",
    "                p2 = G.nodes[e]['position']\n",
    "                \n",
    "                if (directed):\n",
    "                    d = G.edges[n,e,0]['distance']\n",
    "                    c = G.edges[n,e,0]['capacity']*exp.ROBOT_RADIUS\n",
    "                else:\n",
    "                    d = G.edges[n,e]['distance']\n",
    "                    c = G.edges[n,e]['capacity']*exp.ROBOT_RADIUS\n",
    "                \n",
    "                \n",
    "                assigned[frozenset((n, e))] = 1\n",
    "\n",
    "                adjustp1 = Point(p1.y, p1.x)\n",
    "                adjustp2 = Point(p2.y, p2.x)\n",
    "\n",
    "                refpt1 = adjustp1 if adjustp1.y <= adjustp2.y else adjustp2\n",
    "                refpt2 = adjustp1 if adjustp1.y > adjustp2.y else adjustp2\n",
    "\n",
    "                if refpt1.x >= refpt2.x:\n",
    "                    theta_rot = np.pi - np.arctan(abs(refpt1.y - refpt2.y)/abs(refpt1.x - refpt2.x))\n",
    "                else:\n",
    "                    theta_rot = np.arctan(abs(refpt1.y - refpt2.y)/abs(refpt1.x - refpt2.x))\n",
    "\n",
    "                if theta_rot >= np.pi/2:\n",
    "                    theta = theta_rot - np.pi/2\n",
    "                else:\n",
    "                    theta = theta_rot + np.pi/2\n",
    "\n",
    "                dy = -(c/2)*np.sin(theta)\n",
    "                if refpt1.y == refpt2.y:\n",
    "                    dx = 0\n",
    "                    width = d\n",
    "                    height = c\n",
    "                    a = 0\n",
    "                elif refpt1.x > refpt2.x:\n",
    "                    dx = -(c/2)*np.cos(theta)\n",
    "                    width = c\n",
    "                    height = d\n",
    "                    a = (theta) * 180 / np.pi\n",
    "                elif refpt1.x == refpt2.x:\n",
    "                    dx = -(c/2)\n",
    "                    width = c\n",
    "                    height = d\n",
    "                    a = 0\n",
    "                else:\n",
    "                    dx = (c/2)*np.cos(np.pi - theta)\n",
    "                    width = d\n",
    "                    height = c\n",
    "                    a = (theta_rot) * 180 / np.pi\n",
    "                    \n",
    "                print_colour = 'blue' if save_fig_path != None else 'black'\n",
    "                rect = Rectangle((refpt1.x+dx,refpt1.y+dy),width,height,linewidth=0.1,fill=True, angle = a,color = print_colour )\n",
    "                plt.gca().add_patch(rect)\n",
    "                count +=1\n",
    "\n",
    "    ax.axis('off')\n",
    "    if save_fig_path != None:\n",
    "        plt.savefig(save_fig_path)\n",
    "\n",
    "    im = fig\n",
    "    im.canvas.draw()\n",
    "    X = np.array(im.canvas.renderer._renderer)\n",
    "    X_reshape = X.reshape((-1,4))\n",
    "    X_reshape = np.delete(X_reshape, [1,2,3], axis = 1)\n",
    "    black = np.count_nonzero(X_reshape == 0)\n",
    "    white= np.count_nonzero(X_reshape == 255)\n",
    "    percentage = (black-obs_black)/(white+black-obs_black)\n",
    "\n",
    "    return percentage"
   ]
  },
  {
   "cell_type": "code",
   "execution_count": 3,
   "metadata": {
    "code_folding": [
     0
    ]
   },
   "outputs": [],
   "source": [
    "def showVorSolution(\n",
    "    paths = None,\n",
    "    graph = None, \n",
    "    exp = None, \n",
    "    save_fig_path = None):\n",
    "    \n",
    "    fig, ax = plt.subplots(figsize=(12,12))\n",
    "    img = np.array(1-exp.image)\n",
    "    ax = sb.heatmap(img)\n",
    "    colors = copy.deepcopy(COLOUR)\n",
    "    \n",
    "    for agent, path in enumerate(paths):\n",
    "        colour = next(colors)\n",
    "        for t, n in enumerate(path):\n",
    "            if t == 0:\n",
    "                continue\n",
    "            past_n = path[t-1]\n",
    "            \n",
    "            p2 = graph.nodes[n]['position']\n",
    "            p1 = graph.nodes[past_n]['position']\n",
    "            \n",
    "            plt.plot([p1.y,p2.y], [p1.x, p2.x], alpha=0.9, color = colour, linewidth=2)\n",
    "        if np.all(graph.nodes[n]['position'] == exp.end_locations[agent]):\n",
    "            break\n",
    "\n",
    "    for p in exp.start_nodes:\n",
    "        plt.scatter(exp.nodes[p].y, exp.nodes[p].x, s=80, facecolors='none', edgecolors='r')\n",
    "    for p in exp.end_nodes:\n",
    "        plt.scatter(exp.nodes[p].y, exp.nodes[p].x, s=80, facecolors='r', edgecolors='r')\n",
    "\n",
    "    \n",
    "    plt.gca().invert_yaxis()\n",
    "#     plt.savefig(save_fig_path)\n",
    "    return fig"
   ]
  },
  {
   "cell_type": "code",
   "execution_count": 4,
   "metadata": {},
   "outputs": [],
   "source": [
    "DATASET = 1\n",
    "OBJECTIVE = 'Both'\n",
    "NUM_AGENT = 2"
   ]
  },
  {
   "cell_type": "code",
   "execution_count": 5,
   "metadata": {},
   "outputs": [
    {
     "name": "stdout",
     "output_type": "stream",
     "text": [
      "Set Hyper Parameters, solving for 2 agents\n"
     ]
    }
   ],
   "source": [
    "scenemap = \"./input/random-32-32-10/random-32-32-10.map\"\n",
    "scene = \"./input/random-32-32-10/scen-even/random-32-32-10-even-\" + str(DATASET) + \".scen\"\n",
    "exp = experiment.Experiment(scenemap=scenemap, scene=scene, objective= OBJECTIVE, num_agent=NUM_AGENT)\n",
    "exp.setParameters()"
   ]
  },
  {
   "cell_type": "code",
   "execution_count": null,
   "metadata": {},
   "outputs": [],
   "source": [
    "scenemap = \"./input/same_density/den101d/den101d.map\"\n",
    "scene = \"./input/same_density/den101d/den101d.scen\"\n",
    "exp2 = experiment.Experiment(scenemap=scenemap, scene=scene, objective= OBJECTIVE, num_agent=NUM_AGENT)\n",
    "exp2.setParameters()"
   ]
  },
  {
   "cell_type": "code",
   "execution_count": null,
   "metadata": {},
   "outputs": [],
   "source": [
    " # Voronoi\n",
    "vor_paths,vor_cost,vor_penality,vor_ft, vor_u1, vor_u2, vor_con, vor_conmax, vor_conavg, vor_G = expVoronoi.exp_voronoi(exp2)\n",
    "assert exp2.NUM_OF_AGENT == NUM_AGENT # raise error if cant find that many agent"
   ]
  },
  {
   "cell_type": "code",
   "execution_count": null,
   "metadata": {
    "scrolled": true
   },
   "outputs": [],
   "source": [
    "vor_u2 = getCoverage(exp2,vor_G)"
   ]
  },
  {
   "cell_type": "code",
   "execution_count": null,
   "metadata": {},
   "outputs": [],
   "source": [
    "# _ = showVorSolution(\n",
    "#     paths=vor_paths, \n",
    "#     graph=vor_G,\n",
    "#     exp=exp2)"
   ]
  },
  {
   "cell_type": "code",
   "execution_count": 5,
   "metadata": {
    "code_folding": [
     0
    ]
   },
   "outputs": [],
   "source": [
    "def count_obs_density(scene_map=\"./input/random-32-32-10/random-32-32-10.map\"):\n",
    "    f = open(scene_map, \"r\")\n",
    "    lines = f.readlines()\n",
    "    f.close()\n",
    "    \n",
    "    height = int(lines[1].split()[1])\n",
    "    width = int(lines[2].split()[1])\n",
    "    \n",
    "    obstacles = []\n",
    "    boundary = 0\n",
    "    obs = 0\n",
    "    free_space = 0\n",
    "    for index in range (4, 4+height):\n",
    "        cur_line = bytes(lines[index],'utf-8')\n",
    "        k = np.array(list(cur_line), dtype = np.unicode)\n",
    "        k = k[:width]\n",
    "\n",
    "        a = np.array(np.where(k == '64'))\n",
    "        b = np.array(np.where(k == '84'))\n",
    "        c = np.array(np.where(k == '46'))\n",
    "        \n",
    "        boundary += a.shape[1]\n",
    "        obs += b.shape[1]\n",
    "        free_space += c.shape[1]\n",
    "        \n",
    "#     print(boundary, obs, free_space)\n",
    "    print(\"Require\", (obs+free_space)*0.45-obs)\n",
    "        \n",
    "    if scene_map == \"./input/random-32-32-10/random-32-32-10.map\":\n",
    "        return boundary/(boundary+free_space)\n",
    "        \n",
    "    return obs/(obs+free_space)\n",
    "                                    "
   ]
  },
  {
   "cell_type": "code",
   "execution_count": 7,
   "metadata": {},
   "outputs": [
    {
     "name": "stdout",
     "output_type": "stream",
     "text": [
      "Require 22.950000000000045\n",
      "Require -109.44999999999999\n",
      "Require 48.10000000000002\n"
     ]
    },
    {
     "data": {
      "text/plain": [
       "0.383008356545961"
      ]
     },
     "execution_count": 7,
     "metadata": {},
     "output_type": "execute_result"
    }
   ],
   "source": [
    "# scenemap = \"./input/random-32-32-10/random-32-32-10.map\"\n",
    "# density1 = count_obs_density(scene_map = scenemap)\n",
    "\n",
    "# scenemap2 = \"./input/same_density/den101d/den101d.map\"\n",
    "scenemap2 = \"./input/probable/den101d.map\"\n",
    "# scene2 = \"./input/same_density/den101d/den101d.scen\"\n",
    "density2 = count_obs_density(scene_map = scenemap2)\n",
    "\n",
    "# scenemap3 = \"./input/same_density/lak109d/lak109d.map\"\n",
    "scenemap3 = \"./input/probable/lak109d.map\"\n",
    "# scene3 = \"./input/same_density/lak109d/lak109d.scen\"\n",
    "density3 = count_obs_density(scene_map = scenemap3)\n",
    "\n",
    "# scenemap4 = \"./input/same_density/lak105d/lak105d.map\"\n",
    "scenemap4 = \"./input/probable/lak105d.map\"\n",
    "# scene4 = \"./input/same_density/lak105d/lak105d.scen\"\n",
    "density4 = count_obs_density(scene_map = scenemap4)\n",
    "density4"
   ]
  },
  {
   "cell_type": "code",
   "execution_count": 21,
   "metadata": {},
   "outputs": [
    {
     "data": {
      "text/plain": [
       "0.4405594405594406"
      ]
     },
     "execution_count": 21,
     "metadata": {},
     "output_type": "execute_result"
    }
   ],
   "source": [
    "density2"
   ]
  },
  {
   "cell_type": "code",
   "execution_count": 22,
   "metadata": {
    "scrolled": true
   },
   "outputs": [
    {
     "data": {
      "text/plain": [
       "0.5942028985507246"
      ]
     },
     "execution_count": 22,
     "metadata": {},
     "output_type": "execute_result"
    }
   ],
   "source": [
    "density3"
   ]
  },
  {
   "cell_type": "code",
   "execution_count": 23,
   "metadata": {},
   "outputs": [
    {
     "data": {
      "text/plain": [
       "0.4510050251256281"
      ]
     },
     "execution_count": 23,
     "metadata": {},
     "output_type": "execute_result"
    }
   ],
   "source": [
    "density4"
   ]
  },
  {
   "cell_type": "code",
   "execution_count": 21,
   "metadata": {},
   "outputs": [
    {
     "name": "stdout",
     "output_type": "stream",
     "text": [
      "cant find enough start end pair\n",
      "Set Hyper Parameters, solving for 0 agents\n"
     ]
    }
   ],
   "source": [
    "scenemap = \"./input/probable/lak105d.map\"\n",
    "scene = \"./input/same_density/lak105d/lak105d.scen\"\n",
    "exp2 = experiment.Experiment(scenemap=scenemap, scene=scene, objective= OBJECTIVE, num_agent=17)\n",
    "exp2.setParameters()"
   ]
  },
  {
   "cell_type": "code",
   "execution_count": 22,
   "metadata": {},
   "outputs": [
    {
     "data": {
      "image/png": "[encoded data removed]",
      "text/plain": [
       "<Figure size 864x864 with 2 Axes>"
      ]
     },
     "metadata": {
      "needs_background": "light"
     },
     "output_type": "display_data"
    }
   ],
   "source": [
    "fig, ax = plt.subplots(figsize=(12,12))\n",
    "ax = sb.heatmap(1-exp2.image)\n",
    "plt.gca().invert_yaxis()"
   ]
  },
  {
   "cell_type": "code",
   "execution_count": null,
   "metadata": {},
   "outputs": [],
   "source": []
  },
  {
   "cell_type": "code",
   "execution_count": 41,
   "metadata": {},
   "outputs": [
    {
     "data": {
      "image/png": "[encoded data removed]",
      "text/plain": [
       "<Figure size 864x864 with 2 Axes>"
      ]
     },
     "metadata": {
      "needs_background": "light"
     },
     "output_type": "display_data"
    }
   ],
   "source": [
    "fig, ax = plt.subplots(figsize=(12,12))\n",
    "ax = sb.heatmap(1-exp2.image)\n",
    "plt.gca().invert_yaxis()"
   ]
  },
  {
   "cell_type": "code",
   "execution_count": 39,
   "metadata": {},
   "outputs": [
    {
     "data": {
      "image/png": "[encoded data removed]",
      "text/plain": [
       "<Figure size 864x864 with 2 Axes>"
      ]
     },
     "metadata": {
      "needs_background": "light"
     },
     "output_type": "display_data"
    }
   ],
   "source": [
    "fig, ax = plt.subplots(figsize=(12,12))\n",
    "ax = sb.heatmap(1-exp2.image)\n",
    "plt.gca().invert_yaxis()"
   ]
  },
  {
   "cell_type": "code",
   "execution_count": 36,
   "metadata": {},
   "outputs": [
    {
     "data": {
      "image/png": "[encoded data removed]",
      "text/plain": [
       "<Figure size 864x864 with 2 Axes>"
      ]
     },
     "metadata": {
      "needs_background": "light"
     },
     "output_type": "display_data"
    }
   ],
   "source": [
    "fig, ax = plt.subplots(figsize=(12,12))\n",
    "ax = sb.heatmap(1-exp2.image)\n",
    "plt.gca().invert_yaxis()"
   ]
  },
  {
   "cell_type": "code",
   "execution_count": null,
   "metadata": {},
   "outputs": [],
   "source": []
  }
 ],
 "metadata": {
  "kernelspec": {
   "display_name": "Python 3",
   "language": "python",
   "name": "python3"
  },
  "language_info": {
   "codemirror_mode": {
    "name": "ipython",
    "version": 3
   },
   "file_extension": ".py",
   "mimetype": "text/x-python",
   "name": "python",
   "nbconvert_exporter": "python",
   "pygments_lexer": "ipython3",
   "version": "3.6.12"
  }
 },
 "nbformat": 4,
 "nbformat_minor": 2
}
