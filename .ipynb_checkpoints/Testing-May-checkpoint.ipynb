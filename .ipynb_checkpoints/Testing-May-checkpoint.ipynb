{
 "cells": [
  {
   "cell_type": "code",
   "execution_count": 1,
   "metadata": {},
   "outputs": [],
   "source": [
    "import BayesianOptimisation.boVoronoiDirected as boVoronoiDirected\n",
    "import BayesianOptimisation.expGrid as expGrid\n",
    "import BayesianOptimisation.expVoronoi as expVoronoi\n",
    "import BayesianOptimisation.optVoronoiDirected as optVoronoiDirected\n",
    "import BayesianOptimisation.experiment_setup as experiment\n",
    "from core.DataStructure import *\n",
    "\n",
    "from importlib import reload\n",
    "import numpy as np\n",
    "import pandas as pd\n",
    "import seaborn as sb\n",
    "import matplotlib.pyplot as plt\n",
    "import matplotlib.patches as patches\n",
    "from matplotlib.patches import Rectangle\n",
    "import copy"
   ]
  },
  {
   "cell_type": "code",
   "execution_count": 61,
   "metadata": {},
   "outputs": [],
   "source": [
    "from scipy.optimize import minimize, Bounds\n",
    "import tensorflow as tf\n",
    "from tensorflow import keras\n",
    "from tensorflow.keras.layers import Conv2D, MaxPooling2D, Dense, Flatten, Dropout, Reshape\n",
    "from tensorflow.keras.utils import plot_model\n",
    "np.random.seed(42)"
   ]
  },
  {
   "cell_type": "code",
   "execution_count": null,
   "metadata": {
    "scrolled": false
   },
   "outputs": [],
   "source": [
    "reload(optVoronoiDirected)"
   ]
  },
  {
   "cell_type": "code",
   "execution_count": 3,
   "metadata": {},
   "outputs": [
    {
     "name": "stdout",
     "output_type": "stream",
     "text": [
      "Set Hyper Parameters, solving for 10 agents\n",
      "Generating Data, Sample  0\n",
      "Global cost [83.83858830089962]\n",
      "Generating Data, Sample  1\n",
      "Global cost [82.12120580382471]\n",
      "Generating Data, Sample  2\n",
      "Global cost [80.28737241008734]\n",
      "Generating Data, Sample  3\n",
      "Global cost [83.20550202445975]\n",
      "Generating Data, Sample  4\n",
      "Global cost [83.239082456866]\n",
      "Generating Data, Sample  5\n",
      "Global cost [83.78501134115966]\n",
      "Generating Data, Sample  6\n",
      "Global cost [80.72474455183081]\n",
      "Generating Data, Sample  7\n",
      "Global cost [82.96214239331907]\n",
      "Generating Data, Sample  8\n",
      "Global cost [81.96575550565989]\n",
      "Generating Data, Sample  9\n",
      "Global cost [83.58188217573161]\n",
      "(10, 989)\n",
      "(10,)\n"
     ]
    }
   ],
   "source": [
    "# scene = \"./input/random-32-32-10/scen-even/random-32-32-10-even-\" + str(0) + \".scen\"\n",
    "# exp = experiment.Experiment(scene=scene)\n",
    "X, y = optVoronoiDirected.opt_voronoi_directed(exp)"
   ]
  },
  {
   "cell_type": "code",
   "execution_count": 97,
   "metadata": {},
   "outputs": [],
   "source": [
    "np.random.seed(42)\n",
    "tf.random.set_seed(42)\n",
    "model = keras.models.Sequential([\n",
    "    Dense(units=989, activation='relu', input_shape=(989,1)),\n",
    "    Dense(units=128, activation='relu',),\n",
    "    Dense(units=1, activation='sigmoid'),\n",
    "])"
   ]
  },
  {
   "cell_type": "code",
   "execution_count": 99,
   "metadata": {},
   "outputs": [
    {
     "name": "stdout",
     "output_type": "stream",
     "text": [
      "1/1 [==============================] - 0s 1ms/step - loss: -0.1656 - accuracy: 0.0000e+00\n"
     ]
    }
   ],
   "source": [
    "model.compile(\n",
    "    loss=\"binary_crossentropy\", \n",
    "    optimizer=\"adam\",\n",
    "    metrics=[\"accuracy\"])\n",
    "\n",
    "history = model.fit(X.reshape(10,989,1), \n",
    "    y, \n",
    "    epochs=1)"
   ]
  },
  {
   "cell_type": "code",
   "execution_count": 100,
   "metadata": {},
   "outputs": [
    {
     "name": "stdout",
     "output_type": "stream",
     "text": [
      "Model: \"sequential_9\"\n",
      "_________________________________________________________________\n",
      "Layer (type)                 Output Shape              Param #   \n",
      "=================================================================\n",
      "dense_30 (Dense)             (None, 989, 989)          1978      \n",
      "_________________________________________________________________\n",
      "dense_31 (Dense)             (None, 989, 128)          126720    \n",
      "_________________________________________________________________\n",
      "dense_32 (Dense)             (None, 989, 1)            129       \n",
      "=================================================================\n",
      "Total params: 128,827\n",
      "Trainable params: 128,827\n",
      "Non-trainable params: 0\n",
      "_________________________________________________________________\n"
     ]
    }
   ],
   "source": [
    "model.summary()"
   ]
  },
  {
   "cell_type": "code",
   "execution_count": 93,
   "metadata": {},
   "outputs": [
    {
     "data": {
      "text/plain": [
       "(989,)"
      ]
     },
     "execution_count": 93,
     "metadata": {},
     "output_type": "execute_result"
    }
   ],
   "source": [
    "X[0].shape"
   ]
  },
  {
   "cell_type": "code",
   "execution_count": 95,
   "metadata": {},
   "outputs": [
    {
     "data": {
      "text/plain": [
       "(989, 1)"
      ]
     },
     "execution_count": 95,
     "metadata": {},
     "output_type": "execute_result"
    }
   ],
   "source": [
    "model.predict(X[0]).shape"
   ]
  },
  {
   "cell_type": "code",
   "execution_count": 81,
   "metadata": {},
   "outputs": [
    {
     "ename": "ValueError",
     "evalue": "setting an array element with a sequence.",
     "output_type": "error",
     "traceback": [
      "\u001b[0;31m--------------------------------------------------------------------------\u001b[0m",
      "\u001b[0;31mTypeError\u001b[0m                                Traceback (most recent call last)",
      "\u001b[0;31mTypeError\u001b[0m: only size-1 arrays can be converted to Python scalars",
      "\nThe above exception was the direct cause of the following exception:\n",
      "\u001b[0;31mValueError\u001b[0m                               Traceback (most recent call last)",
      "\u001b[0;32m<ipython-input-81-8f4e0cd8ade4>\u001b[0m in \u001b[0;36m<module>\u001b[0;34m\u001b[0m\n\u001b[1;32m      4\u001b[0m     \u001b[0;34m'gtol'\u001b[0m\u001b[0;34m:\u001b[0m \u001b[0;36m1e-05\u001b[0m\u001b[0;34m,\u001b[0m \u001b[0;34m'eps'\u001b[0m\u001b[0;34m:\u001b[0m \u001b[0;36m0.1\u001b[0m\u001b[0;34m,\u001b[0m \u001b[0;34m'maxfun'\u001b[0m\u001b[0;34m:\u001b[0m \u001b[0;36m1000\u001b[0m\u001b[0;34m,\u001b[0m\u001b[0;34m\u001b[0m\u001b[0;34m\u001b[0m\u001b[0m\n\u001b[1;32m      5\u001b[0m     \u001b[0;34m'maxiter'\u001b[0m\u001b[0;34m:\u001b[0m \u001b[0;36m10\u001b[0m\u001b[0;34m,\u001b[0m \u001b[0;34m'iprint'\u001b[0m\u001b[0;34m:\u001b[0m \u001b[0;34m-\u001b[0m \u001b[0;36m1\u001b[0m\u001b[0;34m,\u001b[0m \u001b[0;34m'maxls'\u001b[0m\u001b[0;34m:\u001b[0m \u001b[0;36m20\u001b[0m\u001b[0;34m,\u001b[0m\u001b[0;34m\u001b[0m\u001b[0;34m\u001b[0m\u001b[0m\n\u001b[0;32m----> 6\u001b[0;31m     'finite_diff_rel_step': None})\n\u001b[0m",
      "\u001b[0;32m~/anaconda3/envs/ML-PhyWorld/lib/python3.6/site-packages/scipy/optimize/_minimize.py\u001b[0m in \u001b[0;36mminimize\u001b[0;34m(fun, x0, args, method, jac, hess, hessp, bounds, constraints, tol, callback, options)\u001b[0m\n\u001b[1;32m    601\u001b[0m     \u001b[0;32melif\u001b[0m \u001b[0mmeth\u001b[0m \u001b[0;34m==\u001b[0m \u001b[0;34m'l-bfgs-b'\u001b[0m\u001b[0;34m:\u001b[0m\u001b[0;34m\u001b[0m\u001b[0;34m\u001b[0m\u001b[0m\n\u001b[1;32m    602\u001b[0m         return _minimize_lbfgsb(fun, x0, args, jac, bounds,\n\u001b[0;32m--> 603\u001b[0;31m                                 callback=callback, **options)\n\u001b[0m\u001b[1;32m    604\u001b[0m     \u001b[0;32melif\u001b[0m \u001b[0mmeth\u001b[0m \u001b[0;34m==\u001b[0m \u001b[0;34m'tnc'\u001b[0m\u001b[0;34m:\u001b[0m\u001b[0;34m\u001b[0m\u001b[0;34m\u001b[0m\u001b[0m\n\u001b[1;32m    605\u001b[0m         return _minimize_tnc(fun, x0, args, jac, bounds, callback=callback,\n",
      "\u001b[0;32m~/anaconda3/envs/ML-PhyWorld/lib/python3.6/site-packages/scipy/optimize/lbfgsb.py\u001b[0m in \u001b[0;36m_minimize_lbfgsb\u001b[0;34m(fun, x0, args, jac, bounds, disp, maxcor, ftol, gtol, eps, maxfun, maxiter, iprint, callback, maxls, **unknown_options)\u001b[0m\n\u001b[1;32m    333\u001b[0m             \u001b[0;31m# until the completion of the current minimization iteration.\u001b[0m\u001b[0;34m\u001b[0m\u001b[0;34m\u001b[0m\u001b[0;34m\u001b[0m\u001b[0m\n\u001b[1;32m    334\u001b[0m             \u001b[0;31m# Overwrite f and g:\u001b[0m\u001b[0;34m\u001b[0m\u001b[0;34m\u001b[0m\u001b[0;34m\u001b[0m\u001b[0m\n\u001b[0;32m--> 335\u001b[0;31m             \u001b[0mf\u001b[0m\u001b[0;34m,\u001b[0m \u001b[0mg\u001b[0m \u001b[0;34m=\u001b[0m \u001b[0mfunc_and_grad\u001b[0m\u001b[0;34m(\u001b[0m\u001b[0mx\u001b[0m\u001b[0;34m)\u001b[0m\u001b[0;34m\u001b[0m\u001b[0;34m\u001b[0m\u001b[0m\n\u001b[0m\u001b[1;32m    336\u001b[0m         \u001b[0;32melif\u001b[0m \u001b[0mtask_str\u001b[0m\u001b[0;34m.\u001b[0m\u001b[0mstartswith\u001b[0m\u001b[0;34m(\u001b[0m\u001b[0;34mb'NEW_X'\u001b[0m\u001b[0;34m)\u001b[0m\u001b[0;34m:\u001b[0m\u001b[0;34m\u001b[0m\u001b[0;34m\u001b[0m\u001b[0m\n\u001b[1;32m    337\u001b[0m             \u001b[0;31m# new iteration\u001b[0m\u001b[0;34m\u001b[0m\u001b[0;34m\u001b[0m\u001b[0;34m\u001b[0m\u001b[0m\n",
      "\u001b[0;32m~/anaconda3/envs/ML-PhyWorld/lib/python3.6/site-packages/scipy/optimize/lbfgsb.py\u001b[0m in \u001b[0;36mfunc_and_grad\u001b[0;34m(x)\u001b[0m\n\u001b[1;32m    279\u001b[0m         \u001b[0;32mdef\u001b[0m \u001b[0mfunc_and_grad\u001b[0m\u001b[0;34m(\u001b[0m\u001b[0mx\u001b[0m\u001b[0;34m)\u001b[0m\u001b[0;34m:\u001b[0m\u001b[0;34m\u001b[0m\u001b[0;34m\u001b[0m\u001b[0m\n\u001b[1;32m    280\u001b[0m             \u001b[0mf\u001b[0m \u001b[0;34m=\u001b[0m \u001b[0mfun\u001b[0m\u001b[0;34m(\u001b[0m\u001b[0mx\u001b[0m\u001b[0;34m,\u001b[0m \u001b[0;34m*\u001b[0m\u001b[0margs\u001b[0m\u001b[0;34m)\u001b[0m\u001b[0;34m\u001b[0m\u001b[0;34m\u001b[0m\u001b[0m\n\u001b[0;32m--> 281\u001b[0;31m             \u001b[0mg\u001b[0m \u001b[0;34m=\u001b[0m \u001b[0m_approx_fprime_helper\u001b[0m\u001b[0;34m(\u001b[0m\u001b[0mx\u001b[0m\u001b[0;34m,\u001b[0m \u001b[0mfun\u001b[0m\u001b[0;34m,\u001b[0m \u001b[0mepsilon\u001b[0m\u001b[0;34m,\u001b[0m \u001b[0margs\u001b[0m\u001b[0;34m=\u001b[0m\u001b[0margs\u001b[0m\u001b[0;34m,\u001b[0m \u001b[0mf0\u001b[0m\u001b[0;34m=\u001b[0m\u001b[0mf\u001b[0m\u001b[0;34m)\u001b[0m\u001b[0;34m\u001b[0m\u001b[0;34m\u001b[0m\u001b[0m\n\u001b[0m\u001b[1;32m    282\u001b[0m             \u001b[0;32mreturn\u001b[0m \u001b[0mf\u001b[0m\u001b[0;34m,\u001b[0m \u001b[0mg\u001b[0m\u001b[0;34m\u001b[0m\u001b[0;34m\u001b[0m\u001b[0m\n\u001b[1;32m    283\u001b[0m     \u001b[0;32melse\u001b[0m\u001b[0;34m:\u001b[0m\u001b[0;34m\u001b[0m\u001b[0;34m\u001b[0m\u001b[0m\n",
      "\u001b[0;32m~/anaconda3/envs/ML-PhyWorld/lib/python3.6/site-packages/scipy/optimize/optimize.py\u001b[0m in \u001b[0;36m_approx_fprime_helper\u001b[0;34m(xk, f, epsilon, args, f0)\u001b[0m\n\u001b[1;32m    661\u001b[0m         \u001b[0mei\u001b[0m\u001b[0;34m[\u001b[0m\u001b[0mk\u001b[0m\u001b[0;34m]\u001b[0m \u001b[0;34m=\u001b[0m \u001b[0;36m1.0\u001b[0m\u001b[0;34m\u001b[0m\u001b[0;34m\u001b[0m\u001b[0m\n\u001b[1;32m    662\u001b[0m         \u001b[0md\u001b[0m \u001b[0;34m=\u001b[0m \u001b[0mepsilon\u001b[0m \u001b[0;34m*\u001b[0m \u001b[0mei\u001b[0m\u001b[0;34m\u001b[0m\u001b[0;34m\u001b[0m\u001b[0m\n\u001b[0;32m--> 663\u001b[0;31m         \u001b[0mgrad\u001b[0m\u001b[0;34m[\u001b[0m\u001b[0mk\u001b[0m\u001b[0;34m]\u001b[0m \u001b[0;34m=\u001b[0m \u001b[0;34m(\u001b[0m\u001b[0mf\u001b[0m\u001b[0;34m(\u001b[0m\u001b[0;34m*\u001b[0m\u001b[0;34m(\u001b[0m\u001b[0;34m(\u001b[0m\u001b[0mxk\u001b[0m \u001b[0;34m+\u001b[0m \u001b[0md\u001b[0m\u001b[0;34m,\u001b[0m\u001b[0;34m)\u001b[0m \u001b[0;34m+\u001b[0m \u001b[0margs\u001b[0m\u001b[0;34m)\u001b[0m\u001b[0;34m)\u001b[0m \u001b[0;34m-\u001b[0m \u001b[0mf0\u001b[0m\u001b[0;34m)\u001b[0m \u001b[0;34m/\u001b[0m \u001b[0md\u001b[0m\u001b[0;34m[\u001b[0m\u001b[0mk\u001b[0m\u001b[0;34m]\u001b[0m\u001b[0;34m\u001b[0m\u001b[0;34m\u001b[0m\u001b[0m\n\u001b[0m\u001b[1;32m    664\u001b[0m         \u001b[0mei\u001b[0m\u001b[0;34m[\u001b[0m\u001b[0mk\u001b[0m\u001b[0;34m]\u001b[0m \u001b[0;34m=\u001b[0m \u001b[0;36m0.0\u001b[0m\u001b[0;34m\u001b[0m\u001b[0;34m\u001b[0m\u001b[0m\n\u001b[1;32m    665\u001b[0m     \u001b[0;32mreturn\u001b[0m \u001b[0mgrad\u001b[0m\u001b[0;34m\u001b[0m\u001b[0;34m\u001b[0m\u001b[0m\n",
      "\u001b[0;31mValueError\u001b[0m: setting an array element with a sequence."
     ]
    }
   ],
   "source": [
    "res = minimize(model.predict, X[0], \n",
    "    method='L-BFGS-B', jac=None, bounds= None, tol=None, callback=None, \n",
    "    options={'disp': None, 'maxcor': 10, 'ftol': 2.220446049250313e-09, \n",
    "    'gtol': 1e-05, 'eps': 0.1, 'maxfun': 1000, \n",
    "    'maxiter': 10, 'iprint': - 1, 'maxls': 20, \n",
    "    'finite_diff_rel_step': None})"
   ]
  },
  {
   "cell_type": "code",
   "execution_count": null,
   "metadata": {},
   "outputs": [],
   "source": []
  },
  {
   "cell_type": "code",
   "execution_count": null,
   "metadata": {
    "code_folding": [
     0
    ]
   },
   "outputs": [],
   "source": [
    "def getCoverage(exp, G, directed = False):\n",
    "    total_area = 0\n",
    "    total_dist = 0\n",
    "    assigned = {}\n",
    "    fig, ax = plt.subplots(figsize=(6,6))\n",
    "    plt.xlim(0,34)\n",
    "    plt.ylim(0,34)\n",
    "    count = 0\n",
    "    for n in G.nodes:\n",
    "        for e in G.neighbors(n):\n",
    "            if n != e and frozenset((n, e)) not in assigned.keys():\n",
    "                \n",
    "                p1 = G.nodes[n]['position']\n",
    "                p2 = G.nodes[e]['position']\n",
    "                \n",
    "                if (directed):\n",
    "                    d = G.edges[n,e,0]['distance']\n",
    "                    c = G.edges[n,e,0]['capacity']\n",
    "                else:\n",
    "                    d = G.edges[n,e]['distance']\n",
    "                    c = G.edges[n,e]['capacity']\n",
    "                \n",
    "                \n",
    "                assigned[frozenset((n, e))] = 1\n",
    "\n",
    "                adjustp1 = Point(p1.y, p1.x)\n",
    "                adjustp2 = Point(p2.y, p2.x)\n",
    "\n",
    "                refpt1 = adjustp1 if adjustp1.y <= adjustp2.y else adjustp2\n",
    "                refpt2 = adjustp1 if adjustp1.y > adjustp2.y else adjustp2\n",
    "\n",
    "                if refpt1.x >= refpt2.x:\n",
    "                    theta_rot = np.pi - np.arctan(abs(refpt1.y - refpt2.y)/abs(refpt1.x - refpt2.x))\n",
    "                else:\n",
    "                    theta_rot = np.arctan(abs(refpt1.y - refpt2.y)/abs(refpt1.x - refpt2.x))\n",
    "\n",
    "                if theta_rot >= np.pi/2:\n",
    "                    theta = theta_rot - np.pi/2\n",
    "                else:\n",
    "                    theta = theta_rot + np.pi/2\n",
    "\n",
    "                dy = -(c/2)*np.sin(theta)\n",
    "                if refpt1.y == refpt2.y:\n",
    "                    dx = 0\n",
    "                    width = d\n",
    "                    height = c\n",
    "                    a = 0\n",
    "                elif refpt1.x > refpt2.x:\n",
    "                    dx = -(c/2)*np.cos(theta)\n",
    "                    width = c\n",
    "                    height = d\n",
    "                    a = (theta) * 180 / np.pi\n",
    "                elif refpt1.x == refpt2.x:\n",
    "                    dx = -(c/2)\n",
    "                    width = c\n",
    "                    height = d\n",
    "                    a = 0\n",
    "                else:\n",
    "                    dx = (c/2)*np.cos(np.pi - theta)\n",
    "                    width = d\n",
    "                    height = c\n",
    "                    a = (theta_rot) * 180 / np.pi\n",
    "                    \n",
    "\n",
    "                rect = Rectangle((refpt1.x+dx,refpt1.y+dy),width,height,linewidth=0.1,fill=True, angle = a,color = 'blue')\n",
    "                plt.gca().add_patch(rect)\n",
    "                count +=1\n",
    "\n",
    "    for o in exp.obstacles_loc:\n",
    "        adjustedx, adjustedy = o[1],o[0]\n",
    "        rect = Rectangle((adjustedx-0.5,adjustedy-0.5),1,1,linewidth=0.1,fill=True, angle = 0, color = 'black')\n",
    "        plt.gca().add_patch(rect)\n",
    "\n",
    "    ax.axis('off')\n",
    "\n",
    "    im = fig\n",
    "    im.canvas.draw()\n",
    "    X = np.array(im.canvas.renderer._renderer)\n",
    "    X_reshape = X.reshape((-1,4))\n",
    "    X_reshape = np.delete(X_reshape, [1,2,3], axis = 1)\n",
    "    black = np.count_nonzero(X_reshape == 0)\n",
    "    white= np.count_nonzero(X_reshape == 255)\n",
    "    print(\"Black px\", black, \"White px\", white)\n",
    "    percentage = black/(white+black)\n",
    "    return percentage\n"
   ]
  },
  {
   "cell_type": "code",
   "execution_count": null,
   "metadata": {},
   "outputs": [],
   "source": [
    "scene = \"./input/random-32-32-10/scen-even/random-32-32-10-even-\" + str(0) + \".scen\"\n",
    "exp = experiment.Experiment(scene=scene)\n",
    "# if not exp.initialised:\n",
    "#     exp.setParameters()\n",
    "vor_paths, vor_ft, vor_u1, vor_u2, vor_con, vor_conmax, vor_conavg, vor_G = expVoronoi.exp_voronoi(exp)"
   ]
  },
  {
   "cell_type": "code",
   "execution_count": null,
   "metadata": {},
   "outputs": [],
   "source": [
    "vor_u2 = getCoverage(exp,vor_G)"
   ]
  },
  {
   "cell_type": "code",
   "execution_count": null,
   "metadata": {},
   "outputs": [],
   "source": [
    "plt.imshow(exp.occupancy_grid._values)"
   ]
  },
  {
   "cell_type": "code",
   "execution_count": null,
   "metadata": {},
   "outputs": [],
   "source": []
  },
  {
   "cell_type": "code",
   "execution_count": null,
   "metadata": {},
   "outputs": [],
   "source": [
    "from scipy.optimize import minimize, rosen, rosen_der\n",
    "x0 = [1.3, 0.7, 0.8, 1.9, 1.2]\n",
    "res = minimize(rosen, x0, method='Nelder-Mead', tol=1e-6)\n",
    "res.x"
   ]
  },
  {
   "cell_type": "code",
   "execution_count": null,
   "metadata": {},
   "outputs": [],
   "source": [
    "# import numpy as np\n",
    "# from sklearn.linear_model import SGDRegressor\n",
    "# from sklearn.pipeline import make_pipeline\n",
    "# from sklearn.preprocessing import StandardScaler\n",
    "# n_samples, n_features = 10, 5\n",
    "# rng = np.random.RandomState(0)\n",
    "# y = rng.randn(n_samples)\n",
    "# X = rng.randn(n_samples, n_features)\n",
    "# # Always scale the input. The most convenient way is to use a pipeline.\n",
    "# reg = make_pipeline(StandardScaler(),\n",
    "#                     SGDRegressor(max_iter=1000, tol=1e-3))\n",
    "# reg.fit(X, y)"
   ]
  },
  {
   "cell_type": "code",
   "execution_count": null,
   "metadata": {},
   "outputs": [],
   "source": []
  },
  {
   "cell_type": "code",
   "execution_count": null,
   "metadata": {},
   "outputs": [],
   "source": [
    "# import numpy as np\n",
    "# from sklearn.linear_model import LinearRegression\n",
    "# from sklearn.compose import TransformedTargetRegressor\n",
    "# tt = TransformedTargetRegressor(regressor=SGDRegressor(max_iter=1000, tol=1e-3),\n",
    "#                                 func=np.log, inverse_func=np.exp)\n",
    "# X = np.arange(4).reshape(-1, 1)\n",
    "# y = np.exp(2 * X).ravel()\n",
    "# tt.fit(X, y)\n",
    "\n",
    "# tt.score(X, y)\n",
    "\n",
    "# tt.regressor_.coef_"
   ]
  },
  {
   "cell_type": "code",
   "execution_count": null,
   "metadata": {},
   "outputs": [],
   "source": []
  }
 ],
 "metadata": {
  "kernelspec": {
   "display_name": "Python 3",
   "language": "python",
   "name": "python3"
  },
  "language_info": {
   "codemirror_mode": {
    "name": "ipython",
    "version": 3
   },
   "file_extension": ".py",
   "mimetype": "text/x-python",
   "name": "python",
   "nbconvert_exporter": "python",
   "pygments_lexer": "ipython3",
   "version": "3.6.12"
  }
 },
 "nbformat": 4,
 "nbformat_minor": 2
}
